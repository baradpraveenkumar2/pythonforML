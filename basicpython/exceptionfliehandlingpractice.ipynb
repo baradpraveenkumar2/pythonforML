{
 "cells": [
  {
   "cell_type": "code",
   "execution_count": 3,
   "metadata": {},
   "outputs": [],
   "source": [
    "f_write= open(\"Atest1.txt\",'w')"
   ]
  },
  {
   "cell_type": "code",
   "execution_count": 12,
   "metadata": {},
   "outputs": [],
   "source": [
    "f = open('Atest1.txt', 'w')\n",
    "f.write('Hi praveen\\n')\n",
    "f.write('How are you\\n')\n",
    "f.write('amfine')\n",
    "f.write('will go and play \\n')\n",
    "f.close()"
   ]
  },
  {
   "cell_type": "code",
   "execution_count": 14,
   "metadata": {},
   "outputs": [
    {
     "name": "stdout",
     "output_type": "stream",
     "text": [
      "Hi praveen\n",
      "\n",
      "How are you\n",
      "\n",
      "amfinewill go and play \n",
      "\n"
     ]
    }
   ],
   "source": [
    "f = open('Atest1.txt', 'r')\n",
    "for i in f:\n",
    "    print(i)"
   ]
  },
  {
   "cell_type": "code",
   "execution_count": 2,
   "metadata": {},
   "outputs": [
    {
     "name": "stdout",
     "output_type": "stream",
     "text": [
      "Hi replaced_word\n",
      "\n",
      "How are you\n",
      "\n",
      "amfinewill go and play \n",
      "\n",
      "hfggh\n",
      "\n",
      "dsfsdfs\n"
     ]
    }
   ],
   "source": [
    "s = open(\"Atest1.txt\",'r')\n",
    "for line in s:     #line keyword in iteration \n",
    "    print(line)\n",
    "s.close()"
   ]
  },
  {
   "cell_type": "code",
   "execution_count": 15,
   "metadata": {},
   "outputs": [
    {
     "name": "stdout",
     "output_type": "stream",
     "text": [
      "1:Hi praveen\n"
     ]
    }
   ],
   "source": [
    "addmore = open(\"Atest1.txt\",'r')\n",
    "word = \"praveen\"\n",
    "for index,line in enumerate(addmore):\n",
    "    if word in line:\n",
    "        index +=1\n",
    "        print(f\"{index}:{line.strip()}\")\n",
    "        break\n",
    "\n",
    "       "
   ]
  },
  {
   "cell_type": "code",
   "execution_count": 8,
   "metadata": {},
   "outputs": [
    {
     "name": "stdout",
     "output_type": "stream",
     "text": [
      "6\n",
      "7\n",
      "8\n",
      "9\n",
      "10\n",
      "6\n",
      "7\n",
      "8\n",
      "9\n",
      "10\n",
      "6\n",
      "7\n",
      "8\n",
      "9\n",
      "10\n",
      "6\n",
      "7\n",
      "8\n",
      "9\n",
      "10\n",
      "6\n",
      "7\n",
      "8\n",
      "9\n",
      "10\n"
     ]
    }
   ],
   "source": [
    "\n",
    "with open('text.txt', 'a') as file:\n",
    "    file.write('6\\n')\n",
    "    file.write('7\\n')\n",
    "    file.write('8\\n')\n",
    "    file.write('9\\n')\n",
    "    file.write('10\\n')\n",
    "with open('text.txt', 'r') as file:\n",
    "    lines = file.readlines()\n",
    "    for line in lines:\n",
    "        print(line.strip())"
   ]
  },
  {
   "cell_type": "code",
   "execution_count": 5,
   "metadata": {},
   "outputs": [
    {
     "name": "stdout",
     "output_type": "stream",
     "text": [
      "The file contains 11 words.\n"
     ]
    }
   ],
   "source": [
    "\n",
    "with open(\"Atest1.txt\", \"r\") as file:\n",
    "    content = file.read()\n",
    "words = content.split()\n",
    "word_count = len(words)\n",
    "\n",
    "print(f\"The file contains {word_count} words.\")"
   ]
  },
  {
   "cell_type": "code",
   "execution_count": 6,
   "metadata": {},
   "outputs": [
    {
     "name": "stdout",
     "output_type": "stream",
     "text": [
      "The file contains 0 sentences.\n"
     ]
    }
   ],
   "source": [
    "\n",
    "with open(\"Atest1.txt\", \"r\") as file:\n",
    "    content = file.read()\n",
    "sentences = content.split(\". \")[1:-1]\n",
    "sentence_count = len(sentences)\n",
    "print(f\"The file contains {sentence_count} sentences.\")"
   ]
  },
  {
   "cell_type": "code",
   "execution_count": 63,
   "metadata": {},
   "outputs": [
    {
     "name": "stdout",
     "output_type": "stream",
     "text": [
      "1.0\n"
     ]
    }
   ],
   "source": [
    "value = 5\n",
    "secondvalue =5\n",
    "print(round(value/secondvalue, 2))"
   ]
  },
  {
   "cell_type": "code",
   "execution_count": 68,
   "metadata": {},
   "outputs": [
    {
     "name": "stdout",
     "output_type": "stream",
     "text": [
      "this is your bonus 7 this is your sal  24.1 increment 24.21 dept software\n"
     ]
    }
   ],
   "source": [
    "sal = 24.1\n",
    "bonus = 7\n",
    "increment = 24.21\n",
    "dept = \"software\"\n",
    "print(\"this is your bonus %d this is your sal  %g increment %g dept %s\"%(bonus,sal,increment,dept))"
   ]
  },
  {
   "cell_type": "code",
   "execution_count": 73,
   "metadata": {},
   "outputs": [
    {
     "name": "stdout",
     "output_type": "stream",
     "text": [
      "f:\\PRAXIS\\Term1\\DMP\n"
     ]
    },
    {
     "data": {
      "text/plain": [
       "['.ipynb_checkpoints',\n",
       " '.vscode',\n",
       " '10session1.ipynb',\n",
       " '10session2.ipynb',\n",
       " '10session3.ipynb',\n",
       " '10session4.ipynb',\n",
       " '10session5.ipynb',\n",
       " '10session6.ipynb',\n",
       " '10sessiondmp',\n",
       " '10sessiondmp.rar',\n",
       " 'Atest1.txt',\n",
       " 'debugg.py',\n",
       " 'forloop.ipynb',\n",
       " 'my practice',\n",
       " 'mylog.txt',\n",
       " 'openfile.txt',\n",
       " 'praveenpythonfiletimepasscandelete',\n",
       " 'sample problem practice.txt',\n",
       " 'Ses2',\n",
       " 'Session 1 - values and variables.ipynb',\n",
       " 'Session 2 - Conditional statements v 2.0.ipynb',\n",
       " 'Session 3 - multiple assignment, update variable, iteration v 3.0.ipynb',\n",
       " 'Session 5 Strings v2.0.ipynb',\n",
       " 'Session 6 - Exceptions, File handling.ipynb',\n",
       " 'Session 7 - Lists.ipynb',\n",
       " 'Session 8 - Dictionaries.ipynb',\n",
       " 'Session 9 - Tuples.ipynb',\n",
       " 'Session1',\n",
       " 'Session1.ipynb',\n",
       " 'session3class.ipynb',\n",
       " 'specifying parameter type in a UDF.ipynb',\n",
       " 'sri_ram.png',\n",
       " 'Untitled.ipynb',\n",
       " 'Untitled1.ipynb',\n",
       " 'user defined functions.ipynb',\n",
       " 'variable_t1']"
      ]
     },
     "execution_count": 73,
     "metadata": {},
     "output_type": "execute_result"
    }
   ],
   "source": [
    "import os\n",
    "cwd = os.getcwd()\n",
    "print(cwd)\n",
    "os.listdir()"
   ]
  },
  {
   "cell_type": "code",
   "execution_count": 77,
   "metadata": {},
   "outputs": [
    {
     "name": "stdout",
     "output_type": "stream",
     "text": [
      "[1, 2, 4, 'aaaa']\n"
     ]
    }
   ],
   "source": [
    "import pickle\n",
    "\n",
    "Pra = [1,2,4,\"aaaa\"]\n",
    "pickle.dump(Pra,(open('pra_name','wb')))\n",
    "kumar = pickle.load(open('pra_name','rb'))\n",
    "print(kumar)"
   ]
  },
  {
   "cell_type": "code",
   "execution_count": 120,
   "metadata": {},
   "outputs": [
    {
     "name": "stdout",
     "output_type": "stream",
     "text": [
      "Data list: [15, 8, 1947199]\n"
     ]
    }
   ],
   "source": [
    "import pickle\n",
    "\n",
    "def cnputx(my_list):\n",
    "        pickle.dump(my_list,open('inputs_a','wb'))\n",
    "\n",
    "def output():\n",
    "    data =pickle.load(open('inputs_a','rb'))\n",
    "    return data\n",
    "\n",
    "\n",
    "t1 = [15, 8, 1947199]\n",
    "cnputx(t1)\n",
    "print(\"Data list:\", output())"
   ]
  },
  {
   "cell_type": "code",
   "execution_count": 20,
   "metadata": {},
   "outputs": [
    {
     "name": "stdout",
     "output_type": "stream",
     "text": [
      "Data saved successfully.\n",
      "Key: a, Value: 2\n"
     ]
    }
   ],
   "source": [
    "import pickle\n",
    "\n",
    "def safe_dict_operations(operation):\n",
    "    my_dict = {}\n",
    "\n",
    "    if operation == \"store\":\n",
    "        while True:\n",
    "            try:\n",
    "                key = input(\"Enter a key: \")\n",
    "                if key in my_dict:\n",
    "                    print(\"Invalid key. Please enter a key that does not already exist in the dictionary.\")\n",
    "                    continue\n",
    "                value = input(\"Enter the corresponding value: \")\n",
    "                my_dict[key] = value\n",
    "                pickle.dump(my_dict, open('my_dict.pickle', 'wb'))\n",
    "                print(\"Data saved successfully.\")\n",
    "                break\n",
    "            except KeyError:\n",
    "                pass\n",
    "    elif operation == \"retrieve\":\n",
    "        try:\n",
    "            stored_dict = pickle.load(open('my_dict.pickle', 'rb'))\n",
    "            for key, value in stored_dict.items():\n",
    "                print(f\"Key: {key}, Value: {value}\")\n",
    "        except FileNotFoundError:\n",
    "            print(\"No stored dictionary found.\")\n",
    "\n",
    "\n",
    "safe_dict_operations(\"store\")\n",
    "safe_dict_operations(\"retrieve\")"
   ]
  },
  {
   "cell_type": "code",
   "execution_count": 86,
   "metadata": {},
   "outputs": [
    {
     "name": "stdout",
     "output_type": "stream",
     "text": [
      "initial praveen[1, 2, 3, 4] initial kumar[1, 2, 3, 4]\n",
      "2ndchange praveen[8, 2, 3, 4] 2ndchange kumar[8, 2, 3, 4]\n"
     ]
    }
   ],
   "source": [
    "praveen =[1,2,3,4]\n",
    "kumar = praveen\n",
    "print(f\"initial praveen{praveen} initial kumar{kumar}\")\n",
    "kumar[0] = 8\n",
    "print(f\"2ndchange praveen{praveen} 2ndchange kumar{kumar}\")\n",
    "\n"
   ]
  },
  {
   "cell_type": "code",
   "execution_count": 94,
   "metadata": {},
   "outputs": [
    {
     "name": "stdout",
     "output_type": "stream",
     "text": [
      "Number of lines: 5\n"
     ]
    }
   ],
   "source": [
    "try:\n",
    "    personal = open('Atest1.txt','r')\n",
    "    line_count = sum(1 for line in personal)\n",
    "    print(\"Number of lines:\", line_count)\n",
    "except FileNotFoundError:\n",
    "    print('Plese check the file name or filenot found')\n",
    "except Exception as e:\n",
    "    print('error occurred:', e)\n",
    "\n"
   ]
  },
  {
   "cell_type": "code",
   "execution_count": 106,
   "metadata": {},
   "outputs": [
    {
     "name": "stdout",
     "output_type": "stream",
     "text": [
      "syntax errors: [Errno 2] No such file or directory: 'Atesst1.txt'\n"
     ]
    }
   ],
   "source": [
    "try:\n",
    "    with open('Atest1.txt') as pravsfile:\n",
    "        for i, line in enumerate(pravsfile, 1):\n",
    "            if i > 10:\n",
    "                break\n",
    "            print(line)\n",
    "except FileNotFoundError:\n",
    "    print('filenotpresent')\n",
    "except Exception as e:\n",
    "    print('syntax errors:', e)"
   ]
  },
  {
   "cell_type": "code",
   "execution_count": 107,
   "metadata": {},
   "outputs": [
    {
     "name": "stdout",
     "output_type": "stream",
     "text": [
      "syntax errors: [Errno 2] No such file or directory: 'praveens.txt'\n"
     ]
    }
   ],
   "source": [
    "try:\n",
    "    with open('praveens.txt') as pravsfile:\n",
    "        for i, line in enumerate(pravsfile, 1):\n",
    "            if i > 10:\n",
    "                break\n",
    "            print(line)\n",
    "except Exception as e:\n",
    "    print('syntax errors:', e)"
   ]
  },
  {
   "cell_type": "code",
   "execution_count": 1,
   "metadata": {},
   "outputs": [
    {
     "name": "stdout",
     "output_type": "stream",
     "text": [
      "input value is wrong\n"
     ]
    }
   ],
   "source": [
    "\n",
    "try:\n",
    "    income = int(input(\"enter the amount:\"))\n",
    "    expenditures = 5000\n",
    "    savings = input - expenditures\n",
    "    print(f\"{savings}\")\n",
    "except ValueError:\n",
    "    print(\"input value is wrong\")"
   ]
  },
  {
   "cell_type": "code",
   "execution_count": 9,
   "metadata": {},
   "outputs": [
    {
     "name": "stdout",
     "output_type": "stream",
     "text": [
      "fdgfcfg6656 barad\n"
     ]
    }
   ],
   "source": [
    "\n",
    "try:\n",
    "    firstname = (input(\"enter the name:\"))\n",
    "    lastname = \"barad\"\n",
    "    fullname = firstname + \" \" + lastname\n",
    "    print(f\"{fullname}\")\n",
    "except ValueError:\n",
    "    print(\"input value is expecting str\")"
   ]
  },
  {
   "cell_type": "code",
   "execution_count": 12,
   "metadata": {},
   "outputs": [
    {
     "name": "stdout",
     "output_type": "stream",
     "text": [
      "Variable not defined\n"
     ]
    }
   ],
   "source": [
    "try:\n",
    "    employee = 'praveen'\n",
    "    lastname = \"barad\"\n",
    "    print(depts)\n",
    "except NameError:\n",
    "    print(\"Variable not defined\")\n",
    "except Exception as e:\n",
    "    print('syntax errors:', e)"
   ]
  },
  {
   "cell_type": "code",
   "execution_count": 16,
   "metadata": {},
   "outputs": [
    {
     "name": "stdout",
     "output_type": "stream",
     "text": [
      "Variable not defined\n"
     ]
    }
   ],
   "source": [
    "try:\n",
    "    employees \n",
    "    lastnames\n",
    "    print(employees,lastnames)\n",
    "except NameError:\n",
    "    print(\"Variable not defined\")\n",
    "except Exception as e:\n",
    "    print('syntax errors:', e)"
   ]
  },
  {
   "cell_type": "code",
   "execution_count": 22,
   "metadata": {},
   "outputs": [
    {
     "name": "stdout",
     "output_type": "stream",
     "text": [
      "This will raise a ZeroDivisionError\n"
     ]
    }
   ],
   "source": [
    "try:\n",
    "    price1 = 100\n",
    "    profit1 = 0\n",
    "    x = price1/profit1\n",
    "    print(x)\n",
    "except ZeroDivisionError:\n",
    "    print(\"This will raise a ZeroDivisionError\")\n"
   ]
  },
  {
   "cell_type": "code",
   "execution_count": 7,
   "metadata": {},
   "outputs": [
    {
     "name": "stdout",
     "output_type": "stream",
     "text": [
      "This will raise a ZeroDivisionError\n"
     ]
    }
   ],
   "source": [
    "try:\n",
    "    games = 100\n",
    "    win = 0\n",
    "    x = games/win\n",
    "    print(x)\n",
    "except ZeroDivisionError:\n",
    "    print(\"This will raise a ZeroDivisionError\")\n"
   ]
  },
  {
   "cell_type": "code",
   "execution_count": 23,
   "metadata": {},
   "outputs": [
    {
     "name": "stdout",
     "output_type": "stream",
     "text": [
      "This will raise an IndexError\n"
     ]
    }
   ],
   "source": [
    "list1 = [1, 2, 3]\n",
    "try:\n",
    "    print(list1[3])\n",
    "except IndexError:\n",
    "    print(\"This will raise an IndexError\")"
   ]
  },
  {
   "cell_type": "code",
   "execution_count": 5,
   "metadata": {},
   "outputs": [
    {
     "name": "stdout",
     "output_type": "stream",
     "text": [
      "This will raise an IndexError\n"
     ]
    }
   ],
   "source": [
    "list1 = [12, 2, 3]\n",
    "try:\n",
    "    for i in list1:\n",
    "        print(list1[i])\n",
    "except IndexError:\n",
    "    print(\"This will raise an IndexError\")"
   ]
  },
  {
   "cell_type": "code",
   "execution_count": null,
   "metadata": {},
   "outputs": [],
   "source": [
    "dict1= {\"key1\": \"value1\"}\n",
    "try:\n",
    "    print(my_dict[\"key2\"])\n",
    "except KeyError:\n",
    "    print(\"This will raise a KeyError\")"
   ]
  },
  {
   "cell_type": "code",
   "execution_count": 42,
   "metadata": {},
   "outputs": [
    {
     "name": "stdout",
     "output_type": "stream",
     "text": [
      "invalid input. Please enter an integer.\n",
      "The element at the given index is: None\n"
     ]
    }
   ],
   "source": [
    "def indexaccess(mylist1):\n",
    "    while True:\n",
    "        try:\n",
    "            index = int(input(\"Enter an index \"))\n",
    "            if index >= 0 and index < len(mylist1):\n",
    "                return mylist1[index]\n",
    "            else:\n",
    "                print(\"invalid index. Please try again.\")\n",
    "        except ValueError:\n",
    "            print(\"invalid input. Please enter an integer.\")\n",
    "            break\n",
    "\n",
    "mylist = [1, 2, 3]\n",
    "indexes = indexaccess(mylist)\n",
    "print(f\"The element at the given index is: {indexes}\")"
   ]
  },
  {
   "cell_type": "code",
   "execution_count": 41,
   "metadata": {},
   "outputs": [
    {
     "name": "stdout",
     "output_type": "stream",
     "text": [
      "KeyError\n"
     ]
    }
   ],
   "source": [
    "pravdict = {\"key1\": \"value1\"}\n",
    "try:\n",
    "    print(pravdict[\"key2\"])\n",
    "except KeyError:\n",
    "    print(\"KeyError\")"
   ]
  },
  {
   "cell_type": "code",
   "execution_count": 3,
   "metadata": {},
   "outputs": [
    {
     "name": "stdout",
     "output_type": "stream",
     "text": [
      " key  not exist in the dictionary\n",
      "The value for the given key is: value1\n"
     ]
    }
   ],
   "source": [
    "def dict1(my1dict):\n",
    "    while True:\n",
    "        try:\n",
    "            key = input(\"Enter a key: \")\n",
    "            if key in my1dict:\n",
    "                return my1dict[key]\n",
    "            else:\n",
    "                print(\" key  not exist in the dictionary\")\n",
    "        except KeyError:\n",
    "            print(\"invalid key enter a valid key.\")\n",
    "            break\n",
    "\n",
    "my_dict = {\"key1\": \"value1\"}\n",
    "values = dict1(my_dict)\n",
    "print(f\"The value for the given key is: {values}\")"
   ]
  },
  {
   "cell_type": "code",
   "execution_count": 19,
   "metadata": {},
   "outputs": [
    {
     "name": "stdout",
     "output_type": "stream",
     "text": [
      "An error occurred while writing to the file: name 'i' is not defined\n"
     ]
    }
   ],
   "source": [
    "\n",
    "try:\n",
    "        filesx =  open('filesx.txt', 'w')\n",
    "        filesx.write(\"Data written.\")\n",
    "        filesx =  open('filesx.txt', 'r')\n",
    "        print(i)\n",
    "except Exception as e:\n",
    "        print(\"An error occurred while writing to the file:\", e)\n",
    "finally:\n",
    "        filesx.close()\n"
   ]
  }
 ],
 "metadata": {
  "kernelspec": {
   "display_name": "DMP",
   "language": "python",
   "name": "python3"
  },
  "language_info": {
   "codemirror_mode": {
    "name": "ipython",
    "version": 3
   },
   "file_extension": ".py",
   "mimetype": "text/x-python",
   "name": "python",
   "nbconvert_exporter": "python",
   "pygments_lexer": "ipython3",
   "version": "3.8.18"
  }
 },
 "nbformat": 4,
 "nbformat_minor": 2
}
