{
 "cells": [
  {
   "cell_type": "code",
   "execution_count": 4,
   "id": "26e6ebe2",
   "metadata": {},
   "outputs": [
    {
     "name": "stdout",
     "output_type": "stream",
     "text": [
      "improved\n"
     ]
    }
   ],
   "source": [
    "\n",
    "MathsLast = 78\n",
    "MathsCur = 85\n",
    "if(MathsCur>MathsLast):\n",
    "    print(\"improved\")\n",
    "else:\n",
    "    print('not improved')"
   ]
  },
  {
   "cell_type": "code",
   "execution_count": 5,
   "id": "a69b933d",
   "metadata": {},
   "outputs": [
    {
     "name": "stdout",
     "output_type": "stream",
     "text": [
      "In range\n"
     ]
    }
   ],
   "source": [
    "\n",
    "x = 3\n",
    "if(x>5 & x<10):\n",
    "    print('In range')\n",
    "else:\n",
    "    print('out of range')\n"
   ]
  },
  {
   "cell_type": "code",
   "execution_count": 48,
   "id": "72fbda05",
   "metadata": {},
   "outputs": [
    {
     "name": "stdout",
     "output_type": "stream",
     "text": [
      "In range\n",
      "number is negative.\n"
     ]
    }
   ],
   "source": [
    "\n",
    "number2 = -2\n",
    "\n",
    "if -5 <= number2 <= 5:\n",
    "    print('In range')\n",
    "\n",
    "    if number2 > 0:\n",
    "        print('number is positive.')\n",
    "    elif number2 < 0:\n",
    "        print('number is negative.')\n",
    "    else:\n",
    "        print('number is zero.')\n",
    "else:\n",
    "    print('Out of range')\n"
   ]
  },
  {
   "cell_type": "code",
   "execution_count": 49,
   "id": "435d00ff",
   "metadata": {},
   "outputs": [
    {
     "name": "stdout",
     "output_type": "stream",
     "text": [
      "The number is negative.\n",
      "The number is not divisible by both 2 and 5.\n"
     ]
    }
   ],
   "source": [
    "\n",
    "number2 = -4\n",
    "\n",
    "if -5 <= number2 <= 5:\n",
    "\n",
    "    if number2 > 0:\n",
    "        print('The number is positive.')\n",
    "    elif number2 < 0:\n",
    "        print('The number is negative.')\n",
    "    else:\n",
    "        print('The number is zero.')\n",
    "    if number2 % 2 == 0 and number2 % 5 == 0:\n",
    "        print('The number is divisible by both 2 and 5.')\n",
    "    else:\n",
    "        print('The number is not divisible by both 2 and 5.')\n",
    "else:\n",
    "    print('Out of range')\n"
   ]
  },
  {
   "cell_type": "code",
   "execution_count": 51,
   "id": "83f91067",
   "metadata": {},
   "outputs": [
    {
     "name": "stdout",
     "output_type": "stream",
     "text": [
      "Your age is ok eligible to vote.\n",
      "And you are a INDIAN citizen.\n"
     ]
    }
   ],
   "source": [
    "\n",
    "age = 18\n",
    "citizenship = 'INDIA'\n",
    "\n",
    "if age >= 18:\n",
    "    print('Your age is ok eligible to vote.')\n",
    "\n",
    "    if citizenship == 'INDIA':\n",
    "        print('And you are a INDIAN citizen.')\n",
    "    else:\n",
    "        print('But you are not a INDIAN citizen.')\n",
    "else:\n",
    "    print('You are not eligible to vote.')\n"
   ]
  },
  {
   "cell_type": "code",
   "execution_count": 54,
   "id": "5e518535",
   "metadata": {},
   "outputs": [
    {
     "name": "stdout",
     "output_type": "stream",
     "text": [
      "entered score 78\n",
      "GPA: C\n"
     ]
    }
   ],
   "source": [
    "\n",
    "sscmarks = 78\n",
    "\n",
    "if 0 <= sscmarks <= 100:\n",
    "    print('entered score',sscmarks)\n",
    "\n",
    "    if 90 <= sscmarks <= 100:\n",
    "        print('GPA: A')\n",
    "    elif 80 <= sscmarks < 90:\n",
    "        print('GPA: B')\n",
    "    elif 70 <= sscmarks < 80:\n",
    "        print('GPA: C')\n",
    "    else:\n",
    "        print('GPA: D')\n",
    "else:\n",
    "    print('wrong exam score.')\n"
   ]
  },
  {
   "cell_type": "code",
   "execution_count": 55,
   "id": "9cecaa13",
   "metadata": {},
   "outputs": [
    {
     "name": "stdout",
     "output_type": "stream",
     "text": [
      "pentagon.\n"
     ]
    }
   ],
   "source": [
    "\n",
    "sides = 5\n",
    "\n",
    "if sides == 3:\n",
    "    print('triangle.')\n",
    "elif sides == 4:\n",
    "    print('quadrilateral.')\n",
    "elif sides == 5:\n",
    "    print('pentagon.')\n",
    "elif sides == 6:\n",
    "    print('hexagon.')\n",
    "else:\n",
    "    print('wrong shape.')\n"
   ]
  },
  {
   "cell_type": "code",
   "execution_count": 32,
   "id": "5f75030f",
   "metadata": {},
   "outputs": [
    {
     "name": "stdout",
     "output_type": "stream",
     "text": [
      "The banana is still fresh.\n"
     ]
    }
   ],
   "source": [
    "days = int(input(\"Enter the number of days since you bought the banana: \"))\n",
    "\n",
    "if days <= 3:\n",
    "    print(\"The banana is still fresh.\")\n",
    "else:\n",
    "    print(\"The banana is spoiled.\")"
   ]
  },
  {
   "cell_type": "code",
   "execution_count": 27,
   "id": "dfa3fdc1",
   "metadata": {},
   "outputs": [
    {
     "name": "stdout",
     "output_type": "stream",
     "text": [
      "Eligible to Vote\n"
     ]
    }
   ],
   "source": [
    "age = 18\n",
    "if age >= 18:\n",
    "    print( \"Eligible to Vote\")\n",
    "else:\n",
    "    print (\"Not Eligible to Vote\")"
   ]
  },
  {
   "cell_type": "code",
   "execution_count": 6,
   "id": "388487ff",
   "metadata": {},
   "outputs": [
    {
     "name": "stdout",
     "output_type": "stream",
     "text": [
      "a and b are not greater\n"
     ]
    }
   ],
   "source": [
    "\n",
    "\n",
    "a = 8\n",
    "b = 9\n",
    "c = 10\n",
    "\n",
    "if(a>b):\n",
    "    print('a is greater than b')\n",
    "elif(b>c):\n",
    "    print('b is greater than c')\n",
    "else:\n",
    "    print('a and b are not greater')\n"
   ]
  },
  {
   "cell_type": "code",
   "execution_count": 7,
   "id": "46eb02f3",
   "metadata": {},
   "outputs": [
    {
     "name": "stdout",
     "output_type": "stream",
     "text": [
      "34.375 obesity\n"
     ]
    }
   ],
   "source": [
    "\n",
    "kgs = 55\n",
    "m = 1.6\n",
    "bmi = kgs/m\n",
    "Underweight = 18.5\n",
    "HealthyWeight = 24.9\n",
    "Overweight = 29.9\n",
    "obesity = 35\n",
    "\n",
    "if(bmi<Underweight):\n",
    "    print(bmi,'Underweight')\n",
    "elif(bmi < HealthyWeight):\n",
    "    print(bmi,'Healthy Weight normal')\n",
    "elif(bmi < Overweight):\n",
    "    print(bmi,'over weight')\n",
    "else:\n",
    "    print(bmi,'obesity')\n",
    "    \n",
    "\n"
   ]
  },
  {
   "cell_type": "code",
   "execution_count": 8,
   "id": "6f6a3bdc",
   "metadata": {},
   "outputs": [
    {
     "name": "stdout",
     "output_type": "stream",
     "text": [
      "pass\n"
     ]
    }
   ],
   "source": [
    "\n",
    "\n",
    "student_m = 78\n",
    "if(student_m<40):\n",
    "    print('fail')\n",
    "else:\n",
    "    print(\"pass\")\n"
   ]
  },
  {
   "cell_type": "code",
   "execution_count": 9,
   "id": "4782420d",
   "metadata": {},
   "outputs": [],
   "source": []
  },
  {
   "cell_type": "code",
   "execution_count": 10,
   "id": "d1ef4bb1",
   "metadata": {},
   "outputs": [
    {
     "name": "stdout",
     "output_type": "stream",
     "text": [
      "number is even\n"
     ]
    }
   ],
   "source": [
    "num = 4\n",
    "if(num%2==0):\n",
    "    print('number is even')\n",
    "else:\n",
    "    print('number is odd')"
   ]
  },
  {
   "cell_type": "code",
   "execution_count": 11,
   "id": "0d1afe28",
   "metadata": {},
   "outputs": [
    {
     "name": "stdout",
     "output_type": "stream",
     "text": [
      "no\n"
     ]
    }
   ],
   "source": [
    "\n",
    "\n",
    "num = 67\n",
    "if(num%7==0):\n",
    "    print('yes')\n",
    "else:\n",
    "    print('no')\n",
    "    "
   ]
  },
  {
   "cell_type": "code",
   "execution_count": 33,
   "id": "1c236458",
   "metadata": {},
   "outputs": [
    {
     "name": "stdout",
     "output_type": "stream",
     "text": [
      "You are eligible for a standard price.\n"
     ]
    }
   ],
   "source": [
    "age = int(input(\"Enter your age: \"))\n",
    "\n",
    "if age < 0:\n",
    "    print(\"Invalid age. Please enter a proper number.\")\n",
    "elif age < 18:\n",
    "    print(\"You are not eligible\")\n",
    "elif age < 25:\n",
    "    print(\"You are eligible for extra charges.\")\n",
    "elif age < 60:\n",
    "    print(\"You are eligible for a standard price.\")\n",
    "else:\n",
    "    print(\"free for you enjoy.\")"
   ]
  },
  {
   "cell_type": "code",
   "execution_count": 26,
   "id": "a91d2cb8",
   "metadata": {},
   "outputs": [
    {
     "name": "stdout",
     "output_type": "stream",
     "text": [
      "Adult\n"
     ]
    }
   ],
   "source": [
    "age = 30\n",
    "if age >= 65:\n",
    "    print(\"Senior Citizen\")\n",
    "elif age >= 18:\n",
    "     print(\"Adult\")\n",
    "else:\n",
    "    print(\"Pediatric Patient\")"
   ]
  },
  {
   "cell_type": "code",
   "execution_count": 17,
   "id": "da7d4369",
   "metadata": {},
   "outputs": [
    {
     "name": "stdout",
     "output_type": "stream",
     "text": [
      "Dosage of protien 180 grms daily\n"
     ]
    }
   ],
   "source": [
    "weight = 90\n",
    "if weight >= 90:\n",
    "    dosage = 2 * weight\n",
    "elif weight >= 60:\n",
    "    dosage = 1 * weight\n",
    "else:\n",
    "    dosage = 0.7 * weight\n",
    "\n",
    "print(\"Dosage of protien\",dosage,\"grms daily\")\n"
   ]
  },
  {
   "cell_type": "code",
   "execution_count": 7,
   "id": "8d114191",
   "metadata": {},
   "outputs": [
    {
     "name": "stdout",
     "output_type": "stream",
     "text": [
      "not in human temperature\n"
     ]
    }
   ],
   "source": [
    "temp =float(input(\"enter you temp percentage\"))\n",
    "if temp >= 95 and temp<=98.5:\n",
    "    print( \"Normal Temperature\")\n",
    "elif temp <=95:\n",
    "    print(\"low Temperature, please consult a doctor.\")\n",
    "elif temp >=98.5 and temp<=107.5:\n",
    "    print(\"high Temperature, please consult a doctor.\")\n",
    "elif temp:\n",
    "    print(\"not in human temperature\")"
   ]
  },
  {
   "cell_type": "code",
   "execution_count": 19,
   "id": "8c3f03f4",
   "metadata": {},
   "outputs": [
    {
     "name": "stdout",
     "output_type": "stream",
     "text": [
      "Admission Not Possible, Hospital Overcapacity\n"
     ]
    }
   ],
   "source": [
    "bed_count = 100\n",
    "patient_count = 150\n",
    "if bed_count >= patient_count:\n",
    "    print(\"Admission Possible\")\n",
    "else:\n",
    "   print(\"Admission Not Possible, Hospital Overcapacity\")"
   ]
  },
  {
   "cell_type": "code",
   "execution_count": 22,
   "id": "58e16777",
   "metadata": {},
   "outputs": [
    {
     "name": "stdout",
     "output_type": "stream",
     "text": [
      "True\n"
     ]
    }
   ],
   "source": [
    "C = True\n",
    "T = True\n",
    "if C == True and T == True:\n",
    "    print(True)\n",
    "else:\n",
    "   print(\"covid\",False)"
   ]
  },
  {
   "cell_type": "code",
   "execution_count": 45,
   "id": "c94a3287",
   "metadata": {},
   "outputs": [
    {
     "name": "stdout",
     "output_type": "stream",
     "text": [
      "2023 is not a leap year.\n"
     ]
    }
   ],
   "source": [
    "\n",
    "year = int(input(\"Enter a year: \"))\n",
    "\n",
    "if (year % 4 == 0 and year % 100 != 0) or (year % 400 == 0):\n",
    "    print(f\"{year} is a leap year.\")\n",
    "else:\n",
    "    print(f\"{year} is not a leap year.\")\n"
   ]
  },
  {
   "cell_type": "code",
   "execution_count": 12,
   "id": "4c59a7a0",
   "metadata": {},
   "outputs": [
    {
     "name": "stdout",
     "output_type": "stream",
     "text": [
      "Hi, My name name is praveen how can i help you?\n"
     ]
    }
   ],
   "source": [
    "\n",
    "input_passcode = 1211222\n",
    "agt_passcode = 1211222\n",
    "agt_1 = 'praveen'\n",
    "agt_2 = 'kumar'\n",
    "agt_3 = 'barad'\n",
    "if(agt_passcode == input_passcode):\n",
    "    print('Hi, My name name is ' + agt_1+' how can i help you?')\n",
    "else:\n",
    "    ('wrong passcode try once again')\n",
    "    "
   ]
  },
  {
   "cell_type": "code",
   "execution_count": 13,
   "id": "ff7171b3",
   "metadata": {},
   "outputs": [
    {
     "name": "stdout",
     "output_type": "stream",
     "text": [
      "Hi, My name name is kumar i see you have requested to active\n"
     ]
    }
   ],
   "source": [
    "\n",
    "input_passcode = 1211222\n",
    "status = 'inactive'\n",
    "agt_passcode = 1211222\n",
    "agt_1 = 'praveen'\n",
    "agt_2 = 'kumar'\n",
    "agt_3 = 'barad'\n",
    "\n",
    "\n",
    "if(agt_passcode == input_passcode and status == 'active'):\n",
    "    print('Hi, My name name is ' + agt_1+' how can i help you?')\n",
    "elif(agt_passcode == input_passcode and status == 'inactive'):\n",
    "    print('Hi, My name name is ' + agt_2+' i see you have requested to active')\n",
    "else:\n",
    "    print('wrong passcode')\n"
   ]
  },
  {
   "cell_type": "code",
   "execution_count": 14,
   "id": "d78ba61c",
   "metadata": {},
   "outputs": [
    {
     "name": "stdout",
     "output_type": "stream",
     "text": [
      "potential profit buying from bse and selling to nse is RS : 0.066711140760507 %\n",
      "it is not worth\n"
     ]
    }
   ],
   "source": [
    "\n",
    "\n",
    "tcs_bse = 2998\n",
    "tcs_nse = 3000\n",
    "\n",
    "profit = ((tcs_nse-tcs_bse)*100)/tcs_bse\n",
    "print('potential profit buying from bse and selling to nse is RS :',profit, '%')\n",
    "\n",
    "if(profit < 1):\n",
    "    print('it is not worth')\n",
    "else:\n",
    "    print('it is worth')\n",
    "\n"
   ]
  },
  {
   "cell_type": "code",
   "execution_count": 29,
   "id": "ea2ab2c3",
   "metadata": {},
   "outputs": [
    {
     "name": "stdout",
     "output_type": "stream",
     "text": [
      "bjp won with 75.0 % votes\n"
     ]
    }
   ],
   "source": [
    "Bjp = 90000\n",
    "Congress = 30000\n",
    "total_votes = Bjp + Congress\n",
    "Bjp = (Bjp / total_votes) * 100\n",
    "Congress = (Congress / total_votes) * 100\n",
    "    \n",
    "if Bjp > Congress:\n",
    "        print(\"bjp won with\", Bjp,\"% votes\")\n",
    "elif Bjp < Congress:\n",
    "       print(\"congress  won with\",Congress,\"% votes\")\n",
    "else:\n",
    "             print(\"revote\")"
   ]
  },
  {
   "cell_type": "code",
   "execution_count": 31,
   "id": "40a97445",
   "metadata": {},
   "outputs": [
    {
     "name": "stdout",
     "output_type": "stream",
     "text": [
      "The total cost of the fan is: 5000\n"
     ]
    }
   ],
   "source": [
    "avg_fan_cost = 5\n",
    "max_rpm = 10000\n",
    "cost_per_rpm = 0.1\n",
    "\n",
    "rpm = int(input(\"Enter the fan RPM: \"))\n",
    "\n",
    "total_cost = avg_fan_cost* rpm\n",
    "\n",
    "print(\"The total cost of the fan is:\", total_cost)"
   ]
  },
  {
   "cell_type": "code",
   "execution_count": 2,
   "id": "a81bb60d",
   "metadata": {},
   "outputs": [
    {
     "name": "stdout",
     "output_type": "stream",
     "text": [
      "karimulla\n"
     ]
    }
   ],
   "source": [
    "a = input(\"Enter the name:\")\n",
    "print(a)"
   ]
  },
  {
   "cell_type": "code",
   "execution_count": 4,
   "id": "bd7c4435",
   "metadata": {},
   "outputs": [
    {
     "name": "stdout",
     "output_type": "stream",
     "text": [
      "Agent 1\n"
     ]
    }
   ],
   "source": [
    "\n",
    "\n",
    "agent1_passcode = \"agent1code\"\n",
    "agent2_passcode = \"agent2code\"\n",
    "agent3_passcode = \"agent3code\"\n",
    "passcode =\"agent1code\"\n",
    "if passcode == agent1_passcode:\n",
    "        print(\"Agent 1\")\n",
    "elif passcode == agent2_passcode:\n",
    "        print(\"Agent 2\")\n",
    "elif passcode == agent3_passcode:\n",
    "        print(\"Agent 3\")\n",
    "else:\n",
    "        print(\"Invalid passcode\")"
   ]
  },
  {
   "cell_type": "code",
   "execution_count": 42,
   "id": "bb1fcab9",
   "metadata": {},
   "outputs": [
    {
     "name": "stdout",
     "output_type": "stream",
     "text": [
      "Agent 1\n",
      "Your name, Praveen, is mentioned in the records.\n"
     ]
    }
   ],
   "source": [
    "\n",
    "agent1_passcode = \"agent1code\"\n",
    "agent2_passcode = \"agent2code\"\n",
    "agent3_passcode = \"agent3code\"\n",
    "passcode = \"agent1code\"\n",
    "\n",
    "if passcode == agent1_passcode:\n",
    "    print(\"Agent 1\")\n",
    "elif passcode == agent2_passcode:\n",
    "    print(\"Agent 2\")\n",
    "elif passcode == agent3_passcode:\n",
    "    print(\"Agent 3\")\n",
    "else:\n",
    "    print(\"Invalid passcode\")\n",
    "\n",
    "my_name = \"Praveen\"\n",
    "user_input = input(\"Enter a name: \")\n",
    "\n",
    "if my_name == user_input:\n",
    "    print(\"Your name, Praveen, is mentioned in the records.\")\n",
    "else:\n",
    "    print(\"Your name is not mentioned in the sentence.\")\n"
   ]
  },
  {
   "cell_type": "code",
   "execution_count": 37,
   "id": "97155059",
   "metadata": {},
   "outputs": [
    {
     "name": "stdout",
     "output_type": "stream",
     "text": [
      "party  you are eligible for a discount.\n"
     ]
    }
   ],
   "source": [
    "age = int(input(\"Enter your age: \"))\n",
    "gender = input(\"Enter your gender Male or Female: \").lower().strip()\n",
    "income = float(input(\"Enter your monthly income: \"))\n",
    "\n",
    "if age < 0:\n",
    "    print(\"Invalid age. dont enter fake numbers.\")\n",
    "elif age < 18:\n",
    "    print(\"You are not eligible come after 18.\")\n",
    "elif age < 25:\n",
    "    if gender == 'male':\n",
    "        print(\"party  you are eligible for a discount.\")\n",
    "    elif gender == 'female':\n",
    "        if income <= 25000:\n",
    "            print(\"You are eligible for a discount.\")\n",
    "        else:\n",
    "            print(\"You are eligible for a standard price.\")\n",
    "    else:\n",
    "        print(\"Invalid gender, Please enter male or fmela.\")\n",
    "elif age < 60:\n",
    "    if gender == 'male':\n",
    "        if income <= 50000:\n",
    "            print(\"You are eligible for a discount.\")\n",
    "        else:\n",
    "            print(\"You are eligible for a standard price.\")\n",
    "    elif gender == 'female':\n",
    "        if income <= 35000:\n",
    "            print(\"You are eligible for a discount.\")\n",
    "        else:\n",
    "            print(\"You are eligible for a standard price.\")\n",
    "    else:\n",
    "        print(\"Invalid gender. Please enter male or female.\")\n",
    "else:\n",
    "    print(\"You are eligible for a senior citizen discount.\")"
   ]
  },
  {
   "cell_type": "code",
   "execution_count": null,
   "id": "1a75800a",
   "metadata": {},
   "outputs": [],
   "source": []
  }
 ],
 "metadata": {
  "kernelspec": {
   "display_name": "Python 3 (ipykernel)",
   "language": "python",
   "name": "python3"
  },
  "language_info": {
   "codemirror_mode": {
    "name": "ipython",
    "version": 3
   },
   "file_extension": ".py",
   "mimetype": "text/x-python",
   "name": "python",
   "nbconvert_exporter": "python",
   "pygments_lexer": "ipython3",
   "version": "3.8.18"
  }
 },
 "nbformat": 4,
 "nbformat_minor": 5
}
