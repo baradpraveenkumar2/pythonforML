{
 "cells": [
  {
   "cell_type": "code",
   "execution_count": 50,
   "metadata": {},
   "outputs": [
    {
     "name": "stdout",
     "output_type": "stream",
     "text": [
      "mr, praveen how r u.\n"
     ]
    }
   ],
   "source": [
    "def user(name): \n",
    "    return f\"mr, {name} how r u.\"\n",
    "user_name = input(\"Enter your name: \")\n",
    "print(user(user_name))\n"
   ]
  },
  {
   "cell_type": "code",
   "execution_count": 17,
   "metadata": {},
   "outputs": [
    {
     "name": "stdout",
     "output_type": "stream",
     "text": [
      "Invalid date. It doesn't exist in the given dates list.\n"
     ]
    }
   ],
   "source": [
    "dates = [\"2023-12-12\",\"2023-12-13\",\"2023-12-14\",\"2023-12-15\" ]\n",
    "transactions = [5000,6000,7000,8000]\n",
    "\n",
    "def find_transaction_by_date(date):\n",
    "    index = dates.index(date) if date in dates else -1\n",
    "    if index != -1:\n",
    "        transaction = transactions[index]\n",
    "        print(f\"Transaction for date '{date}': {transaction}\")\n",
    "    else:\n",
    "        print(\"Invalid date. It doesn't exist in the given dates list.\")\n",
    "user_date = input(\"Enter the date (YYYY-MM-DD): \")\n",
    "find_transaction_by_date(user_date)"
   ]
  },
  {
   "cell_type": "code",
   "execution_count": null,
   "metadata": {},
   "outputs": [],
   "source": [
    "Diseases = [\"normalfever\",\"headache\",\"Dengue\",\"typhoid\",\"heartpain\"]\n",
    "DischargeDuration = [\"24Hours\",\"Casuality\",\"3days\",\"2days\",\"5days\"]\n",
    "amount=[2000,1000,5000,4000,7000]\n",
    "\n",
    "def admit(patient_current_name,patient_current_diesease):\n",
    "    indexs = Diseases.index(patient_current_diesease)if patient_current_diesease in Diseases else -1\n",
    "    if indexs != -1:\n",
    "        tests = Diseases[indexs]\n",
    "        stay = DischargeDuration[indexs]\n",
    "        fees = amount[indexs]\n",
    "        print(f\"patient name is :{patient_current_name}:has {patient_current_diesease}, and has to stay for {stay}\\n Total amount has to pay is : {fees}\")\n",
    "    else: \n",
    "        print(\"patient with not found\")      \n",
    "patient_name = input(\"enter patient name\")\n",
    "patient_diesease = input(\"enter patient has diesease/symptoms\")\n",
    "admit(patient_name,patient_diesease)\n",
    "        "
   ]
  },
  {
   "cell_type": "code",
   "execution_count": null,
   "metadata": {},
   "outputs": [],
   "source": [
    "\n",
    "def get_time_of_day(asking_time):\n",
    "    current_time = asking_time\n",
    "    if current_time >= 6 and current_time < 12:\n",
    "        return \"morning\"\n",
    "    elif current_time >= 12 and current_time < 18:\n",
    "        return \"afternoon\"\n",
    "    elif current_time >= 18 and current_time < 21:\n",
    "        return \"evening\"\n",
    "    elif current_time >=1 and current_time <6:\n",
    "        return \"mid-night\"\n",
    "    elif current_time >=21 and current_time <=24:\n",
    "        return \"night\"\n",
    "\n",
    "ask_time = int(input(\"enter your time\"))\n",
    "get_time_of_day(ask_time)"
   ]
  },
  {
   "cell_type": "code",
   "execution_count": 24,
   "metadata": {},
   "outputs": [
    {
     "name": "stdout",
     "output_type": "stream",
     "text": [
      "The sum is: 3\n"
     ]
    }
   ],
   "source": [
    "def add_numbers(a, b):\n",
    "    return a + b\n",
    "\n",
    "num1 = int(input(\"enter number: \"))\n",
    "num2 = int(input(\"Enter  number: \"))\n",
    "result = add_numbers(num1, num2)\n",
    "print(f\"The sum is: {result}\")\n"
   ]
  },
  {
   "cell_type": "code",
   "execution_count": 35,
   "metadata": {},
   "outputs": [
    {
     "name": "stdout",
     "output_type": "stream",
     "text": [
      "toothpaste with color 'green'  Natural-based.\n"
     ]
    }
   ],
   "source": [
    "def analyze_toothpaste_color(color):\n",
    "    if color.lower() == \"white\":\n",
    "        return \"Chemical-based\"\n",
    "    elif color.lower() == \"green\" or color.lower() == \"herbal\":\n",
    "        return \"Natural-based\"\n",
    "    else:\n",
    "        return \"donno\"\n",
    "\n",
    "toothpaste_color = input(\"Enter the color of the toothpaste: \")\n",
    "result = analyze_toothpaste_color(toothpaste_color)\n",
    "\n",
    "print(f\"toothpaste with color '{toothpaste_color}'  {result}.\")\n"
   ]
  },
  {
   "cell_type": "code",
   "execution_count": 36,
   "metadata": {},
   "outputs": [
    {
     "name": "stdout",
     "output_type": "stream",
     "text": [
      " max of three numbers is: 4\n"
     ]
    }
   ],
   "source": [
    "def find_maximum(num1, num2, num3):\n",
    "    return max(num1, num2, num3)\n",
    "\n",
    "a = int(input(\"Enter  number: \"))\n",
    "b = int(input(\"Enter number: \"))\n",
    "c = int(input(\"Enter number: \"))\n",
    "max_number = find_maximum(a, b, c)\n",
    "print(f\" max of three numbers is: {max_number}\")\n"
   ]
  },
  {
   "cell_type": "code",
   "execution_count": 37,
   "metadata": {},
   "outputs": [
    {
     "name": "stdout",
     "output_type": "stream",
     "text": [
      "It's currently Lunch time.\n"
     ]
    }
   ],
   "source": [
    "def foodtime(current_hour):\n",
    "    if 6 <= current_hour < 12:\n",
    "        return \"Breakfast\"\n",
    "    elif 12 <= current_hour < 18:\n",
    "        return \"Lunch\"\n",
    "    elif 18 <= current_hour < 24 or 0 <= current_hour < 6:\n",
    "        return \"Dinner\"\n",
    "    else:\n",
    "        return \"snack\"\n",
    "\n",
    "current_time = int(input(\"current hour (24-hour format): \"))\n",
    "foodtimes = foodtime(current_time)\n",
    "\n",
    "print(f\"It's currently {foodtimes} time.\")\n"
   ]
  },
  {
   "cell_type": "code",
   "execution_count": 39,
   "metadata": {},
   "outputs": [
    {
     "name": "stdout",
     "output_type": "stream",
     "text": [
      "On Monday, wear the purple shirt.\n",
      "On Tuesday, wear the purple shirt.\n",
      "On Wednesday, wear the yellow shirt.\n",
      "On Thursday, wear the blue shirt.\n",
      "On Friday, wear the orange shirt.\n"
     ]
    }
   ],
   "source": [
    "import random\n",
    "\n",
    "def selectshirt(day):\n",
    "    shirts = [\"red\", \"blue\", \"white\", \"orange\", \"yellow\", \"purple\"]\n",
    "    random_shirt = random.choice(shirts)\n",
    "    return f\"On {day}, wear the {random_shirt} shirt.\"\n",
    "\n",
    "days_of_week = [\"Monday\", \"Tuesday\", \"Wednesday\", \"Thursday\", \"Friday\"]\n",
    "for day in days_of_week:\n",
    "    outfit_message = selectshirt(day)\n",
    "    print(outfit_message)\n"
   ]
  },
  {
   "cell_type": "code",
   "execution_count": null,
   "metadata": {},
   "outputs": [],
   "source": [
    "num = 9\n",
    "def findinteger(num):\n",
    "    return isinstance(num, int)\n",
    "\n",
    "if findinteger(num):\n",
    "    print(\"Integer\")\n",
    "else:\n",
    "    print(\"this is not integer\")"
   ]
  },
  {
   "cell_type": "code",
   "execution_count": 43,
   "metadata": {},
   "outputs": [
    {
     "name": "stdout",
     "output_type": "stream",
     "text": [
      "time in 12-hour format is: 06:30 PM\n"
     ]
    }
   ],
   "source": [
    "def converto12(time_24_hour):\n",
    "   \n",
    "    hours_str, minutes_str = time_24_hour.split(':')\n",
    "\n",
    "    hours = int(hours_str)\n",
    "    minutes = int(minutes_str)\n",
    "\n",
    "    period = 'AM' if hours < 12 else 'PM'\n",
    "\n",
    "    hours = hours % 12 if hours % 12 != 0 else 12\n",
    "\n",
    "    time_12_hour = f\"{hours:02d}:{minutes:02d} {period}\"\n",
    "    return time_12_hour\n",
    "\n",
    "time_24_hour_input = \"18:30\"\n",
    "\n",
    "converted_time = converto12(time_24_hour_input)\n",
    "print(f\"time in 12-hour format is: {converted_time}\")\n"
   ]
  },
  {
   "cell_type": "code",
   "execution_count": 40,
   "metadata": {},
   "outputs": [
    {
     "name": "stdout",
     "output_type": "stream",
     "text": [
      "Invalid date. It doesn't exist in the given dates list.\n"
     ]
    }
   ],
   "source": [
    "dates = [\"2023-12-12\",\"2023-12-13\",\"2023-12-14\",\"2023-12-15\" ]\n",
    "transactions = [5000,6000,7000,8000]\n",
    "\n",
    "def find_transaction_by_date(date):\n",
    "    index = dates.index(date) if date in dates else -1\n",
    "    if index != -1:\n",
    "        transaction = transactions[index]\n",
    "        print(f\"Transaction for date '{date}': {transaction}\")\n",
    "    else:\n",
    "        print(\"Invalid date. It doesn't exist in the given dates list.\")\n",
    "user_date = input(\"Enter the date (YYYY-MM-DD): \")\n",
    "find_transaction_by_date(user_date)"
   ]
  },
  {
   "cell_type": "code",
   "execution_count": null,
   "metadata": {},
   "outputs": [],
   "source": [
    "Aiman = [\"Hello there: hi\",\n",
    "\"What's your name: may I know your name?\",\n",
    "\"How are you feeling today: I am doing well, thank you\",\n",
    "\"Can I help you with something: Yes, please\",\n",
    "\"What's the weather like: It's sunny and warm\",\n",
    "\"Do you like pets: Yes, I love animals\",\n",
    "\"What's your favorite color: Blue\",\n",
    "\"Can you tell me a joke: Sure, why don't scientists trust atoms?\",\n",
    "\"What's the answer to that: Because they make up everything\",\n",
    "\"That's a good one: Thank you\",\n",
    "\"What's your favorite food: Pizza\",\n",
    "\"How old are you: I am 28 years old\"]\n",
    "\"What's your occupation: I am a software engineer\"\n",
    "\"Where do you live: I reside in the city\"\n",
    "\"What's your favorite hobby: Reading\"\n",
    "\"What's your favorite book: To Kill a Mockingbird\"\n",
    "\"What's your favorite movie: 2 states\"\n",
    "\n",
    "def aimodel(ask):\n",
    "    for question in Aiman:\n",
    "        if ask in question:\n",
    "            return question.split(\":\")[1]\n",
    "    return \"sorry check the predefined responses.\"\n",
    "\n",
    "user_input = input(\"Enter a question: \")\n",
    "\n",
    "color = aimodel(user_input)\n",
    "print(\"AIman :\", color)"
   ]
  },
  {
   "cell_type": "code",
   "execution_count": 42,
   "metadata": {},
   "outputs": [
    {
     "name": "stdout",
     "output_type": "stream",
     "text": [
      "charge speed is 0.5% per minute.\n"
     ]
    }
   ],
   "source": [
    "def speedcharge(chargepercentage, chargingtime):\n",
    "    chargingspeed = chargepercentage / chargingtime\n",
    "    return chargingspeed\n",
    "\n",
    "chargepercent = 1\n",
    "chargetimeminutes = 2\n",
    "\n",
    "speed = speedcharge(chargepercent, chargetimeminutes)\n",
    "\n",
    "print(f\"charge speed is {speed}% per minute.\")\n"
   ]
  },
  {
   "cell_type": "code",
   "execution_count": 7,
   "metadata": {},
   "outputs": [
    {
     "name": "stdout",
     "output_type": "stream",
     "text": [
      "The product comes into the category: Luxury Product\n"
     ]
    }
   ],
   "source": [
    "def get_product_category(product_price):\n",
    "    if product_price <= 0:\n",
    "        return \"Invalid Price\"\n",
    "    elif 0 < product_price <= 50:\n",
    "        return \"Low-cost Product\"\n",
    "    elif 50 < product_price <= 200:\n",
    "        return \"Mid-range Product\"\n",
    "    elif 200 < product_price <= 500:\n",
    "        return \"High-end Product\"\n",
    "    else:\n",
    "        return \"Luxury Product\"\n",
    "\n",
    "user_input = float(input(\"Enter the price of the product: \"))\n",
    "product_category = get_product_category(user_input)\n",
    "\n",
    "print(f\"The product comes into the category: {product_category}\")\n"
   ]
  },
  {
   "cell_type": "code",
   "execution_count": 30,
   "metadata": {},
   "outputs": [
    {
     "name": "stdout",
     "output_type": "stream",
     "text": [
      " result is: 726.0\n"
     ]
    }
   ],
   "source": [
    "def calci(num1, num2, operator):\n",
    "    if operator == '+':\n",
    "        return num1 + num2\n",
    "    elif operator == '-':\n",
    "        return num1 - num2\n",
    "    elif operator == '*':\n",
    "        return num1 * num2\n",
    "    elif operator == '/':\n",
    "        return num1 / num2\n",
    "    else:\n",
    "        return \"Invalid operator\"\n",
    "\n",
    "num1 = float(input(\"number: \"))\n",
    "num2 = float(input(\" number: \"))\n",
    "op = input(\"operator (+, -, *, /): \")\n",
    "result = calci(num1, num2, op)\n",
    "print(f\" result is: {result}\")"
   ]
  },
  {
   "cell_type": "code",
   "execution_count": null,
   "metadata": {},
   "outputs": [],
   "source": [
    "fruitcolor = [\"banana: yellow\", \"apple: red\",\"grapes: green\", \"dragonfruit: pink\"]\n",
    "\n",
    "def get_color(fruit):\n",
    "    for fruit_color in fruitcolor:\n",
    "        if fruit in fruit_color:\n",
    "            return fruit_color.split(\":\")[1]\n",
    "    return \"Fruit not found in the list.\"\n",
    "\n",
    "user_input = input(\"Enter a fruit: \")\n",
    "\n",
    "color = get_color(user_input)\n",
    "print(\"Color of\", user_input, \"is:\", color)"
   ]
  },
  {
   "cell_type": "code",
   "execution_count": null,
   "metadata": {},
   "outputs": [],
   "source": [
    "import time\n",
    "\n",
    "def start_stopwatch():\n",
    "    print(\"Started Stopwatch\")\n",
    "    timertime = float(input(\"please year require time in secongs eg:59.00\"))\n",
    "    elapsed_time = 0\n",
    "    start_time = time.time()\n",
    "    while  elapsed_time <=timertime:\n",
    "        elapsed_time = time.time() - start_time\n",
    "        print\n",
    "        print(f\"Elapsed Time: {elapsed_time:.1f} seconds\")\n",
    "        time.sleep(0.1)\n",
    "\n",
    "start_stopwatch()"
   ]
  },
  {
   "cell_type": "code",
   "execution_count": 44,
   "metadata": {},
   "outputs": [
    {
     "name": "stdout",
     "output_type": "stream",
     "text": [
      "\n"
     ]
    }
   ],
   "source": [
    "def diffofstr(string1):\n",
    "    return string1.lower()\n",
    "string1=input(\"enter any name in capital letter\")\n",
    "diff = diffofstr(string1)\n",
    "print(diff)"
   ]
  },
  {
   "cell_type": "code",
   "execution_count": 46,
   "metadata": {},
   "outputs": [
    {
     "name": "stdout",
     "output_type": "stream",
     "text": [
      "Avg: 8.0\n"
     ]
    }
   ],
   "source": [
    "def avg(numbers):\n",
    "    return sum(numbers) / len(numbers) if len(numbers) > 0 else 0\n",
    "numbers_list = [2, 5, 8, 11, 14]\n",
    "result = avg(numbers_list)\n",
    "print(\"Avg:\", result)\n"
   ]
  },
  {
   "cell_type": "code",
   "execution_count": 4,
   "metadata": {},
   "outputs": [
    {
     "name": "stdout",
     "output_type": "stream",
     "text": [
      "\n",
      "Movie Details:\n",
      "title: racegurram\n",
      "director: ramcharan\n",
      "genre: Sci-Fi\n",
      "rating: 8.8\n"
     ]
    }
   ],
   "source": [
    "def movie_details(**movie):\n",
    "    print(\"\\nMovie Details:\")\n",
    "    for key, value in movie.items():\n",
    "        print(\"{}: {}\".format(key, value))\n",
    "\n",
    "movie_details(title=\"racegurram\", director=\"ramcharan\", genre=\"Sci-Fi\", rating=8.8)\n"
   ]
  },
  {
   "cell_type": "code",
   "execution_count": 49,
   "metadata": {},
   "outputs": [
    {
     "name": "stdout",
     "output_type": "stream",
     "text": [
      " average speed of bikes in  race is: 22.9 km/h\n"
     ]
    }
   ],
   "source": [
    "def race(speeds):\n",
    " \n",
    "    total_speed = sum(speeds)\n",
    "    average_speed = total_speed / len(speeds) if len(speeds) > 0 else 0\n",
    "    return average_speed\n",
    "\n",
    "bike_speeds = [20, 25, 18, 22, 30, 15, 24, 28, 21, 26]\n",
    "\n",
    "average_speed = race(bike_speeds)\n",
    "print(f\" average speed of bikes in  race is: {average_speed} km/h\")\n"
   ]
  },
  {
   "cell_type": "code",
   "execution_count": 5,
   "metadata": {},
   "outputs": [
    {
     "name": "stdout",
     "output_type": "stream",
     "text": [
      "Sound of dog is:  bow bow\n"
     ]
    }
   ],
   "source": [
    "animal_sounds = [\"dog: bow bow\", \"cat: meow\", \"bird: chirp\", \"elephant: pooo\"]\n",
    "\n",
    "def get_animal_sound(animal):\n",
    "    for sound_info in animal_sounds:\n",
    "        if animal in sound_info:\n",
    "            return sound_info.split(\":\")[1]\n",
    "    return \"Animal not there in the list.\"\n",
    "\n",
    "user_input = input(\"Enter an animal: \")\n",
    "sound = get_animal_sound(user_input)\n",
    "print(\"Sound of\", user_input, \"is:\", sound)\n"
   ]
  },
  {
   "cell_type": "code",
   "execution_count": 22,
   "metadata": {},
   "outputs": [
    {
     "name": "stdout",
     "output_type": "stream",
     "text": [
      "list before passing:  [10, 20, 30, 40, 50]\n",
      "changed list inside function:  [10, 20, 30, 40, 50, 60]\n",
      "list after returning from function:  [10, 20, 30, 40, 50, 60]\n"
     ]
    }
   ],
   "source": [
    "def append(list):\n",
    "       list.append(60)\n",
    "       print (\"changed list inside function: \", list)\n",
    "       return\n",
    "numbers=[10,20,30,40,50]\n",
    "print (\"list before passing: \", numbers)\n",
    "append(numbers)\n",
    "print (\"list after returning from function: \", numbers)"
   ]
  },
  {
   "cell_type": "code",
   "execution_count": 6,
   "metadata": {},
   "outputs": [
    {
     "name": "stdout",
     "output_type": "stream",
     "text": [
      "Component: CPU, Type: Processor, Cost: $300\n"
     ]
    }
   ],
   "source": [
    "components = [\"CPU\", \"RAM\", \"GPU\", \"Storage\", \"Motherboard\"]\n",
    "types = [\"Processor\", \"Memory\", \"Graphics\", \"Storage\", \"Mainboard\"]\n",
    "costs = [300, 150, 500, 100, 200]\n",
    "\n",
    "def get_component_info(component_name):\n",
    "    index = components.index(component_name) if component_name in components else -1\n",
    "    if index != -1:\n",
    "        component_type = types[index]\n",
    "        cost = costs[index]\n",
    "        print(f\"Component: {component_name}, Type: {component_type}, Cost: ${cost}\")\n",
    "    else:\n",
    "        print(\"Component not found in the list.\")\n",
    "\n",
    "user_input = input(\"Enter a computer component: \")\n",
    "get_component_info(user_input)\n"
   ]
  },
  {
   "cell_type": "code",
   "execution_count": 8,
   "metadata": {},
   "outputs": [
    {
     "name": "stdout",
     "output_type": "stream",
     "text": [
      "500.0 kilometers is equal to 310.69 miles.\n"
     ]
    }
   ],
   "source": [
    "def kmtomiles(kilometers):\n",
    "    miles = kilometers * 0.621371\n",
    "    return miles\n",
    "\n",
    "distance_km = float(input(\"Enter distance in kilometers: \"))\n",
    "distance_miles = kmtomiles(distance_km)\n",
    "print(f\"{distance_km} kilometers is equal to {distance_miles:.2f} miles.\")\n"
   ]
  },
  {
   "cell_type": "code",
   "execution_count": 11,
   "metadata": {},
   "outputs": [
    {
     "name": "stdout",
     "output_type": "stream",
     "text": [
      "praveen is gng a speed of 3434.0 km/h, it will take 10.00 hours to travel 34343.0 kilometers.\n"
     ]
    }
   ],
   "source": [
    "def travel_time(distance, speed):\n",
    "    time = distance / speed\n",
    "    return time\n",
    "\n",
    "distance = float(input(\"Enter distance in kilometers: \"))\n",
    "speed = float(input(\"Enter speed in km/h: \"))\n",
    "travel_times = travel_time(distance, speed)\n",
    "print(f\"praveen is gng a speed of {speed} km/h, it will take {travel_times:.2f} hours to travel {distance} kilometers.\")\n"
   ]
  },
  {
   "cell_type": "code",
   "execution_count": 12,
   "metadata": {},
   "outputs": [
    {
     "name": "stdout",
     "output_type": "stream",
     "text": [
      "cost per kilometer is 5.00 in rupees.\n"
     ]
    }
   ],
   "source": [
    "def costoffuel(total_cost, distance):\n",
    "    cost_per_km = total_cost / distance\n",
    "    return cost_per_km\n",
    "\n",
    "total_cost = float(input(\"cost of the journey: \"))\n",
    "distance = float(input(\"distance in kilometers: \"))\n",
    "cost_per_km = costoffuel(total_cost, distance)\n",
    "print(f\"cost per kilometer is {cost_per_km:.2f} in rupees.\")\n"
   ]
  },
  {
   "cell_type": "code",
   "execution_count": 16,
   "metadata": {},
   "outputs": [
    {
     "name": "stdout",
     "output_type": "stream",
     "text": [
      "go and buy\n"
     ]
    }
   ],
   "source": [
    "def iwillbycar(income, monthly_expenses, car_price):\n",
    "    available_budget = income*12 - monthly_expenses*12\n",
    "\n",
    "    if available_budget >= car_price:\n",
    "        return \"go and buy\"\n",
    "    else:\n",
    "        return \"you should  rethink.\"\n",
    "\n",
    "income = float(input(\"monthly income: \"))\n",
    "monthly_expenses = float(input(\"total monthly expenses: \"))\n",
    "car_price = float(input(\"price of the car : \"))\n",
    "\n",
    "recommendation = iwillbycar(income, monthly_expenses, car_price)\n",
    "\n",
    "print(recommendation)\n"
   ]
  },
  {
   "cell_type": "code",
   "execution_count": 32,
   "metadata": {},
   "outputs": [
    {
     "name": "stdout",
     "output_type": "stream",
     "text": [
      "* \n",
      "* * \n",
      "* * * \n"
     ]
    }
   ],
   "source": [
    "def print_pattern(rows):\n",
    "    for i in range(1, rows + 1):\n",
    "        print('* ' * i)\n",
    "\n",
    "row_count = int(input(\"hwo many rows wants for the pattern: \"))\n",
    "print_pattern(row_count)\n"
   ]
  }
 ],
 "metadata": {
  "kernelspec": {
   "display_name": "DMP",
   "language": "python",
   "name": "python3"
  },
  "language_info": {
   "codemirror_mode": {
    "name": "ipython",
    "version": 3
   },
   "file_extension": ".py",
   "mimetype": "text/x-python",
   "name": "python",
   "nbconvert_exporter": "python",
   "pygments_lexer": "ipython3",
   "version": "3.8.18"
  }
 },
 "nbformat": 4,
 "nbformat_minor": 2
}
