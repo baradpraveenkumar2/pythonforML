{
 "cells": [
  {
   "cell_type": "code",
   "execution_count": 3,
   "metadata": {},
   "outputs": [
    {
     "name": "stdout",
     "output_type": "stream",
     "text": [
      "200\n"
     ]
    }
   ],
   "source": [
    "math=50\n",
    "chemistry=60\n",
    "python=90\n",
    "print((math+chemistry+python))/100 * 100"
   ]
  },
  {
   "cell_type": "code",
   "execution_count": 5,
   "metadata": {},
   "outputs": [
    {
     "name": "stdout",
     "output_type": "stream",
     "text": [
      "1\n",
      "1\n",
      "5\n",
      "7\n",
      "3\n",
      "6\n",
      "3\n",
      "1\n",
      "0\n",
      "7\n",
      "total 34\n"
     ]
    }
   ],
   "source": [
    "num = 7013637511\n",
    "total = 0\n",
    "while (num != 0):\n",
    "    last_digit = num % 10\n",
    "    print(last_digit)\n",
    "    total +=  last_digit\n",
    "    num = num // 10\n",
    "print(\"total\", total)"
   ]
  },
  {
   "cell_type": "code",
   "execution_count": 8,
   "metadata": {},
   "outputs": [
    {
     "name": "stdout",
     "output_type": "stream",
     "text": [
      "least digit as of now is:  7\n",
      "the num now is:  1940\n",
      "least digit as of now is:  7\n",
      "the num now is:  194\n",
      "least digit as of now is:  7\n",
      "the num now is:  19\n",
      "least digit as of now is:  9\n",
      "the num now is:  1\n",
      "least digit as of now is:  9\n",
      "the num now is:  0\n",
      "in the end, least digit was found to be:  9\n"
     ]
    }
   ],
   "source": [
    "num = 19407\n",
    "least = -1\n",
    "\n",
    "while (num != 0):\n",
    "    last_digit = num % 10\n",
    "    if (least == -1):\n",
    "        least = last_digit\n",
    "    else:\n",
    "        least = max(least, last_digit)\n",
    "    print (\"least digit as of now is: \", least)\n",
    "    num = num // 10\n",
    "    print (\"the num now is: \", num)\n",
    "\n",
    "print(\"in the end, least digit was found to be: \", least)"
   ]
  },
  {
   "cell_type": "code",
   "execution_count": 17,
   "metadata": {},
   "outputs": [
    {
     "name": "stdout",
     "output_type": "stream",
     "text": [
      "2\n",
      "4\n",
      "6\n",
      "8\n",
      "10\n",
      "12\n",
      "14\n",
      "16\n",
      "18\n",
      "20\n"
     ]
    }
   ],
   "source": [
    "num = 2\n",
    "i = 1\n",
    "while(i <= 10):\n",
    "    if(num == 2):\n",
    "        print(num*i)\n",
    "    i +=1"
   ]
  },
  {
   "cell_type": "code",
   "execution_count": 24,
   "metadata": {},
   "outputs": [
    {
     "name": "stdout",
     "output_type": "stream",
     "text": [
      "1\n",
      "1\n"
     ]
    }
   ],
   "source": [
    "text = 'python'\n",
    "count = 0\n",
    "for i in text:\n",
    "    if (i=='o'):\n",
    "        count =+ 1\n",
    "        print(count)\n",
    "\n",
    "    \n",
    "\n"
   ]
  },
  {
   "cell_type": "code",
   "execution_count": 32,
   "metadata": {},
   "outputs": [
    {
     "name": "stdout",
     "output_type": "stream",
     "text": [
      "3\n"
     ]
    }
   ],
   "source": [
    "text ='praxistech'\n",
    "count = 0\n",
    "vowel = [\"a\",\"e\",\"i\",\"o\",\"u\"]\n",
    "for i in text:\n",
    "    if  i in vowel:\n",
    "        count += 1\n",
    "print(count)\n",
    "\n"
   ]
  },
  {
   "cell_type": "code",
   "execution_count": 36,
   "metadata": {},
   "outputs": [
    {
     "name": "stdout",
     "output_type": "stream",
     "text": [
      "p\n",
      "r\n",
      "a\n",
      "x\n",
      "i\n",
      "s\n",
      "z\n",
      "z\n",
      "z\n",
      "z\n",
      "t\n",
      "e\n",
      "c\n",
      "h\n",
      "11\n"
     ]
    }
   ],
   "source": [
    "text = 'praxiszzzztech'\n",
    "count = 0\n",
    "vowel = [\"a\",\"e\",\"i\",\"o\",\"u\"]\n",
    "for i in text:\n",
    "    print(i)\n",
    "    if i not in vowel:\n",
    "        count +=1\n",
    "print(count)\n",
    "\n",
    "\n"
   ]
  },
  {
   "cell_type": "code",
   "execution_count": 37,
   "metadata": {},
   "outputs": [
    {
     "name": "stdout",
     "output_type": "stream",
     "text": [
      "1512\n",
      "1530\n",
      "1548\n",
      "1566\n",
      "1584\n",
      "1602\n",
      "1620\n",
      "1638\n",
      "1656\n",
      "1674\n",
      "1692\n",
      "1710\n",
      "1728\n",
      "1746\n",
      "1764\n",
      "1782\n",
      "1800\n",
      "1818\n",
      "1836\n",
      "1854\n",
      "1872\n",
      "1890\n",
      "1908\n",
      "1926\n",
      "1944\n",
      "1962\n",
      "1980\n",
      "1998\n",
      "2016\n",
      "2034\n",
      "2052\n",
      "2070\n",
      "2088\n",
      "2106\n",
      "2124\n",
      "2142\n",
      "2160\n",
      "2178\n",
      "2196\n",
      "2214\n",
      "2232\n",
      "2250\n",
      "2268\n",
      "2286\n",
      "2304\n",
      "2322\n",
      "2340\n",
      "2358\n",
      "2376\n",
      "2394\n",
      "2412\n",
      "2430\n",
      "2448\n",
      "2466\n",
      "2484\n",
      "2502\n",
      "2520\n",
      "2538\n",
      "2556\n",
      "2574\n",
      "2592\n",
      "2610\n",
      "2628\n",
      "2646\n",
      "2664\n",
      "2682\n"
     ]
    }
   ],
   "source": [
    "for num in range(1500,2700):\n",
    "    if num % 9 == 0:\n",
    "        if num % 6 ==0:\n",
    "            print(num)"
   ]
  },
  {
   "cell_type": "code",
   "execution_count": null,
   "metadata": {},
   "outputs": [],
   "source": []
  },
  {
   "cell_type": "code",
   "execution_count": 42,
   "metadata": {},
   "outputs": [
    {
     "name": "stdout",
     "output_type": "stream",
     "text": [
      "1\n",
      "1\n",
      "2\n",
      "3\n",
      "5\n",
      "8\n",
      "13\n",
      "21\n",
      "34\n",
      "55\n",
      "89\n"
     ]
    }
   ],
   "source": [
    "initial = 0\n",
    "nextvalue = 1\n",
    "while (nextvalue < 100):\n",
    "    next = initial + nextvalue\n",
    "\n",
    "    print (nextvalue)\n",
    "    initial = nextvalue\n",
    "    nextvalue = next "
   ]
  },
  {
   "cell_type": "code",
   "execution_count": 47,
   "metadata": {},
   "outputs": [
    {
     "name": "stdout",
     "output_type": "stream",
     "text": [
      "1\n"
     ]
    }
   ],
   "source": [
    "a = \"praxis\"\n",
    "b=\"\"\n",
    "for i in a:\n",
    "    b = +1\n",
    "print(b)\n",
    "\n",
    "    "
   ]
  },
  {
   "cell_type": "code",
   "execution_count": 57,
   "metadata": {},
   "outputs": [
    {
     "name": "stdout",
     "output_type": "stream",
     "text": [
      "1\n",
      "2\n",
      "3\n",
      "4\n",
      "5\n",
      "6\n",
      "7\n",
      "8\n",
      "9\n",
      "10\n"
     ]
    }
   ],
   "source": [
    "\n",
    "\n",
    "\n",
    "num = 1\n",
    "while(num <=10):\n",
    "    print(num)\n",
    "    num +=1\n",
    "\n",
    "\n",
    "\n",
    "\n"
   ]
  },
  {
   "cell_type": "code",
   "execution_count": 63,
   "metadata": {},
   "outputs": [
    {
     "name": "stdout",
     "output_type": "stream",
     "text": [
      "21 sum of natural number\n"
     ]
    }
   ],
   "source": [
    "n = int(input())\n",
    "sum = 0\n",
    "i = 1\n",
    "while(i <= 6):\n",
    "    sum += i\n",
    "    i +=1\n",
    "print(sum,  'sum of natural number')\n",
    "     \n"
   ]
  },
  {
   "cell_type": "code",
   "execution_count": 65,
   "metadata": {},
   "outputs": [
    {
     "name": "stdout",
     "output_type": "stream",
     "text": [
      "3 x 1 = 3\n",
      "3 x 2 = 6\n",
      "3 x 3 = 9\n",
      "3 x 4 = 12\n",
      "3 x 5 = 15\n",
      "3 x 6 = 18\n",
      "3 x 7 = 21\n",
      "3 x 8 = 24\n",
      "3 x 9 = 27\n",
      "3 x 10 = 30\n"
     ]
    }
   ],
   "source": [
    "num = int(input())\n",
    "i=1\n",
    "while(i<=10):\n",
    "    print(num,\"x\",i,\"=\",num*i)\n",
    "    i +=1\n"
   ]
  },
  {
   "cell_type": "code",
   "execution_count": 66,
   "metadata": {},
   "outputs": [
    {
     "name": "stdout",
     "output_type": "stream",
     "text": [
      "factorial : 120\n"
     ]
    }
   ],
   "source": [
    "fact = 1\n",
    "n = int(input())\n",
    "i = 1\n",
    "while(i<=n):\n",
    "    fact *= i\n",
    "    i +=1\n",
    "print(\"factorial :\", fact)"
   ]
  },
  {
   "cell_type": "code",
   "execution_count": 71,
   "metadata": {},
   "outputs": [
    {
     "name": "stdout",
     "output_type": "stream",
     "text": [
      "1 is odd\n",
      "2 is even\n",
      "3 is odd\n",
      "4 is even\n",
      "5 is odd\n",
      "6 is even\n",
      "7 is odd\n",
      "8 is even\n",
      "9 is odd\n",
      "10 is even\n"
     ]
    }
   ],
   "source": [
    "i = 1\n",
    "n = int(input())\n",
    "while(i<=n):\n",
    "    if(i % 2 == 0):\n",
    "        print(i,\"is even\")\n",
    "        i +=1\n",
    "    else:\n",
    "        print(i,\"is odd\")\n",
    "        i +=1\n",
    "\n",
    "    \n",
    "\n"
   ]
  },
  {
   "cell_type": "code",
   "execution_count": 3,
   "metadata": {},
   "outputs": [],
   "source": [
    "n = int(input(\"Enter the number of terms: \"))\n",
    "a = 0\n",
    "b = 1\n",
    "i = 2\n",
    "while(i < n):\n",
    "   c = a + b\n",
    "   a = b\n",
    "   b = c\n",
    "   print(c)\n",
    "i += 1\n",
    "\n"
   ]
  },
  {
   "cell_type": "code",
   "execution_count": 91,
   "metadata": {},
   "outputs": [
    {
     "name": "stdout",
     "output_type": "stream",
     "text": [
      "4\n"
     ]
    }
   ],
   "source": [
    "number = [12,4,4,3]\n",
    "print(len(number))"
   ]
  },
  {
   "cell_type": "code",
   "execution_count": 111,
   "metadata": {},
   "outputs": [
    {
     "name": "stdout",
     "output_type": "stream",
     "text": [
      "1\n"
     ]
    }
   ],
   "source": [
    "numbers = [3,1,3,4,5,5,7,8,54,5,6]\n",
    "\n",
    "min = numbers[0]\n",
    "max = numbers[0]\n",
    "\n",
    "for i in range(len(numbers)):\n",
    "    if numbers[i] > max :\n",
    "        max = numbers[i]\n",
    "    elif numbers[i] < min:\n",
    "        min = numbers[i]\n",
    "       \n",
    "print(min,max)\n",
    "\n",
    "\n",
    "\n",
    "\n"
   ]
  },
  {
   "cell_type": "code",
   "execution_count": 120,
   "metadata": {},
   "outputs": [
    {
     "name": "stdout",
     "output_type": "stream",
     "text": [
      "neezvarp"
     ]
    }
   ],
   "source": [
    "string = \"pravzeen\"\n",
    "a = len(string) - 1\n",
    "\n",
    "while a >= 0:\n",
    "    print(string[a],end=\"\")\n",
    "    a -= 1\n"
   ]
  },
  {
   "cell_type": "code",
   "execution_count": 133,
   "metadata": {},
   "outputs": [
    {
     "name": "stdout",
     "output_type": "stream",
     "text": [
      "GCD of the two numbers: 5\n"
     ]
    }
   ],
   "source": [
    "num1 = int(input(\"Enter first number: \"))\n",
    "num2 = int(input(\"Enter second number: \"))\n",
    "while num2 != 0:\n",
    "    num1, num2 = num2, num1 % num2\n",
    "print(\"GCD of the two numbers:\", num1)"
   ]
  },
  {
   "cell_type": "code",
   "execution_count": 4,
   "metadata": {},
   "outputs": [
    {
     "name": "stdout",
     "output_type": "stream",
     "text": [
      "0 1 2 4 8 "
     ]
    }
   ],
   "source": [
    "n = int(input(\"Enter the number of Fibonacci numbers to print: \"))\n",
    "a, b = 0, 1\n",
    "while n > 0:\n",
    "    print(a, end=\" \")\n",
    "    a,b= b,a+b\n",
    "    n -= 1"
   ]
  },
  {
   "cell_type": "code",
   "execution_count": 137,
   "metadata": {},
   "outputs": [
    {
     "name": "stdout",
     "output_type": "stream",
     "text": [
      "10\n",
      "10\n",
      "100\n",
      "10\n",
      "1000\n",
      "10\n",
      "10000\n",
      "10\n",
      "100000\n",
      "10\n",
      "1000000\n",
      "10\n",
      "10000000\n",
      "10\n",
      "100000000\n",
      "10\n",
      "1000000000\n",
      "10\n",
      "10000000000\n",
      "10\n"
     ]
    }
   ],
   "source": [
    "n = int(input(\"Enter the number of terms to print: \"))\n",
    "a = int(input(\"Enter the first term: \"))\n",
    "r = int(input(\"Enter the common ratio: \"))\n",
    "count = 0\n",
    "while count < n:\n",
    "    print(a)\n",
    "    a *= r\n",
    "    count += 1\n",
    " \n",
    "    "
   ]
  },
  {
   "cell_type": "markdown",
   "metadata": {},
   "source": [
    "####To create a basic while loop in Python that calculates and displays an employee's salary and how many years it took to reach 10,000 salary on 5% increament, you can use the following code:"
   ]
  },
  {
   "cell_type": "code",
   "execution_count": 2,
   "metadata": {},
   "outputs": [
    {
     "name": "stdout",
     "output_type": "stream",
     "text": [
      "praveen 5250.0\n",
      "praveen 5512.5\n",
      "praveen 5788.125\n",
      "praveen 6077.53125\n",
      "praveen 6381.4078125\n",
      "praveen 6700.478203125\n",
      "praveen 7035.50211328125\n",
      "praveen 7387.277218945313\n",
      "praveen 7756.641079892578\n",
      "praveen 8144.473133887207\n",
      "praveen 8551.696790581567\n",
      "praveen 8979.281630110645\n",
      "praveen 9428.245711616177\n",
      "praveen 9899.657997196986\n",
      "praveen 10394.640897056835\n",
      "years to reach 10000 is 15\n"
     ]
    }
   ],
   "source": [
    "emp_nm = input(\"emp name\")\n",
    "sal = float(input(\"enter sal\"))\n",
    "increament = 0.05\n",
    "count = 0\n",
    "totalsal = sal\n",
    "\n",
    "while totalsal <10000:\n",
    "    incrementfinal = totalsal * increament\n",
    "    totalsal += incrementfinal\n",
    "    count +=1\n",
    "    print(emp_nm,totalsal)\n",
    "print(\"years to reach 10000 is\", count)\n"
   ]
  },
  {
   "cell_type": "markdown",
   "metadata": {},
   "source": [
    "####ere's a simple while loop program in Python that simulates an employee being blocked from accessing the office:"
   ]
  },
  {
   "cell_type": "code",
   "execution_count": 5,
   "metadata": {},
   "outputs": [
    {
     "name": "stdout",
     "output_type": "stream",
     "text": [
      "6\n",
      "not allowed\n"
     ]
    }
   ],
   "source": [
    "access_code = int(input(\"enter code\"))\n",
    "index = int(access_code%10)\n",
    "print(index)\n",
    "if index == 6:\n",
    "    print('not allowed')\n",
    "else:\n",
    "    print(\"welcome\")\n",
    "\n",
    "\n"
   ]
  },
  {
   "cell_type": "code",
   "execution_count": 5,
   "metadata": {},
   "outputs": [
    {
     "name": "stdout",
     "output_type": "stream",
     "text": [
      "3\n",
      "pra\n",
      "pra\n",
      "quit\n"
     ]
    }
   ],
   "source": [
    "name = input(\"\")\n",
    "count = len(name)\n",
    "print(count)\n",
    "while True:\n",
    "    print(name)\n",
    "    if(name == \"quit\"):\n",
    "        break\n",
    "    else:\n",
    "        name = input(\"\")\n",
    "    \n",
    "\n",
    "    "
   ]
  },
  {
   "cell_type": "code",
   "execution_count": null,
   "metadata": {},
   "outputs": [],
   "source": [
    "countries = ['Australia', 'Brazil', 'Canada', 'Denmark', 'Egypt']\n",
    "\n",
    "print(\"List of Countries:\")\n",
    "for country in countries:\n",
    "    print(country)"
   ]
  },
  {
   "cell_type": "code",
   "execution_count": 12,
   "metadata": {},
   "outputs": [
    {
     "name": "stdout",
     "output_type": "stream",
     "text": [
      "Your password is wrong. Attempts left: 3\n",
      "Your password is wrong. Attempts left: 2\n",
      "Your password is wrong. Attempts left: 1\n",
      "Your password is wrong. Attempts left: 0\n",
      "Exceeded attempts. YOU ARE BLOCKED GET OUT\n"
     ]
    }
   ],
   "source": [
    "wrong_count = 0\n",
    "blocked = \"\"\n",
    "correct_password = \"123\"\n",
    "username = input(\"Enter username: \")\n",
    "\n",
    "for i in range(1, 6): \n",
    "    password = input(\"Enter password: \")\n",
    "\n",
    "    if password == correct_password:\n",
    "        print(\"Success!\")\n",
    "        break\n",
    "    else:\n",
    "        if wrong_count < 4:\n",
    "            wrong_count += 1\n",
    "            print(f\"Your password is wrong. Attempts left: {4 - wrong_count}\")\n",
    "        else:\n",
    "            blocked = \"YOU ARE BLOCKED GET OUT\"\n",
    "            print(\"Exceeded attempts.\",blocked)\n",
    "            \n",
    "            break\n"
   ]
  },
  {
   "cell_type": "code",
   "execution_count": 63,
   "metadata": {},
   "outputs": [
    {
     "name": "stdout",
     "output_type": "stream",
     "text": [
      "[('p', 'h', 'y', ' ', '5', '0'), ('s', 'c', 'i', ' ', '5', '0'), ('s', 'o', 'c', ' ', '5', '0')]\n"
     ]
    }
   ],
   "source": [
    "subjects =[\"phy\", \"sci\", \"soc\"]\n",
    "marks =[50,50,50]\n",
    "list1 = []\n",
    "i = 0\n",
    "while(i<=(len(subjects)-1)):\n",
    "    list1.append((subjects[i]+\" \"+str(marks[i])))\n",
    "    i+=1\n",
    "\n",
    "print(list1)\n",
    "    \n",
    "\n",
    "\n",
    "\n",
    "\n"
   ]
  },
  {
   "cell_type": "code",
   "execution_count": 89,
   "metadata": {},
   "outputs": [],
   "source": [
    "subjects =[\"phy\", \"sci\", \"soc\"]\n",
    "\n",
    "marks =[23,50,60]\n",
    "while(i<=(len(subjects)-1)):\n",
    "   print(min(str(i)))\n",
    "   i +=1\n",
    "\n",
    "\n",
    "\n"
   ]
  },
  {
   "cell_type": "code",
   "execution_count": 90,
   "metadata": {},
   "outputs": [
    {
     "name": "stdout",
     "output_type": "stream",
     "text": [
      "Australia 5\n",
      "Brazil 2\n",
      "Canada 3\n",
      "Denmark 2\n",
      "Egypt 1\n"
     ]
    }
   ],
   "source": [
    "countries = ['Australia', 'Brazil', 'Canada', 'Denmark', 'Egypt']\n",
    "vowels = 'aeiou'\n",
    "\n",
    "for country in countries:\n",
    "    vowel_count = 0\n",
    "    for letter in country.lower():\n",
    "        if letter in vowels:\n",
    "            vowel_count += 1\n",
    "    print(country, vowel_count)"
   ]
  },
  {
   "cell_type": "code",
   "execution_count": 111,
   "metadata": {},
   "outputs": [
    {
     "name": "stdout",
     "output_type": "stream",
     "text": [
      "Countries sorted by name length:\n",
      "Australia\n",
      "Denmark\n",
      "Canada\n",
      "Brazil\n",
      "Egypt\n"
     ]
    }
   ],
   "source": [
    "countries = ['Australia', 'Brazil', 'Canada', 'Denmark', 'Egypt']\n",
    "\n",
    "for i in range(len(countries)):\n",
    "    for j in range(i+1, len(countries)):\n",
    "        if len(countries[i]) > len(countries[j]):\n",
    "            countries[i], countries[j] = countries[j], countries[i]\n",
    "\n",
    "print(\"Countries sorted by name length:\")\n",
    "for country in countries:\n",
    "    print(country)"
   ]
  },
  {
   "cell_type": "markdown",
   "metadata": {},
   "source": [
    "###print praveen p letter  with star\n"
   ]
  },
  {
   "cell_type": "code",
   "execution_count": 6,
   "metadata": {},
   "outputs": [
    {
     "name": "stdout",
     "output_type": "stream",
     "text": [
      "*\n",
      "**\n",
      "***\n",
      "****\n",
      "*****\n",
      "****\n",
      "***\n",
      "**\n",
      "*\n",
      "\n",
      "*\n",
      "*\n",
      "*\n",
      "*\n",
      "*\n"
     ]
    }
   ],
   "source": [
    "i = 0\n",
    "while i < 5:  \n",
    "    for j in range(0,i+1): \n",
    "        print(\"*\" ,end=\"\")\n",
    "    print() \n",
    "    i += 1\n",
    "s = 5\n",
    "while s>0 : \n",
    "    for j in range(0,s-1):\n",
    "        print(\"*\", end=\"\")\n",
    "    print()\n",
    "    s -=1\n",
    "z = 0\n",
    "while z < 5:\n",
    "    print(\"*\")\n",
    "    z +=1\n",
    "\n",
    "\n",
    "\n",
    "\n"
   ]
  },
  {
   "cell_type": "code",
   "execution_count": null,
   "metadata": {},
   "outputs": [],
   "source": []
  },
  {
   "cell_type": "markdown",
   "metadata": {},
   "source": [
    "### mini statement"
   ]
  },
  {
   "cell_type": "code",
   "execution_count": 5,
   "metadata": {},
   "outputs": [
    {
     "name": "stdout",
     "output_type": "stream",
     "text": [
      "Transaction on 2023-12-12: 5000\n",
      "Transaction on 2023-12-14: 7000\n",
      "Transaction on 2023-12-15: 8000\n",
      "Exceeded maximum attempts.\n"
     ]
    }
   ],
   "source": [
    "dates = [\"2023-12-12\", \"2023-12-13\", \"2023-12-14\", \"2023-12-15\"]\n",
    "transactions = [5000, 6000, 7000, 8000]\n",
    "\n",
    "for _ in range(3):\n",
    "    user_date = input(\"Enter a date (format: YYYY-MM-DD): \")\n",
    "\n",
    "    for index, date in enumerate(dates):\n",
    "        if user_date == date:\n",
    "            print(f\"Transaction on {dates[index]}: {transactions[index]}\")\n",
    "            break\n",
    "    else:\n",
    "        print(\"The provided date is not valid. Please try again.\")\n",
    "else:\n",
    "    print(\"Exceeded maximum attempts.\")\n"
   ]
  },
  {
   "cell_type": "code",
   "execution_count": 1,
   "metadata": {},
   "outputs": [
    {
     "name": "stdout",
     "output_type": "stream",
     "text": [
      "Collecting datetime\n",
      "  Downloading DateTime-5.4-py3-none-any.whl.metadata (33 kB)\n",
      "Collecting zope.interface (from datetime)\n",
      "  Downloading zope.interface-6.2-cp38-cp38-win_amd64.whl.metadata (43 kB)\n",
      "     ---------------------------------------- 0.0/43.1 kB ? eta -:--:--\n",
      "     -------------------------------------- - 41.0/43.1 kB 1.9 MB/s eta 0:00:01\n",
      "     ---------------------------------------- 43.1/43.1 kB 1.0 MB/s eta 0:00:00\n",
      "Requirement already satisfied: pytz in c:\\users\\prave\\anaconda3\\envs\\dmp\\lib\\site-packages (from datetime) (2023.3.post1)\n",
      "Requirement already satisfied: setuptools in c:\\users\\prave\\anaconda3\\envs\\dmp\\lib\\site-packages (from zope.interface->datetime) (68.2.2)\n",
      "Downloading DateTime-5.4-py3-none-any.whl (52 kB)\n",
      "   ---------------------------------------- 0.0/52.5 kB ? eta -:--:--\n",
      "   ---------------------------------------- 52.5/52.5 kB 1.4 MB/s eta 0:00:00\n",
      "Downloading zope.interface-6.2-cp38-cp38-win_amd64.whl (204 kB)\n",
      "   ---------------------------------------- 0.0/204.4 kB ? eta -:--:--\n",
      "   ---------------------------------------- 204.4/204.4 kB 6.3 MB/s eta 0:00:00\n",
      "Installing collected packages: zope.interface, datetime\n",
      "Successfully installed datetime-5.4 zope.interface-6.2\n",
      "Note: you may need to restart the kernel to use updated packages.\n"
     ]
    }
   ],
   "source": [
    "pip install datetime"
   ]
  },
  {
   "cell_type": "code",
   "execution_count": 4,
   "metadata": {},
   "outputs": [
    {
     "name": "stdout",
     "output_type": "stream",
     "text": [
      "Balance: 10000\n",
      "Your amount successfully withdrawn Rs: 2000, Date: 2024-02-27 19:37:49.867323,\n",
      "Transaction ID: 28721770029\n",
      "Total remaining balance: 8000\n"
     ]
    }
   ],
   "source": [
    "import datetime\n",
    "import random\n",
    "import string\n",
    "\n",
    "savings = 10000\n",
    "now = datetime.datetime.now()\n",
    "transaction_id = \"\".join(random.choices(string.digits, k=11))\n",
    "\n",
    "for count in range(3):\n",
    "    option = input(\"Type w/d: \")\n",
    "\n",
    "    if option == \"w\":\n",
    "        print(f\"Balance: {savings}\")\n",
    "        withdraw = int(input(\"Enter withdraw amount: \"))\n",
    "        print(f\"Your amount successfully withdrawn Rs: {withdraw}, Date: {now},\\nTransaction ID: {transaction_id}\")\n",
    "        savings -= withdraw\n",
    "        print(f\"Total remaining balance: {savings}\")\n",
    "        break\n",
    "    elif option == \"d\":\n",
    "        print(f\"Balance: {savings}\")\n",
    "        deposit = int(input(\"Enter deposit amount: \"))\n",
    "        print(f\"Your amount successfully deposited Rs: {deposit}, Date: {now},\\nTransaction ID: {transaction_id}\")\n",
    "        savings += deposit\n",
    "        print(f\"Total remaining balance: {savings}\")\n",
    "        break\n",
    "    else:\n",
    "        print(\"Re-enter\")\n",
    "\n"
   ]
  },
  {
   "cell_type": "code",
   "execution_count": 3,
   "metadata": {},
   "outputs": [
    {
     "name": "stdout",
     "output_type": "stream",
     "text": [
      "*********\n",
      "*******\n",
      "*****\n",
      "***\n",
      "*\n"
     ]
    }
   ],
   "source": [
    "rows = int(input(\"enter rows\"))\n",
    "for i in range(rows, 0, -1):\n",
    "    for j in range(rows -i):\n",
    "        print(\"\",end = \"\")\n",
    "    for k in range(2 * i - 1):\n",
    "        print(\"*\", end=\"\")\n",
    "    print()"
   ]
  },
  {
   "cell_type": "code",
   "execution_count": 4,
   "metadata": {},
   "outputs": [
    {
     "name": "stdout",
     "output_type": "stream",
     "text": [
      "Collecting pillow\n",
      "  Downloading pillow-10.2.0-cp38-cp38-win_amd64.whl.metadata (9.9 kB)\n",
      "Downloading pillow-10.2.0-cp38-cp38-win_amd64.whl (2.6 MB)\n",
      "   ---------------------------------------- 0.0/2.6 MB ? eta -:--:--\n",
      "   ---------------------------------------- 0.0/2.6 MB ? eta -:--:--\n",
      "   ---------------------------------------- 0.0/2.6 MB 330.3 kB/s eta 0:00:08\n",
      "   - -------------------------------------- 0.1/2.6 MB 660.6 kB/s eta 0:00:04\n",
      "   - -------------------------------------- 0.1/2.6 MB 731.4 kB/s eta 0:00:04\n",
      "   - -------------------------------------- 0.1/2.6 MB 731.4 kB/s eta 0:00:04\n",
      "   - -------------------------------------- 0.1/2.6 MB 731.4 kB/s eta 0:00:04\n",
      "   ---- ----------------------------------- 0.3/2.6 MB 853.3 kB/s eta 0:00:03\n",
      "   ---- ----------------------------------- 0.3/2.6 MB 827.2 kB/s eta 0:00:03\n",
      "   ----- ---------------------------------- 0.3/2.6 MB 802.7 kB/s eta 0:00:03\n",
      "   ------ --------------------------------- 0.4/2.6 MB 853.3 kB/s eta 0:00:03\n",
      "   ------ --------------------------------- 0.4/2.6 MB 853.3 kB/s eta 0:00:03\n",
      "   ------ --------------------------------- 0.4/2.6 MB 853.3 kB/s eta 0:00:03\n",
      "   ------- -------------------------------- 0.5/2.6 MB 823.9 kB/s eta 0:00:03\n",
      "   -------- ------------------------------- 0.6/2.6 MB 858.5 kB/s eta 0:00:03\n",
      "   --------- ------------------------------ 0.6/2.6 MB 903.1 kB/s eta 0:00:03\n",
      "   ----------- ---------------------------- 0.7/2.6 MB 955.7 kB/s eta 0:00:02\n",
      "   ----------- ---------------------------- 0.8/2.6 MB 939.1 kB/s eta 0:00:02\n",
      "   ------------- -------------------------- 0.9/2.6 MB 989.4 kB/s eta 0:00:02\n",
      "   -------------- ------------------------- 0.9/2.6 MB 1.0 MB/s eta 0:00:02\n",
      "   ---------------- ----------------------- 1.1/2.6 MB 1.1 MB/s eta 0:00:02\n",
      "   ----------------- ---------------------- 1.1/2.6 MB 1.1 MB/s eta 0:00:02\n",
      "   ------------------- -------------------- 1.3/2.6 MB 1.2 MB/s eta 0:00:02\n",
      "   -------------------- ------------------- 1.4/2.6 MB 1.2 MB/s eta 0:00:02\n",
      "   --------------------- ------------------ 1.4/2.6 MB 1.2 MB/s eta 0:00:01\n",
      "   ---------------------- ----------------- 1.5/2.6 MB 1.2 MB/s eta 0:00:01\n",
      "   ----------------------- ---------------- 1.6/2.6 MB 1.2 MB/s eta 0:00:01\n",
      "   ------------------------ --------------- 1.6/2.6 MB 1.2 MB/s eta 0:00:01\n",
      "   --------------------------- ------------ 1.8/2.6 MB 1.3 MB/s eta 0:00:01\n",
      "   ---------------------------- ----------- 1.9/2.6 MB 1.3 MB/s eta 0:00:01\n",
      "   ------------------------------- -------- 2.1/2.6 MB 1.4 MB/s eta 0:00:01\n",
      "   --------------------------------- ------ 2.2/2.6 MB 1.5 MB/s eta 0:00:01\n",
      "   ------------------------------------ --- 2.4/2.6 MB 1.6 MB/s eta 0:00:01\n",
      "   -------------------------------------- - 2.5/2.6 MB 1.6 MB/s eta 0:00:01\n",
      "   ---------------------------------------  2.6/2.6 MB 1.6 MB/s eta 0:00:01\n",
      "   ---------------------------------------- 2.6/2.6 MB 1.6 MB/s eta 0:00:00\n",
      "Installing collected packages: pillow\n",
      "Successfully installed pillow-10.2.0\n",
      "Note: you may need to restart the kernel to use updated packages.\n"
     ]
    }
   ],
   "source": [
    "pip install pillow"
   ]
  },
  {
   "cell_type": "code",
   "execution_count": 5,
   "metadata": {},
   "outputs": [
    {
     "name": "stdout",
     "output_type": "stream",
     "text": [
      "Occurrences of P : 1\n"
     ]
    }
   ],
   "source": [
    "string = \"Praveen kumar barad\"\n",
    "letter = 'P'\n",
    "count = string.count(letter)\n",
    "print(\"Occurrences of\", letter, \":\", count)"
   ]
  },
  {
   "cell_type": "code",
   "execution_count": 78,
   "metadata": {},
   "outputs": [
    {
     "name": "stdout",
     "output_type": "stream",
     "text": [
      "[328, 136, 149, 126, 144, 211, 220, 206, 164, 128]\n",
      "The difference between the highest and lowest population among the 10 countries is: 202\n"
     ]
    }
   ],
   "source": [
    "\n",
    "countries = [\"United States: 328\", \"India: 136\", \"China: 149\", \"Japan: 126\", \"Russia: 144\", \"Brazil: 211\", \"Pakistan: 220\", \"Nigeria: 206\", \"Bangladesh: 164\", \"Mexico: 128\"]\n",
    "populations = [int(country.split(\":\")[1]) for country in countries]\n",
    "print(populations)\n",
    "difference = max(populations) - min(populations)\n",
    "print(\"The difference between the highest and lowest population among the 10 countries is:\", difference)"
   ]
  }
 ],
 "metadata": {
  "kernelspec": {
   "display_name": "DMP",
   "language": "python",
   "name": "python3"
  },
  "language_info": {
   "codemirror_mode": {
    "name": "ipython",
    "version": 3
   },
   "file_extension": ".py",
   "mimetype": "text/x-python",
   "name": "python",
   "nbconvert_exporter": "python",
   "pygments_lexer": "ipython3",
   "version": "3.8.18"
  }
 },
 "nbformat": 4,
 "nbformat_minor": 2
}
