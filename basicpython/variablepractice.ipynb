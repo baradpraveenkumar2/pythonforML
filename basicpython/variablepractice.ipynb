{
 "cells": [
  {
   "cell_type": "code",
   "execution_count": 2,
   "id": "002a8c0d",
   "metadata": {},
   "outputs": [
    {
     "name": "stdout",
     "output_type": "stream",
     "text": [
      "praveen\n"
     ]
    }
   ],
   "source": [
    "print('praveen')\n"
   ]
  },
  {
   "cell_type": "code",
   "execution_count": 3,
   "id": "384d5c2c",
   "metadata": {},
   "outputs": [
    {
     "name": "stdout",
     "output_type": "stream",
     "text": [
      "232\n"
     ]
    }
   ],
   "source": [
    "print('232')"
   ]
  },
  {
   "cell_type": "code",
   "execution_count": 59,
   "id": "826d80de",
   "metadata": {},
   "outputs": [
    {
     "name": "stdout",
     "output_type": "stream",
     "text": [
      "10.0\n",
      "praveen\n"
     ]
    }
   ],
   "source": [
    "print(10.0)\n",
    "print(\"praveen\")"
   ]
  },
  {
   "cell_type": "code",
   "execution_count": 4,
   "id": "a96c7c1c",
   "metadata": {},
   "outputs": [
    {
     "name": "stdout",
     "output_type": "stream",
     "text": [
      "my@world\n"
     ]
    }
   ],
   "source": [
    "print(\"my\", \"world\", sep=\"@\")"
   ]
  },
  {
   "cell_type": "code",
   "execution_count": 5,
   "id": "a07537bb",
   "metadata": {},
   "outputs": [
    {
     "name": "stdout",
     "output_type": "stream",
     "text": [
      "hello\n",
      "aaa\n"
     ]
    }
   ],
   "source": [
    "print(\"hello\\naaa\")"
   ]
  },
  {
   "cell_type": "code",
   "execution_count": 24,
   "id": "c8be51c9",
   "metadata": {},
   "outputs": [
    {
     "name": "stdout",
     "output_type": "stream",
     "text": [
      "praveenkumarbarad:-)hyderabad\n"
     ]
    }
   ],
   "source": [
    "print(\"praveenkumarbarad\", end=\":-)\")\n",
    "print(\"hyderabad\")"
   ]
  },
  {
   "cell_type": "code",
   "execution_count": 7,
   "id": "0cbe666b",
   "metadata": {},
   "outputs": [
    {
     "name": "stdout",
     "output_type": "stream",
     "text": [
      "praveen \t barad\n"
     ]
    }
   ],
   "source": [
    "print(\"praveen\", \"\\t\", \"barad\")"
   ]
  },
  {
   "cell_type": "code",
   "execution_count": 9,
   "id": "012b3bbc",
   "metadata": {},
   "outputs": [
    {
     "name": "stdout",
     "output_type": "stream",
     "text": [
      "sum 46\n"
     ]
    }
   ],
   "source": [
    "print('sum', 2+22+22)"
   ]
  },
  {
   "cell_type": "code",
   "execution_count": 35,
   "id": "ac76cc3d",
   "metadata": {},
   "outputs": [
    {
     "name": "stdout",
     "output_type": "stream",
     "text": [
      "next\n"
     ]
    },
    {
     "data": {
      "text/plain": [
       "26"
      ]
     },
     "execution_count": 35,
     "metadata": {},
     "output_type": "execute_result"
    }
   ],
   "source": [
    "a = 11\n",
    "b = 2\n",
    "y = 200\n",
    "print(\"next\")\n",
    "d = 7\n",
    "e = 9\n",
    "f =10\n",
    "d+e+f"
   ]
  },
  {
   "cell_type": "code",
   "execution_count": 36,
   "id": "e5d9f7e2",
   "metadata": {},
   "outputs": [
    {
     "name": "stdout",
     "output_type": "stream",
     "text": [
      "200\n",
      "202\n"
     ]
    }
   ],
   "source": [
    "\n",
    "print(y)\n",
    "print(b + y)"
   ]
  },
  {
   "cell_type": "code",
   "execution_count": 58,
   "id": "e15d23b1",
   "metadata": {},
   "outputs": [
    {
     "name": "stdout",
     "output_type": "stream",
     "text": [
      "The product of 6.0\n"
     ]
    }
   ],
   "source": [
    "\n",
    "num1 = float(input(\"Enter the first number: \"))\n",
    "num2 = float(input(\"Enter the second number: \"))\n",
    "result = num1 * num2\n",
    "print(\"The product of\",result)\n"
   ]
  },
  {
   "cell_type": "code",
   "execution_count": 52,
   "id": "070628e5",
   "metadata": {},
   "outputs": [
    {
     "name": "stdout",
     "output_type": "stream",
     "text": [
      "4 shirts\n"
     ]
    }
   ],
   "source": [
    "count_of_shirts = 2\n",
    "type(count_of_shirts)\n",
    "print(count_of_shirts * 2,\"shirts\")\n"
   ]
  },
  {
   "cell_type": "code",
   "execution_count": 53,
   "id": "9a794b4e",
   "metadata": {},
   "outputs": [
    {
     "name": "stdout",
     "output_type": "stream",
     "text": [
      "<class 'int'>\n",
      "12 shirts/pants\n"
     ]
    }
   ],
   "source": [
    "count_of_shirts = 4\n",
    "count_of_pants = 4\n",
    "print(type(count_of_shirts))\n",
    "print(count_of_shirts + count_of_pants * 2,\"shirts/pants\")\n"
   ]
  },
  {
   "cell_type": "code",
   "execution_count": 39,
   "id": "782343ac",
   "metadata": {},
   "outputs": [
    {
     "data": {
      "text/plain": [
       "(True, False, True, False, True)"
      ]
     },
     "execution_count": 39,
     "metadata": {},
     "output_type": "execute_result"
    }
   ],
   "source": [
    "a > b, a == d, e < y, b >= y , a <= y"
   ]
  },
  {
   "cell_type": "code",
   "execution_count": 45,
   "id": "a53167d1",
   "metadata": {},
   "outputs": [
    {
     "name": "stdout",
     "output_type": "stream",
     "text": [
      "True\n",
      "False\n",
      "False\n"
     ]
    }
   ],
   "source": [
    "find = (5 > 3)\n",
    "print(find)\n",
    "find = (5 < 3)\n",
    "print(find)\n",
    "find = (5 == 3)\n",
    "print(find)\n",
    "\n"
   ]
  },
  {
   "cell_type": "code",
   "execution_count": 46,
   "id": "a0cd3701",
   "metadata": {},
   "outputs": [
    {
     "name": "stdout",
     "output_type": "stream",
     "text": [
      "True\n"
     ]
    }
   ],
   "source": [
    "marks = 95\n",
    "results =  (marks >= 40)\n",
    "print(results)"
   ]
  },
  {
   "cell_type": "code",
   "execution_count": 49,
   "id": "0edf46cf",
   "metadata": {},
   "outputs": [
    {
     "name": "stdout",
     "output_type": "stream",
     "text": [
      "True very good\n"
     ]
    }
   ],
   "source": [
    "grade = 9\n",
    "results =  (grade >= 9)\n",
    "print(results, \"very good\")"
   ]
  },
  {
   "cell_type": "code",
   "execution_count": 20,
   "id": "7e72564b",
   "metadata": {},
   "outputs": [
    {
     "data": {
      "text/plain": [
       "2.5"
      ]
     },
     "execution_count": 20,
     "metadata": {},
     "output_type": "execute_result"
    }
   ],
   "source": [
    "(2 - 1) * ((4 + 1) / (3 - 1))"
   ]
  },
  {
   "cell_type": "code",
   "execution_count": 1,
   "id": "47ffc63c",
   "metadata": {},
   "outputs": [
    {
     "name": "stdout",
     "output_type": "stream",
     "text": [
      "Different types of fruits in store\n",
      "Total fruit sale 479\n"
     ]
    }
   ],
   "source": [
    "print(\"Different types of fruits in store\")\n",
    "orange = 100\n",
    "mango = 98\n",
    "piapple = 99\n",
    "apple = 95\n",
    "banana = 87\n",
    "fruits = orange +mango +piapple + apple + banana\n",
    "print(\"Total fruit sale\", fruits)"
   ]
  },
  {
   "cell_type": "code",
   "execution_count": 2,
   "id": "e751c89d",
   "metadata": {},
   "outputs": [
    {
     "name": "stdout",
     "output_type": "stream",
     "text": [
      "Different types of fruits in store\n",
      "Total fruit sale profit 18.7\n"
     ]
    }
   ],
   "source": [
    "print(\"Different types of fruits in store\")\n",
    "orange = 100\n",
    "banana = 87\n",
    "fruits = orange  + banana\n",
    "print(\"Total fruit sale profit\", fruits*10/100 )"
   ]
  },
  {
   "cell_type": "code",
   "execution_count": 3,
   "id": "f7d4522c",
   "metadata": {},
   "outputs": [
    {
     "name": "stdout",
     "output_type": "stream",
     "text": [
      "product of 10 and 5 is 50\n",
      "quotient of 20 and 15 is 1.3333333333333333\n",
      "difference between 20 and 15 is 5\n"
     ]
    }
   ],
   "source": [
    "a = 10\n",
    "b = 5\n",
    "c = 20\n",
    "d = 15\n",
    "\n",
    "product = a * b\n",
    "quotient = c / d\n",
    "difference = c - d\n",
    "\n",
    "print(\"product of\", a, \"and\", b, \"is\", product)\n",
    "print(\"quotient of\", c, \"and\", d, \"is\", quotient)\n",
    "print(\"difference between\", c, \"and\", d, \"is\", difference)"
   ]
  },
  {
   "cell_type": "code",
   "execution_count": 5,
   "id": "2bd48ab6",
   "metadata": {},
   "outputs": [
    {
     "name": "stdout",
     "output_type": "stream",
     "text": [
      "volume 523.3333333333334\n",
      "Surface 314.0\n"
     ]
    }
   ],
   "source": [
    "radius = 5\n",
    "\n",
    "volume = (4/3) * 3.14 * (radius ** 3)\n",
    "surface_area = 4 * 3.14 * (radius ** 2)\n",
    "print(\"volume\", volume)\n",
    "print(\"Surface\", surface_area)"
   ]
  },
  {
   "cell_type": "code",
   "execution_count": 10,
   "id": "dce06f9c",
   "metadata": {},
   "outputs": [
    {
     "name": "stdout",
     "output_type": "stream",
     "text": [
      "('Praveen', 'kumar', 'BTECH ', 'GRADUATED')\n"
     ]
    }
   ],
   "source": [
    "P= (\"Praveen\" , \"kumar\")\n",
    "K= (\"BTECH \" , \"GRADUATED\")\n",
    "print(P + K)"
   ]
  },
  {
   "cell_type": "code",
   "execution_count": 12,
   "id": "55d9be2e",
   "metadata": {},
   "outputs": [
    {
     "name": "stdout",
     "output_type": "stream",
     "text": [
      "types of 3 different inputs: <class 'str'> <class 'int'> <class 'float'>\n"
     ]
    }
   ],
   "source": [
    "first= type(\"a\")\n",
    "sencond = type(1)\n",
    "third = type(1.1)\n",
    "\n",
    "print(\"types of 3 different inputs:\",first, sencond, third)"
   ]
  },
  {
   "cell_type": "code",
   "execution_count": 21,
   "id": "dd32df58",
   "metadata": {},
   "outputs": [
    {
     "name": "stdout",
     "output_type": "stream",
     "text": [
      "True false?\n",
      "True\n"
     ]
    }
   ],
   "source": [
    "print(\"True false?\")\n",
    "karim_maths = 80\n",
    "karim_science = 98\n",
    "karim_social = 88\n",
    "\n",
    "praveen_maths = 95\n",
    "praveen_science = 97\n",
    "praveen_social = 100\n",
    "Karim =karim_maths + karim_science + karim_social\n",
    "praveen = praveen_science + praveen_maths + praveen_social\n",
    "print(praveen>Karim)\n",
    "\n",
    "\n"
   ]
  },
  {
   "cell_type": "code",
   "execution_count": 54,
   "id": "3310e20c",
   "metadata": {},
   "outputs": [
    {
     "name": "stdout",
     "output_type": "stream",
     "text": [
      "count of gadgets\n",
      "Ali gadgets:  6\n"
     ]
    }
   ],
   "source": [
    "print(\"count of gadgets\")\n",
    "ali_laptop = 2\n",
    "ali_pc = 3\n",
    "ali_tablets = 1\n",
    "\n",
    "print(\"Ali gadgets: \", ali_laptop + ali_pc + ali_tablets)\n"
   ]
  },
  {
   "cell_type": "code",
   "execution_count": 23,
   "id": "8aed8915",
   "metadata": {},
   "outputs": [
    {
     "name": "stdout",
     "output_type": "stream",
     "text": [
      "count of gadgets\n",
      "karim gadgets:  4\n",
      "praveen gadgets:  12\n"
     ]
    }
   ],
   "source": [
    "print(\"count of gadgets\")\n",
    "karim_laptop = 1\n",
    "karim_pc = 2\n",
    "karim_tablets = 1\n",
    "praveen_laptop = 3\n",
    "praveen_pc=4\n",
    "praveen_tablets = 5\n",
    "\n",
    "print(\"karim gadgets: \",karim_laptop + karim_pc + karim_tablets)\n",
    "print(\"praveen gadgets: \",praveen_laptop + praveen_pc + praveen_tablets)\n"
   ]
  },
  {
   "cell_type": "code",
   "execution_count": 48,
   "id": "f744ca5d",
   "metadata": {},
   "outputs": [
    {
     "name": "stdout",
     "output_type": "stream",
     "text": [
      "30 sunday True\n"
     ]
    }
   ],
   "source": [
    "weatherindegree = 30\n",
    "day = \"sunday\"\n",
    "weekend = True\n",
    "print(weatherindegree, day, good)"
   ]
  },
  {
   "cell_type": "code",
   "execution_count": 56,
   "id": "43b8eeaa",
   "metadata": {},
   "outputs": [
    {
     "name": "stdout",
     "output_type": "stream",
     "text": [
      "count of gadgets and total price for praveen\n",
      "pra gadgets:  6\n",
      "Total Price for praveen's gadgets: 5600\n"
     ]
    }
   ],
   "source": [
    "print(\"count of gadgets and total price for praveen\")\n",
    "praveen_laptop = 2\n",
    "praveen_pc = 3\n",
    "praveen_tablets = 1\n",
    "\n",
    "laptop_price = 800 \n",
    "pc_price = 1200   \n",
    "tablet_price = 400 \n",
    "\n",
    "total_price_pra = (praveen_laptop * laptop_price) + (praveen_pc * pc_price) + (praveen_tablets * tablet_price)\n",
    "\n",
    "print(\"pra gadgets: \", praveen_laptop + praveen_pc + praveen_tablets)\n",
    "print(\"Total Price for praveen's gadgets:\",total_price_pra)\n"
   ]
  },
  {
   "cell_type": "code",
   "execution_count": 57,
   "id": "1224230c",
   "metadata": {},
   "outputs": [
    {
     "name": "stdout",
     "output_type": "stream",
     "text": [
      "count of gadgets, total price, and warranty for Sarah\n",
      "Sarah gadgets:  7\n",
      "Total Price for Sarah gadgets: 5370\n",
      "Total Warranty for Sarah gadgets:  16  years\n"
     ]
    }
   ],
   "source": [
    "print(\"count of gadgets, total price, and warranty for Sarah\")\n",
    "sarah_laptop = 1\n",
    "sarah_pc = 4\n",
    "sarah_tablets = 2\n",
    "\n",
    "laptop_price = 900   \n",
    "pc_price = 1100       \n",
    "tablet_price = 35\n",
    "\n",
    "laptop_warranty = 2   \n",
    "pc_warranty = 3       \n",
    "tablet_warranty = 1   \n",
    "total_price_sarah = (sarah_laptop * laptop_price) + (sarah_pc * pc_price) + (sarah_tablets * tablet_price)\n",
    "total_warranty_sarah = (sarah_laptop * laptop_warranty) + (sarah_pc * pc_warranty) + (sarah_tablets * tablet_warranty)\n",
    "\n",
    "print(\"Sarah gadgets: \", sarah_laptop + sarah_pc + sarah_tablets)\n",
    "print(\"Total Price for Sarah gadgets:\", total_price_sarah)\n",
    "print(\"Total Warranty for Sarah gadgets: \", total_warranty_sarah, \" years\")\n"
   ]
  }
 ],
 "metadata": {
  "kernelspec": {
   "display_name": "Python 3 (ipykernel)",
   "language": "python",
   "name": "python3"
  },
  "language_info": {
   "codemirror_mode": {
    "name": "ipython",
    "version": 3
   },
   "file_extension": ".py",
   "mimetype": "text/x-python",
   "name": "python",
   "nbconvert_exporter": "python",
   "pygments_lexer": "ipython3",
   "version": "3.8.18"
  }
 },
 "nbformat": 4,
 "nbformat_minor": 5
}
