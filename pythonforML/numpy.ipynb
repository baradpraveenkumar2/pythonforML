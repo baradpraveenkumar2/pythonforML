{
 "cells": [
  {
   "cell_type": "code",
   "execution_count": 2,
   "metadata": {},
   "outputs": [],
   "source": [
    "import numpy as np"
   ]
  },
  {
   "cell_type": "code",
   "execution_count": 6,
   "metadata": {},
   "outputs": [
    {
     "name": "stdout",
     "output_type": "stream",
     "text": [
      "[2 3 4 5]\n"
     ]
    }
   ],
   "source": [
    "arraya = np.array([1,2,3,4,5])\n",
    "print(arraya[1:5])"
   ]
  },
  {
   "cell_type": "code",
   "execution_count": 16,
   "metadata": {},
   "outputs": [
    {
     "data": {
      "text/plain": [
       "array([4, 1, 4, 4, 4])"
      ]
     },
     "execution_count": 16,
     "metadata": {},
     "output_type": "execute_result"
    }
   ],
   "source": [
    "x =[4,6,8,10,2]\n",
    "y =[2,1,2,2,2]\n",
    "arx = np.array(x)\n",
    "ary = np.array(y)\n",
    "arx/ary\n",
    "ary**2"
   ]
  },
  {
   "cell_type": "code",
   "execution_count": 95,
   "metadata": {},
   "outputs": [
    {
     "name": "stdout",
     "output_type": "stream",
     "text": [
      "[137 136 191]\n"
     ]
    }
   ],
   "source": [
    "random_vector = np.random.randint([1,101,10],200)\n",
    "print(random_vector)"
   ]
  },
  {
   "cell_type": "code",
   "execution_count": 38,
   "metadata": {},
   "outputs": [
    {
     "name": "stdout",
     "output_type": "stream",
     "text": [
      "[[0.43468512 0.07893486 0.41470233 0.91045555 0.34826903 0.14644036\n",
      "  0.73148673]\n",
      " [0.75657535 0.52169168 0.01021333 0.54111233 0.21362862 0.85578031\n",
      "  0.73891961]\n",
      " [0.68183651 0.1441875  0.49504587 0.41077452 0.29676523 0.5475649\n",
      "  0.64982694]\n",
      " [0.6569487  0.10498536 0.35281741 0.14977709 0.84377295 0.83536195\n",
      "  0.00877809]\n",
      " [0.32564517 0.20290266 0.10188984 0.1275543  0.92854323 0.47177706\n",
      "  0.91139992]]\n"
     ]
    }
   ],
   "source": [
    "random_vector = np.random.rand(5,7)\n",
    "print(random_vector)"
   ]
  },
  {
   "cell_type": "code",
   "execution_count": 45,
   "metadata": {},
   "outputs": [
    {
     "data": {
      "text/plain": [
       "array([1, 2, 3, 3, 4])"
      ]
     },
     "execution_count": 45,
     "metadata": {},
     "output_type": "execute_result"
    }
   ],
   "source": [
    "vec = np.array([2,4,6,7,8])\n",
    "constant = 10\n",
    "newvec = np.zeros_like(vec)\n",
    "\n",
    "for i in range(len(vec)):\n",
    "    newvec[i]=vec[i]/2\n",
    "newvec"
   ]
  },
  {
   "cell_type": "code",
   "execution_count": 55,
   "metadata": {},
   "outputs": [
    {
     "name": "stdout",
     "output_type": "stream",
     "text": [
      "[[1 2]\n",
      " [3 4]]\n",
      "[[1 2]\n",
      " [2 2]]\n",
      "[[ 5  6]\n",
      " [11 14]]\n"
     ]
    }
   ],
   "source": [
    "mat1 =np.array([[1,2],[3,4]])\n",
    "mat2 =np.array([np.random.randint(1,4,4)])\n",
    "print(mat1)\n",
    "mat2= mat2.reshape(2,2)\n",
    "print(mat2)\n",
    "\n",
    "r = np.dot(mat1,mat2)\n",
    "print(r)\n"
   ]
  },
  {
   "cell_type": "code",
   "execution_count": 78,
   "metadata": {},
   "outputs": [
    {
     "name": "stdout",
     "output_type": "stream",
     "text": [
      "100\n",
      "[50 54]\n",
      "[54 50]\n"
     ]
    }
   ],
   "source": [
    "z=np.zeros([10])\n",
    "z = np.zeros([10,10])\n",
    "print(z.size)\n",
    "z = np.arange(50,55,4)\n",
    "print(z)\n",
    "z = z[::-1]\n",
    "print(z)"
   ]
  },
  {
   "cell_type": "code",
   "execution_count": 80,
   "metadata": {},
   "outputs": [
    {
     "name": "stdout",
     "output_type": "stream",
     "text": [
      "[[1. 0.]\n",
      " [0. 1.]]\n"
     ]
    }
   ],
   "source": [
    "z  = np.eye(2)\n",
    "print(z)\n"
   ]
  },
  {
   "cell_type": "code",
   "execution_count": 117,
   "metadata": {},
   "outputs": [
    {
     "name": "stdout",
     "output_type": "stream",
     "text": [
      "49.63333333333333\n",
      "[[1. 1. 1. 1. 1. 1. 1. 1. 1. 1.]\n",
      " [1. 0. 0. 0. 0. 0. 0. 0. 0. 1.]\n",
      " [1. 0. 0. 0. 0. 0. 0. 0. 0. 1.]\n",
      " [1. 0. 0. 0. 0. 0. 0. 0. 0. 1.]\n",
      " [1. 0. 0. 0. 0. 0. 0. 0. 0. 1.]\n",
      " [1. 0. 0. 0. 0. 0. 0. 0. 0. 1.]\n",
      " [1. 0. 0. 0. 0. 0. 0. 0. 0. 1.]\n",
      " [1. 0. 0. 0. 0. 0. 0. 0. 0. 1.]\n",
      " [1. 0. 0. 0. 0. 0. 0. 0. 0. 1.]\n",
      " [1. 1. 1. 1. 1. 1. 1. 1. 1. 1.]]\n"
     ]
    }
   ],
   "source": [
    "z1= np.random.randint(1,100,30)\n",
    "m = z1.mean()\n",
    "print(m)\n",
    "\n"
   ]
  },
  {
   "cell_type": "code",
   "execution_count": 118,
   "metadata": {},
   "outputs": [
    {
     "name": "stdout",
     "output_type": "stream",
     "text": [
      "[[ 1  2  3  4  5  6]\n",
      " [ 7  8  9 10 11 12]\n",
      " [13 14 15 16 17 18]\n",
      " [19 20 21 22 23 24]\n",
      " [25 26 27 28 29 30]]\n",
      "[[ 1  7 13 19 25]\n",
      " [ 2  8 14 20 26]\n",
      " [ 3  9 15 21 27]\n",
      " [ 4 10 16 22 28]\n",
      " [ 5 11 17 23 29]\n",
      " [ 6 12 18 24 30]]\n",
      "teams [ 1  7 13 19 25]\n",
      "teams [ 2  8 14 20 26]\n",
      "teams [ 3  9 15 21 27]\n",
      "teams [ 4 10 16 22 28]\n",
      "teams [ 5 11 17 23 29]\n",
      "teams [ 6 12 18 24 30]\n"
     ]
    }
   ],
   "source": [
    "\n",
    "students = np.arange(1, 31)\n",
    "\n",
    "students = students.reshape(5, 6)\n",
    "print(students)\n",
    "teams = students.T\n",
    "print(teams)\n",
    "\n",
    "for index,i in enumerate(teams):\n",
    "    print(\"teams\",teams[index])"
   ]
  },
  {
   "cell_type": "code",
   "execution_count": 3,
   "metadata": {},
   "outputs": [
    {
     "name": "stdout",
     "output_type": "stream",
     "text": [
      "Original array\n",
      "[1, 2, 3, 4]\n",
      "Array converted to a float type:\n",
      "[1. 2. 3. 4.]\n"
     ]
    }
   ],
   "source": [
    "\n",
    "a = [1, 2, 3, 4]\n",
    "\n",
    "print(\"Original array\")\n",
    "print(a)\n",
    "x = np.asfarray(a)\n",
    "print(\"Array converted to a float type:\")\n",
    "print(x) "
   ]
  },
  {
   "cell_type": "code",
   "execution_count": 9,
   "metadata": {},
   "outputs": [
    {
     "name": "stdout",
     "output_type": "stream",
     "text": [
      "[[1. 1. 1. 1. 1.]\n",
      " [1. 0. 0. 0. 1.]\n",
      " [1. 0. 0. 0. 1.]\n",
      " [1. 0. 0. 0. 1.]\n",
      " [1. 1. 1. 1. 1.]]\n"
     ]
    }
   ],
   "source": [
    "a = np.ones(25)\n",
    "a= a.reshape(5,5)\n",
    "a[1:-1,1:-1]=0\n",
    "print(a)\n",
    "\n",
    "\n",
    "\n",
    "\n",
    "\n"
   ]
  },
  {
   "cell_type": "code",
   "execution_count": 11,
   "metadata": {},
   "outputs": [
    {
     "name": "stdout",
     "output_type": "stream",
     "text": [
      "[[1.44266411e-311 2.42092166e-322 0.00000000e+000 0.00000000e+000]\n",
      " [1.10343781e-312 2.92966904e-033 5.27847958e-091 4.27969631e-037]\n",
      " [2.36689554e+179 3.12453507e-033 6.99196248e+228 1.42320287e+160]]\n",
      "[[6 6 6]\n",
      " [6 6 6]\n",
      " [6 6 6]]\n"
     ]
    }
   ],
   "source": [
    "\n",
    "\n",
    "x = np.empty((3, 4))\n",
    "\n",
    "print(x)\n",
    "\n",
    "y = np.full((3, 3), 6)\n",
    "\n",
    "print(y)"
   ]
  },
  {
   "cell_type": "code",
   "execution_count": 19,
   "metadata": {},
   "outputs": [
    {
     "name": "stdout",
     "output_type": "stream",
     "text": [
      "Values in Fahrenheit degrees:\n",
      "[ 0.   12.   45.21 34.   99.91 32.  ]\n",
      "Values in  Centigrade degrees:\n",
      "[-17.778 -11.111   7.339   1.111  37.728   0.   ]\n",
      "[-18. -11.   7.   1.  38.   0.]\n"
     ]
    }
   ],
   "source": [
    "\n",
    "\n",
    "fvalues = [0, 12, 45.21, 34, 99.91, 32]\n",
    "\n",
    "F = np.array(fvalues)\n",
    "\n",
    "print(\"Values in Fahrenheit degrees:\")\n",
    "print(F)\n",
    "\n",
    "print(\"Values in  Centigrade degrees:\")\n",
    "final = np.round((5 * F / 9 - 5 * 32 / 9), 3)\n",
    "print(final)\n",
    "print(np.round(final))"
   ]
  },
  {
   "cell_type": "code",
   "execution_count": 26,
   "metadata": {},
   "outputs": [
    {
     "name": "stdout",
     "output_type": "stream",
     "text": [
      "Array1:  [   0   10   20   40   60  234 4234 4234  424  345    5    5   54    2\n",
      "   34    5   78   87   78  876]\n",
      "Array2:  [10, 30, 40, 456, 46, 23, 5435, 34, 35353, 5, 543, 345, 53, 45, 54, 2, 34, 5, 78, 87, 78, 876, 7467, 887, 7876]\n",
      "Common values between two arrays:\n",
      "[  2   5  10  34  40  54  78  87 345 876]\n",
      "[[  2   5  10  34  40]\n",
      " [ 54  78  87 345 876]]\n"
     ]
    }
   ],
   "source": [
    "array1 = np.array([0, 10, 20, 40, 60,234,4234,4234,424,345,5,5,54,2,34,5,78,87,78,876,])\n",
    "\n",
    "\n",
    "print(\"Array1: \", array1)\n",
    "\n",
    "array2 = [10, 30, 40,456,46,23,5435,34,35353,5,543,345,53,45,54,2,34,5,78,87,78,876,7467,887,7876]\n",
    "\n",
    "print(\"Array2: \", array2)\n",
    "\n",
    "print(\"Common values between two arrays:\")\n",
    "print(np.intersect1d(array1, array2))\n",
    "twodinterdect= np.intersect1d(array1, array2)\n",
    "twodinterdect= twodinterdect.reshape(2,5)\n",
    "print(twodinterdect)\n"
   ]
  },
  {
   "cell_type": "code",
   "execution_count": 29,
   "metadata": {},
   "outputs": [
    {
     "name": "stdout",
     "output_type": "stream",
     "text": [
      "Array1:  [ 0 10 20 40 60 80]\n",
      "Array2:  [10, 30, 40, 50, 70]\n",
      "Unique values in array1 that are not in array2:\n",
      "[ 0 20 60 80]\n",
      "Unique values in array2 that are not in array1:\n",
      "[30 50 70]\n"
     ]
    }
   ],
   "source": [
    "array1 = np.array([0, 10, 20, 40, 60, 80])\n",
    "\n",
    "\n",
    "print(\"Array1: \", array1)\n",
    "\n",
    "\n",
    "array2 = [10, 30, 40, 50, 70]\n",
    "\n",
    "print(\"Array2: \", array2)\n",
    "\n",
    "\n",
    "print(\"Unique values in array1 that are not in array2:\")\n",
    "print(np.setdiff1d(array1, array2))\n",
    "print(\"Unique values in array2 that are not in array1:\")\n",
    "print(np.setdiff1d(array2, array1))"
   ]
  },
  {
   "cell_type": "code",
   "execution_count": 30,
   "metadata": {},
   "outputs": [
    {
     "name": "stdout",
     "output_type": "stream",
     "text": [
      "False\n",
      "True\n",
      "False\n",
      "True\n"
     ]
    }
   ],
   "source": [
    "print(np.all([[True,False],[True,True]]))  \n",
    "print(np.all([[True,True],[True,True]]))   \n",
    "\n",
    "print(np.all([10, 20, 0, -50]))  \n",
    "print(np.all([10, 20, -50]))"
   ]
  },
  {
   "cell_type": "code",
   "execution_count": 32,
   "metadata": {},
   "outputs": [
    {
     "name": "stdout",
     "output_type": "stream",
     "text": [
      "[3 3 3 3]\n",
      "[[1 2]\n",
      " [3 4]]\n",
      "[1 1 2 2 3 3 4 4]\n"
     ]
    }
   ],
   "source": [
    "x = np.repeat(3, 4)\n",
    "print(x)\n",
    "\n",
    "\n",
    "x = np.array([[1, 2], [3, 4]])\n",
    "print(x)\n",
    "\n",
    "print(np.repeat(x, 2))"
   ]
  },
  {
   "cell_type": "code",
   "execution_count": 33,
   "metadata": {},
   "outputs": [
    {
     "name": "stdout",
     "output_type": "stream",
     "text": [
      "Original array: [12 11 13  5  6]\n",
      "Sorted array: [ 5  6 11 12 13]\n"
     ]
    }
   ],
   "source": [
    "\n",
    "\n",
    "\n",
    "def insertion_sort(arr):\n",
    "    for i in range(1, len(arr)):\n",
    "        key = arr[i]\n",
    "        j = i - 1\n",
    "        while j >= 0 and key < arr[j]:\n",
    "            arr[j + 1] = arr[j]\n",
    "            j -= 1\n",
    "        arr[j + 1] = key\n",
    "    return arr\n",
    "\n",
    "arr = np.array([12, 11, 13, 5, 6])\n",
    "print(\"Original array:\", arr)\n",
    "sorted_arr = insertion_sort(arr)\n",
    "print(\"Sorted array:\", sorted_arr)\n"
   ]
  },
  {
   "cell_type": "code",
   "execution_count": 37,
   "metadata": {},
   "outputs": [
    {
     "name": "stdout",
     "output_type": "stream",
     "text": [
      "[[19 22]\n",
      " [43 50]]\n"
     ]
    }
   ],
   "source": [
    "\n",
    "\n",
    "A = np.array([[1, 2], [3, 4]])\n",
    "B = np.array([[5, 6], [7, 8]])\n",
    "result = np.zeros_like(A)\n",
    "\n",
    "for i in range(A.shape[0]):\n",
    "    for j in range(B.shape[1]):\n",
    "        for k in range(A.shape[1]):\n",
    "            result[i, j] += A[i, k] * B[k, j]\n",
    "\n",
    "print(result)\n",
    "\n",
    "\n",
    "\n"
   ]
  },
  {
   "cell_type": "code",
   "execution_count": 36,
   "metadata": {},
   "outputs": [
    {
     "name": "stdout",
     "output_type": "stream",
     "text": [
      "Matrix A:\n",
      "[[1 2]\n",
      " [3 4]]\n",
      "\n",
      "Matrix B:\n",
      "[[5 6]\n",
      " [7 8]]\n",
      "\n",
      "Result of matrix multiplication A * B:\n",
      "[[19 22]\n",
      " [43 50]]\n"
     ]
    }
   ],
   "source": [
    "\n",
    "A = np.array([[1, 2], [3, 4]])\n",
    "B = np.array([[5, 6], [7, 8]])\n",
    "\n",
    "result = np.dot(A, B)\n",
    "\n",
    "print(\"Matrix A:\")\n",
    "print(A)\n",
    "print(\"\\nMatrix B:\")\n",
    "print(B)\n",
    "print(\"\\nResult of matrix multiplication A * B:\")\n",
    "print(result)\n"
   ]
  },
  {
   "cell_type": "code",
   "execution_count": 40,
   "metadata": {},
   "outputs": [
    {
     "name": "stdout",
     "output_type": "stream",
     "text": [
      "[[1 2 3]\n",
      " [4 5 6]\n",
      " [7 8 9]]\n",
      "[1 2 3 4 5]\n"
     ]
    }
   ],
   "source": [
    "lst = [[1,2,3],[4,5,6],[7,8,9]]\n",
    "arr = np.array(lst)\n",
    "print(arr)\n",
    "\n",
    "tpl = (1,2,3,4,5)\n",
    "arr = np.array(tpl)\n",
    "print(arr)\n"
   ]
  },
  {
   "cell_type": "code",
   "execution_count": 41,
   "metadata": {},
   "outputs": [
    {
     "name": "stdout",
     "output_type": "stream",
     "text": [
      "Original Array:\n",
      "[ 1.  2.  3.  4.  5.  6.  7.  8.  9. 10.]\n",
      "\n",
      "Reshaped Array (2x5):\n",
      "[[ 1.  2.  3.  4.  5.]\n",
      " [ 6.  7.  8.  9. 10.]]\n"
     ]
    }
   ],
   "source": [
    "\n",
    "\n",
    "\n",
    "arr = np.linspace(1, 10, 10)\n",
    "print(\"Original Array:\")\n",
    "print(arr)\n",
    "\n",
    "\n",
    "reshaped_arr = np.reshape(arr, (2, 5))\n",
    "print(\"\\nReshaped Array (2x5):\")\n",
    "print(reshaped_arr)\n"
   ]
  },
  {
   "cell_type": "code",
   "execution_count": 4,
   "metadata": {},
   "outputs": [
    {
     "name": "stdout",
     "output_type": "stream",
     "text": [
      "Original Array:\n",
      "[[0. 0.]\n",
      " [0. 0.]]\n",
      "\n",
      "Concatenated Array:\n",
      "[[0. 0.]\n",
      " [0. 0.]\n",
      " [0. 0.]\n",
      " [0. 0.]]\n"
     ]
    }
   ],
   "source": [
    "\n",
    "\n",
    "\n",
    "arr1 = np.zeros((2, 2))\n",
    "print(\"Original Array:\")\n",
    "print(arr1)\n",
    "\n",
    "\n",
    "transposed_arr = arr1.T\n",
    "concatenated_arr = np.concatenate((arr1, transposed_arr), axis=0)\n",
    "print(\"\\nConcatenated Array:\")\n",
    "print(concatenated_arr)\n"
   ]
  },
  {
   "cell_type": "code",
   "execution_count": 44,
   "metadata": {},
   "outputs": [
    {
     "name": "stdout",
     "output_type": "stream",
     "text": [
      "Original Array:\n",
      "[ 0  1  2  3  4  5  6  7  8  9 10 11]\n",
      "\n",
      "Sub-arrays: [array([0, 1, 2, 3]), array([4, 5, 6, 7]), array([ 8,  9, 10, 11])]\n",
      "Sub-array 1: [0 1 2 3]\n",
      "Sub-array 2: [4 5 6 7]\n",
      "Sub-array 3: [ 8  9 10 11]\n"
     ]
    }
   ],
   "source": [
    "\n",
    "\n",
    "\n",
    "arr = np.arange(12)\n",
    "print(\"Original Array:\")\n",
    "print(arr)\n",
    "\n",
    "subarrays = np.split(arr, 3)\n",
    "print(\"\\nSub-arrays:\",subarrays)\n",
    "for i, subarray in enumerate(subarrays):\n",
    "    print(f\"Sub-array {i+1}: {subarray}\")\n"
   ]
  },
  {
   "cell_type": "code",
   "execution_count": 45,
   "metadata": {},
   "outputs": [
    {
     "name": "stdout",
     "output_type": "stream",
     "text": [
      "Original Identity Matrix:\n",
      "[[1. 0. 0.]\n",
      " [0. 1. 0.]\n",
      " [0. 0. 1.]]\n",
      "\n",
      "Resized Matrix:\n",
      "[[1. 0. 0. 0.]\n",
      " [1. 0. 0. 0.]\n",
      " [1. 1. 0. 0.]\n",
      " [0. 1. 0. 0.]]\n"
     ]
    }
   ],
   "source": [
    "\n",
    "\n",
    "identity_matrix = np.eye(3)\n",
    "print(\"Original Identity Matrix:\")\n",
    "print(identity_matrix)\n",
    "\n",
    "resized_matrix = np.resize(identity_matrix, (4, 4))\n",
    "print(\"\\nResized Matrix:\")\n",
    "print(resized_matrix)\n"
   ]
  },
  {
   "cell_type": "code",
   "execution_count": 48,
   "metadata": {},
   "outputs": [
    {
     "name": "stdout",
     "output_type": "stream",
     "text": [
      "Resized Matrix: \n",
      " [[ 0  1  2  3]\n",
      " [ 4  5  6  7]\n",
      " [ 8  9 10 11]\n",
      " [ 0  1  2  3]]\n"
     ]
    }
   ],
   "source": [
    "arr = np.arange(12)\n",
    "\n",
    "resized_matrix = np.resize(arr, (4, 4))\n",
    "print(\"Resized Matrix:\",\"\\n\",resized_matrix)"
   ]
  },
  {
   "cell_type": "code",
   "execution_count": 50,
   "metadata": {},
   "outputs": [
    {
     "name": "stdout",
     "output_type": "stream",
     "text": [
      "Original Array:\n",
      "[[5 5 5]\n",
      " [5 5 5]\n",
      " [5 5 5]\n",
      " [5 5 5]\n",
      " [5 5 5]\n",
      " [5 5 5]\n",
      " [5 5 5]]\n",
      "\n",
      "Flattened Array:\n",
      "[5 5 5 5 5 5 5 5 5 5 5 5 5 5 5 5 5 5 5 5 5]\n"
     ]
    }
   ],
   "source": [
    "\n",
    "\n",
    "\n",
    "value = 5\n",
    "arr = np.full((7, 3), value)\n",
    "print(\"Original Array:\")\n",
    "print(arr)\n",
    "\n",
    "\n",
    "flattened_arr = arr.flatten()\n",
    "print(\"\\nFlattened Array:\")\n",
    "print(flattened_arr)\n"
   ]
  },
  {
   "cell_type": "code",
   "execution_count": 65,
   "metadata": {},
   "outputs": [
    {
     "name": "stdout",
     "output_type": "stream",
     "text": [
      "[[ 1.   6.8]\n",
      " [12.6 18.4]\n",
      " [24.2 30. ]]\n",
      "[[ 1.  12.6 24.2]\n",
      " [ 6.8 18.4 30. ]]\n"
     ]
    }
   ],
   "source": [
    "arr = np.linspace(1,30,6).reshape(3,2)\n",
    "print(arr)\n",
    "trans = np.transpose(arr)\n",
    "print(trans)\n"
   ]
  },
  {
   "cell_type": "code",
   "execution_count": 63,
   "metadata": {},
   "outputs": [
    {
     "name": "stdout",
     "output_type": "stream",
     "text": [
      "Original Array:\n",
      "[[ 1.          1.81818182  2.63636364  3.45454545]\n",
      " [ 4.27272727  5.09090909  5.90909091  6.72727273]\n",
      " [ 7.54545455  8.36363636  9.18181818 10.        ]]\n",
      "\n",
      "Transposed Array:\n",
      "[[ 1.          4.27272727  7.54545455]\n",
      " [ 1.81818182  5.09090909  8.36363636]\n",
      " [ 2.63636364  5.90909091  9.18181818]\n",
      " [ 3.45454545  6.72727273 10.        ]]\n"
     ]
    }
   ],
   "source": [
    "\n",
    "\n",
    "\n",
    "arr = np.linspace(1, 10, 12).reshape(3, 4)\n",
    "print(\"Original Array:\")\n",
    "print(arr)\n",
    "\n",
    "\n",
    "transposed_arr = np.transpose(arr)\n",
    "print(\"\\nTransposed Array:\")\n",
    "print(transposed_arr)\n"
   ]
  },
  {
   "cell_type": "code",
   "execution_count": 66,
   "metadata": {},
   "outputs": [
    {
     "name": "stdout",
     "output_type": "stream",
     "text": [
      "Original Array:\n",
      "[[0 1 2]\n",
      " [3 4 5]\n",
      " [6 7 8]]\n",
      "\n",
      "Vertically Stacked Array:\n",
      "[[0 1 2]\n",
      " [3 4 5]\n",
      " [6 7 8]\n",
      " [0 3 6]\n",
      " [1 4 7]\n",
      " [2 5 8]]\n"
     ]
    }
   ],
   "source": [
    "\n",
    "\n",
    "\n",
    "arr1 = np.arange(9).reshape(3, 3)\n",
    "print(\"Original Array:\")\n",
    "print(arr1)\n",
    "\n",
    "vstacked_arr = np.vstack((arr1, arr1.T))\n",
    "print(\"\\nVertically Stacked Array:\")\n",
    "print(vstacked_arr)\n"
   ]
  },
  {
   "cell_type": "code",
   "execution_count": 69,
   "metadata": {},
   "outputs": [
    {
     "name": "stdout",
     "output_type": "stream",
     "text": [
      "Original Array:\n",
      "[0. 0. 0. 0. 0. 0. 0. 0. 0. 0.]\n",
      "\n",
      "Sub-arrays:\n",
      "Sub-array 1: [0. 0.]\n",
      "Sub-array 2: [0. 0.]\n",
      "Sub-array 3: [0. 0.]\n",
      "Sub-array 4: [0. 0.]\n",
      "Sub-array 5: [0. 0.]\n"
     ]
    }
   ],
   "source": [
    "\n",
    "\n",
    "\n",
    "arr = np.zeros(10)\n",
    "print(\"Original Array:\")\n",
    "print(arr)\n",
    "\n",
    "\n",
    "subarrays = np.split(arr, 5)\n",
    "print(\"\\nSub-arrays:\")\n",
    "for i, subarray in enumerate(subarrays):\n",
    "    print(f\"Sub-array {i+1}: {subarray}\")\n"
   ]
  },
  {
   "cell_type": "code",
   "execution_count": 76,
   "metadata": {},
   "outputs": [
    {
     "name": "stdout",
     "output_type": "stream",
     "text": [
      "Original Array:\n",
      "[[ 0  1  2  3]\n",
      " [ 4  5  6  7]\n",
      " [ 8  9 10 11]]\n",
      "\n",
      "Element at index (1, 2): 6\n",
      "Slice from the second row onwards:\n",
      "[[ 4  5  6  7]\n",
      " [ 8  9 10 11]]\n"
     ]
    }
   ],
   "source": [
    "\n",
    "\n",
    "arr = np.arange(12)\n",
    "\n",
    "reshaped_arr = np.reshape(arr, (3, 4))\n",
    "\n",
    "print(\"Original Array:\")\n",
    "print(reshaped_arr)\n",
    "\n",
    "print(\"\\nElement at index (1, 2):\", reshaped_arr[1,2])\n",
    "print(\"Slice from the second row onwards:\")\n",
    "print(reshaped_arr[1:])\n"
   ]
  },
  {
   "cell_type": "code",
   "execution_count": 96,
   "metadata": {},
   "outputs": [
    {
     "name": "stdout",
     "output_type": "stream",
     "text": [
      "Original Array:\n",
      "[[1. 1. 1.]\n",
      " [1. 1. 1.]\n",
      " [2. 2. 2.]\n",
      " [2. 2. 2.]]\n",
      "\n",
      "Elements at indices 0 and 2:\n",
      "[[1. 1. 1.]\n",
      " [1. 1. 1.]\n",
      " [2. 2. 2.]\n",
      " [2. 2. 2.]]\n"
     ]
    }
   ],
   "source": [
    "\n",
    "\n",
    "\n",
    "arr1 = np.ones((2, 3))\n",
    "\n",
    "vstacked_arr = np.vstack((arr1, arr1 * 2))\n",
    "\n",
    "print(\"Original Array:\")\n",
    "print(vstacked_arr)\n",
    "\n",
    "indices = np.array([0, 2])\n",
    "\n",
    "print(\"\\nElements at indices 0 and 2:\")\n",
    "print(vstacked_arr[0:4, 0:3])\n"
   ]
  },
  {
   "cell_type": "code",
   "execution_count": 98,
   "metadata": {},
   "outputs": [
    {
     "name": "stdout",
     "output_type": "stream",
     "text": [
      "Original Array:\n",
      "[ 1.  2.  3.  4.  5.  6.  7.  8.  9. 10.]\n",
      "[False False False False False  True  True  True  True  True]\n",
      "\n",
      "Elements greater than 5:\n",
      "[ 6.  7.  8.  9. 10.]\n"
     ]
    }
   ],
   "source": [
    "\n",
    "\n",
    "arr = np.linspace(1, 10, 10)\n",
    "\n",
    "bool_index = arr > 5\n",
    "\n",
    "\n",
    "print(\"Original Array:\")\n",
    "print(arr)\n",
    "print(bool_index)\n",
    "\n",
    "print(\"\\nElements greater than 5:\")\n",
    "print(arr[bool_index])\n"
   ]
  },
  {
   "cell_type": "code",
   "execution_count": 100,
   "metadata": {},
   "outputs": [
    {
     "name": "stdout",
     "output_type": "stream",
     "text": [
      "Original Array:\n",
      "[[0. 0. 0. 0.]\n",
      " [0. 0. 0. 0.]\n",
      " [0. 0. 0. 0.]]\n",
      "Slice of the first two rows:\n",
      "[[0. 0. 0. 0.]\n",
      " [0. 0. 0. 0.]]\n"
     ]
    }
   ],
   "source": [
    "\n",
    "\n",
    "\n",
    "arr = np.zeros(12)\n",
    "\n",
    "\n",
    "reshaped_arr = np.reshape(arr, (3, 4))\n",
    "\n",
    "\n",
    "print(\"Original Array:\")\n",
    "print(reshaped_arr)\n",
    "\n",
    "print(\"Slice of the first two rows:\")\n",
    "print(reshaped_arr[:2])\n"
   ]
  },
  {
   "cell_type": "code",
   "execution_count": 112,
   "metadata": {},
   "outputs": [
    {
     "name": "stdout",
     "output_type": "stream",
     "text": [
      "[1. 2. 3. 4. 5.]\n",
      "Original Array:\n",
      "[[ 1.  6.]\n",
      " [ 2.  7.]\n",
      " [ 3.  8.]\n",
      " [ 4.  9.]\n",
      " [ 5. 10.]]\n",
      "[[ 1.  6.]\n",
      " [ 2.  7.]\n",
      " [ 3.  8.]\n",
      " [ 4.  9.]\n",
      " [ 5. 10.]]\n"
     ]
    }
   ],
   "source": [
    "\n",
    "\n",
    "\n",
    "arr1 = np.linspace(1, 5, 5)\n",
    "arr2 = np.linspace(6, 10, 5)\n",
    "print(arr1)\n",
    "hstacked_arr = np.hstack((arr1.reshape(-1, 1), arr2.reshape(-1, 1)))\n",
    "\n",
    "print(\"Original Array:\")\n",
    "print(hstacked_arr)\n",
    "\n",
    "print(hstacked_arr[:, :2])\n"
   ]
  },
  {
   "cell_type": "code",
   "execution_count": 117,
   "metadata": {},
   "outputs": [
    {
     "name": "stdout",
     "output_type": "stream",
     "text": [
      "Original Array:\n",
      "[[0.20179506 0.54275598 0.03863274]\n",
      " [0.07267682 0.51372575 0.55477322]\n",
      " [0.30457887 0.17453745 0.72059097]]\n",
      "\n",
      "Mean of the array: 0.3471185400932774\n",
      "Median of the array: 0.3045788698192434\n",
      "Standard deviation of the array: 0.2289659389586117\n",
      "Variance of the array: 0.052425401203198704\n"
     ]
    }
   ],
   "source": [
    "\n",
    "\n",
    "arr = np.random.rand(3, 3)\n",
    "print(\"Original Array:\")\n",
    "print(arr)\n",
    "\n",
    "mean_value = np.mean(arr)\n",
    "median_value = np.median(arr)\n",
    "std_value = np.std(arr)\n",
    "variance_value = np.var(arr)\n",
    "\n",
    "print(\"\\nMean of the array:\", mean_value)\n",
    "print(\"Median of the array:\", median_value)\n",
    "print(\"Standard deviation of the array:\", std_value)\n",
    "print(\"Variance of the array:\", variance_value)\n"
   ]
  },
  {
   "cell_type": "code",
   "execution_count": 118,
   "metadata": {},
   "outputs": [
    {
     "name": "stdout",
     "output_type": "stream",
     "text": [
      "Array 1:\n",
      "[[ 0.963203    0.36134327  1.00256416]\n",
      " [ 0.06308358  1.57903507 -0.94227132]\n",
      " [-0.83971211  0.43594453  0.65834058]]\n",
      "\n",
      "Array 2:\n",
      "[[-0.38743479 -1.90328367 -0.32142019]\n",
      " [-1.92836274 -0.77465004 -0.18790643]\n",
      " [ 0.12904226  0.568784    0.09325779]]\n",
      "\n",
      "Dot product of Array 1 and Array 2:\n",
      "[[-0.94060612 -1.54292066 -0.28399469]\n",
      " [-3.19098599 -1.87921439 -0.40486132]\n",
      " [-0.43037175  1.63495949  0.24937904]]\n",
      "\n",
      "Determinant of Array 1:\n",
      "3.024760967199947\n",
      "\n",
      "Inverse of Array 2:\n",
      "[[   3.18775141   -0.4898723     9.9997812 ]\n",
      " [  14.31956252    0.49197454   50.34476593]\n",
      " [ -91.74667967   -2.3227338  -310.16917037]]\n"
     ]
    }
   ],
   "source": [
    "\n",
    "\n",
    "arr1 = np.random.randn(3, 3)\n",
    "arr2 = np.random.randn(3, 3)\n",
    "\n",
    "print(\"Array 1:\")\n",
    "print(arr1)\n",
    "print(\"\\nArray 2:\")\n",
    "print(arr2)\n",
    "\n",
    "dot_product = np.dot(arr1, arr2)\n",
    "determinant_value = np.linalg.det(arr1)\n",
    "inverse_arr2 = np.linalg.inv(arr2)\n",
    "\n",
    "print(\"\\nDot product of Array 1 and Array 2:\")\n",
    "print(dot_product)\n",
    "print(\"\\nDeterminant of Array 1:\")\n",
    "print(determinant_value)\n",
    "print(\"\\nInverse of Array 2:\")\n",
    "print(inverse_arr2)\n"
   ]
  },
  {
   "cell_type": "code",
   "execution_count": 119,
   "metadata": {},
   "outputs": [
    {
     "name": "stdout",
     "output_type": "stream",
     "text": [
      "Random Array (Uniform Distribution):\n",
      "[[0.7304433  0.32854524 0.33464479]\n",
      " [0.31550935 0.93249018 0.05219822]\n",
      " [0.3968728  0.2754413  0.87576072]]\n"
     ]
    }
   ],
   "source": [
    "\n",
    "\n",
    "\n",
    "random_array = np.random.rand(3, 3)\n",
    "print(\"Random Array (Uniform Distribution):\")\n",
    "print(random_array)\n"
   ]
  },
  {
   "cell_type": "code",
   "execution_count": 120,
   "metadata": {},
   "outputs": [
    {
     "name": "stdout",
     "output_type": "stream",
     "text": [
      "Random Array (Standard Normal Distribution):\n",
      "[[-1.29166909  0.03950853 -1.71332759]\n",
      " [-1.41185874 -2.79362946  0.20016125]\n",
      " [-0.09903645 -1.67692064  1.69300675]]\n"
     ]
    }
   ],
   "source": [
    "\n",
    "\n",
    "\n",
    "random_array = np.random.randn(3, 3)\n",
    "print(\"Random Array (Standard Normal Distribution):\")\n",
    "print(random_array)\n"
   ]
  },
  {
   "cell_type": "code",
   "execution_count": 121,
   "metadata": {},
   "outputs": [
    {
     "name": "stdout",
     "output_type": "stream",
     "text": [
      "Random Array (Integers between 0 and 10):\n",
      "[[9 4 4]\n",
      " [7 7 7]\n",
      " [2 2 6]]\n"
     ]
    }
   ],
   "source": [
    "\n",
    "\n",
    "\n",
    "random_array = np.random.randint(0, 10, size=(3, 3))\n",
    "print(\"Random Array (Integers between 0 and 10):\")\n",
    "print(random_array)\n"
   ]
  },
  {
   "cell_type": "code",
   "execution_count": 123,
   "metadata": {},
   "outputs": [
    {
     "name": "stdout",
     "output_type": "stream",
     "text": [
      "Random Array with Seed (Uniform Distribution):\n",
      "[[4.17022005e-01 7.20324493e-01 1.14374817e-04]\n",
      " [3.02332573e-01 1.46755891e-01 9.23385948e-02]\n",
      " [1.86260211e-01 3.45560727e-01 3.96767474e-01]]\n"
     ]
    }
   ],
   "source": [
    "\n",
    "\n",
    "np.random.seed(1)\n",
    "\n",
    "\n",
    "random_array = np.random.rand(3, 3)\n",
    "print(\"Random Array with Seed (Uniform Distribution):\")\n",
    "print(random_array)\n"
   ]
  },
  {
   "cell_type": "code",
   "execution_count": 124,
   "metadata": {},
   "outputs": [
    {
     "name": "stdout",
     "output_type": "stream",
     "text": [
      "Array 1: [1 2 3 4 5]\n",
      "Array 2: [3 2 1 4 5]\n",
      "\n",
      "Element-wise Equal: [False  True False  True  True]\n",
      "Element-wise Not Equal: [ True False  True False False]\n",
      "Element-wise Less Than: [ True False False False False]\n",
      "Element-wise Greater Than: [False False  True False False]\n"
     ]
    }
   ],
   "source": [
    "\n",
    "\n",
    "\n",
    "arr1 = np.array([1, 2, 3, 4, 5])\n",
    "arr2 = np.array([3, 2, 1, 4, 5])\n",
    "\n",
    "\n",
    "equal_result = np.equal(arr1, arr2)\n",
    "not_equal_result = np.not_equal(arr1, arr2)\n",
    "less_result = np.less(arr1, arr2)\n",
    "greater_result = np.greater(arr1, arr2)\n",
    "\n",
    "\n",
    "print(\"Array 1:\", arr1)\n",
    "print(\"Array 2:\", arr2)\n",
    "print(\"\\nElement-wise Equal:\", equal_result)\n",
    "print(\"Element-wise Not Equal:\", not_equal_result)\n",
    "print(\"Element-wise Less Than:\", less_result)\n",
    "print(\"Element-wise Greater Than:\", greater_result)\n"
   ]
  },
  {
   "cell_type": "code",
   "execution_count": 125,
   "metadata": {},
   "outputs": [
    {
     "name": "stdout",
     "output_type": "stream",
     "text": [
      "Original Array: [1 2 3 4 5]\n",
      "Condition: [ True  True False False False]\n",
      "Result: [ 1  2 10 10 10]\n"
     ]
    }
   ],
   "source": [
    "\n",
    "\n",
    "\n",
    "arr = np.array([1, 2, 3, 4, 5])\n",
    "\n",
    "\n",
    "condition = arr < 3\n",
    "\n",
    "\n",
    "result = np.where(condition, arr, 10)\n",
    "\n",
    "\n",
    "print(\"Original Array:\", arr)\n",
    "print(\"Condition:\", condition)\n",
    "print(\"Result:\", result)\n"
   ]
  },
  {
   "cell_type": "code",
   "execution_count": 126,
   "metadata": {},
   "outputs": [
    {
     "name": "stdout",
     "output_type": "stream",
     "text": [
      "Original Array: [1 2 2 3 3 4 4 5]\n",
      "Unique Elements: [1 2 3 4 5]\n"
     ]
    }
   ],
   "source": [
    "\n",
    "\n",
    "\n",
    "arr = np.array([1, 2, 2, 3, 3, 4, 4, 5])\n",
    "\n",
    "unique_elements = np.unique(arr)\n",
    "\n",
    "print(\"Original Array:\", arr)\n",
    "print(\"Unique Elements:\", unique_elements)\n"
   ]
  },
  {
   "cell_type": "code",
   "execution_count": null,
   "metadata": {},
   "outputs": [],
   "source": [
    "\n"
   ]
  }
 ],
 "metadata": {
  "kernelspec": {
   "display_name": "DMP",
   "language": "python",
   "name": "python3"
  },
  "language_info": {
   "codemirror_mode": {
    "name": "ipython",
    "version": 3
   },
   "file_extension": ".py",
   "mimetype": "text/x-python",
   "name": "python",
   "nbconvert_exporter": "python",
   "pygments_lexer": "ipython3",
   "version": "3.8.18"
  }
 },
 "nbformat": 4,
 "nbformat_minor": 2
}
