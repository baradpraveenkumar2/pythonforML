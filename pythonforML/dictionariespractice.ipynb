{
 "cells": [
  {
   "cell_type": "code",
   "execution_count": 4,
   "metadata": {},
   "outputs": [
    {
     "name": "stdout",
     "output_type": "stream",
     "text": [
      "Number of Diceside: 2\n"
     ]
    }
   ],
   "source": [
    "Dice = {0:'T', 1:'F'}\n",
    "print(\"Number of Diceside:\", len(Dice))"
   ]
  },
  {
   "cell_type": "code",
   "execution_count": 8,
   "metadata": {},
   "outputs": [
    {
     "name": "stdout",
     "output_type": "stream",
     "text": [
      "Dice (0): T\n",
      "Dice (1): F\n"
     ]
    }
   ],
   "source": [
    "Dice = {0:'T', 1:'F'}\n",
    "for dicecode, dicetype in Dice.items():\n",
    "    print(f\"Dice ({dicecode}): {dicetype}\")"
   ]
  },
  {
   "cell_type": "code",
   "execution_count": 12,
   "metadata": {},
   "outputs": [
    {
     "name": "stdout",
     "output_type": "stream",
     "text": [
      "Updated dice: {0: 'F', 1: 'M', 2: 'O'}\n"
     ]
    }
   ],
   "source": [
    "dice = {0:'F', 1:'M'}\n",
    "dicecode = 2\n",
    "newdice = 'O' \n",
    "dice[dicecode] = newdice\n",
    "print(\"Updated dice:\", dice)"
   ]
  },
  {
   "cell_type": "code",
   "execution_count": 9,
   "metadata": {},
   "outputs": [
    {
     "name": "stdout",
     "output_type": "stream",
     "text": [
      "dices after removal: {1: 'M'}\n"
     ]
    }
   ],
   "source": [
    "dice = {0:'F', 1:'M'}\n",
    "diceremove = 0\n",
    "if diceremove in dice:\n",
    "    del dice[diceremove]\n",
    "print(\"dices after removal:\", dice)"
   ]
  },
  {
   "cell_type": "code",
   "execution_count": 14,
   "metadata": {},
   "outputs": [
    {
     "name": "stdout",
     "output_type": "stream",
     "text": [
      " for code 0: F\n",
      " for code 1: M\n"
     ]
    }
   ],
   "source": [
    "def coins(coincode, coindata):\n",
    "    return coindata.get(coincode, \" code not found\")\n",
    "\n",
    "coin = {0:'F', 1:'M'}\n",
    "coincode1 = 0\n",
    "coincode2 = 1\n",
    "print(f\" for code {coincode1}: {coins(coincode1, coin)}\")\n",
    "print(f\" for code {coincode2}: {coins(coincode2, coin)}\")"
   ]
  },
  {
   "cell_type": "code",
   "execution_count": 3,
   "metadata": {},
   "outputs": [
    {
     "name": "stdout",
     "output_type": "stream",
     "text": [
      "F [1]\n"
     ]
    }
   ],
   "source": [
    "dice = {0:'F', 1:'M'}\n",
    "\n",
    "print(dice[0])"
   ]
  },
  {
   "cell_type": "code",
   "execution_count": 18,
   "metadata": {},
   "outputs": [
    {
     "name": "stdout",
     "output_type": "stream",
     "text": [
      "{2, 4, 6, 8, 10, 112}\n"
     ]
    }
   ],
   "source": [
    "numbers = [1, 2, 3, 4, 5,6,7,8,9,10,11,112]\n",
    "even_numbers_dict = {num for num in numbers if num % 2 == 0}\n",
    "print(even_numbers_dict) "
   ]
  },
  {
   "cell_type": "code",
   "execution_count": 20,
   "metadata": {},
   "outputs": [
    {
     "name": "stdout",
     "output_type": "stream",
     "text": [
      "{'job': 'Engineer'}\n"
     ]
    }
   ],
   "source": [
    "mydict ={}\n",
    "mydict[\"job\"] = \"Engineer\"\n",
    "print(mydict)  "
   ]
  },
  {
   "cell_type": "code",
   "execution_count": 25,
   "metadata": {},
   "outputs": [
    {
     "name": "stdout",
     "output_type": "stream",
     "text": [
      "{'a', 'd', 'c', 'b'}\n"
     ]
    }
   ],
   "source": [
    "#keys display\n",
    "dict1 = {\"a\": 1, \"b\": 2}\n",
    "dict2 = {\"c\": 3, \"d\": 4}\n",
    "mergedict = {*dict1, *dict2}\n",
    "print(mergedict) "
   ]
  },
  {
   "cell_type": "code",
   "execution_count": 24,
   "metadata": {},
   "outputs": [
    {
     "name": "stdout",
     "output_type": "stream",
     "text": [
      "{'a': 1, 'b': 2, 'c': 3, 'd': 4}\n"
     ]
    }
   ],
   "source": [
    "#keyswith value display\n",
    "dict1 = {\"a\": 1, \"b\": 2}\n",
    "dict2 = {\"c\": 3, \"d\": 4}\n",
    "mergedict = {**dict1, **dict2}\n",
    "print(mergedict) "
   ]
  },
  {
   "cell_type": "code",
   "execution_count": 31,
   "metadata": {},
   "outputs": [
    {
     "name": "stdout",
     "output_type": "stream",
     "text": [
      "123 Main St\n"
     ]
    }
   ],
   "source": [
    "person = {\n",
    "    \"name\": \"praveen\",\n",
    "    \"age\": 28,\n",
    "    \"address\": {\n",
    "        \"street\": \"123 Main St\",\n",
    "        \"city\": \"amrur\",\n",
    "        \"state\": \"TG\",\n",
    "        \"zip\": \"12345\",\n",
    "    },\n",
    "}\n",
    "print(person[\"address\"]['street'])"
   ]
  },
  {
   "cell_type": "code",
   "execution_count": 34,
   "metadata": {},
   "outputs": [
    {
     "name": "stdout",
     "output_type": "stream",
     "text": [
      "{'apple': 1, 'banana': 2, 'cherry': 3, 'orange': 4}\n",
      "{'apple': 1, 'cherry': 3, 'orange': 4}\n"
     ]
    }
   ],
   "source": [
    "\n",
    "dict12 = {\"apple\": 1, \"banana\": 2, \"cherry\": 3}\n",
    "\n",
    "\n",
    "dict12.update({\"orange\": 4})\n",
    "print(dict12) \n",
    "\n",
    "del dict12[\"banana\"]\n",
    "print(dict12) "
   ]
  },
  {
   "cell_type": "code",
   "execution_count": 8,
   "metadata": {},
   "outputs": [
    {
     "name": "stdout",
     "output_type": "stream",
     "text": [
      "{'a': 2, 'b': 2, 'c': 3, 'd': 4, 'e': 5}\n",
      "{'b': 2}\n",
      "{'a': 2, 'c': 3}\n"
     ]
    }
   ],
   "source": [
    "\n",
    "dict13 = {\"a\": 2, \"b\": 2, \"c\": 3}\n",
    "dict14 = {\"b\": 2, \"d\": 4, \"e\": 5}\n",
    "\n",
    "\n",
    "mixdict = {**dict13, **dict14}\n",
    "print(mixdict) \n",
    "\n",
    "\n",
    "commonvalue = {key: dict13.get(key, 0) for key in set(dict13.keys()) & set(dict14.keys())}\n",
    "print(commonvalue)  \n",
    "\n",
    "\n",
    "differencedict = {key: dict13.get(key, 0) for key in set(dict13.keys()) - set(dict14.keys())}\n",
    "print(differencedict)"
   ]
  },
  {
   "cell_type": "code",
   "execution_count": 6,
   "metadata": {},
   "outputs": [
    {
     "name": "stdout",
     "output_type": "stream",
     "text": [
      "{'b': 3, 'c': 5, 'a': 6}\n"
     ]
    }
   ],
   "source": [
    "\n",
    "dict5 = {\"a\": 6, \"c\": 5, \"b\": 3}\n",
    "sorted_dict = {key: val for key, val in sorted(dict5.items(), key=lambda item: item[1])}\n",
    "print(sorted_dict)  "
   ]
  },
  {
   "cell_type": "code",
   "execution_count": 8,
   "metadata": {},
   "outputs": [
    {
     "name": "stdout",
     "output_type": "stream",
     "text": [
      "Key 'b' found in the dictionary.\n"
     ]
    }
   ],
   "source": [
    "\n",
    "dict7 = {\"a\": 1, \"b\": 2, \"c\": 3}\n",
    "if \"c\" in dict7:\n",
    "    print(\"Key 'b' found in the dictionary.\")\n",
    "else :\n",
    "    print(\"dict not found\")"
   ]
  },
  {
   "cell_type": "code",
   "execution_count": 9,
   "metadata": {},
   "outputs": [
    {
     "name": "stdout",
     "output_type": "stream",
     "text": [
      "True\n"
     ]
    }
   ],
   "source": [
    "#True or false\n",
    "def validatedict(input_dict, expected_keys):\n",
    "    if not all(key in input_dict for key in expected_keys):\n",
    "        return False\n",
    "    for key in expected_keys:\n",
    "        if not isinstance(input_dict[key], int):\n",
    "            return False\n",
    "    return True\n",
    "\n",
    "example_dict = {\"a\": 1, \"b\": 2, \"c\": 3}\n",
    "print(validatedict(example_dict, [\"a\", \"b\", \"c\"]))  "
   ]
  },
  {
   "cell_type": "code",
   "execution_count": 11,
   "metadata": {},
   "outputs": [
    {
     "name": "stdout",
     "output_type": "stream",
     "text": [
      "{'age': '25'}\n"
     ]
    }
   ],
   "source": [
    "mydict2 = {\"name\": \"praveen\", \"age\": \"25\", \"city\": \"praxis\"}\n",
    "filtered_dict = {key: value for key, value in mydict2.items() if key != \"name\" and key != \"city\" and int(value) > 20}\n",
    "print(filtered_dict)"
   ]
  },
  {
   "cell_type": "code",
   "execution_count": 17,
   "metadata": {},
   "outputs": [
    {
     "name": "stdout",
     "output_type": "stream",
     "text": [
      "Most common: 3\n"
     ]
    }
   ],
   "source": [
    "mylist3 = [1, 2, 3, 2, 1, 4, 3, 3]\n",
    "count_dict = {}\n",
    "for item in mylist3:\n",
    "    if item in count_dict:\n",
    "        count_dict[item] += 1\n",
    "     \n",
    "    else:\n",
    "        count_dict[item] = 1\n",
    "        \n",
    "most_common = max(count_dict, key=count_dict.get)\n",
    "print(\"Most common:\", most_common)"
   ]
  },
  {
   "cell_type": "code",
   "execution_count": 18,
   "metadata": {},
   "outputs": [
    {
     "name": "stdout",
     "output_type": "stream",
     "text": [
      "{'name': 'praveen', 'age': 25, 'city': 'telangana'}\n"
     ]
    }
   ],
   "source": [
    "keys = [\"name\", \"age\", \"city\"]\n",
    "values = [\"praveen\", 25, \"telangana\"]\n",
    "dict_from_lists = dict(zip(keys, values))\n",
    "print(dict_from_lists)"
   ]
  },
  {
   "cell_type": "code",
   "execution_count": 20,
   "metadata": {},
   "outputs": [
    {
     "name": "stdout",
     "output_type": "stream",
     "text": [
      "{'name': 'kumar', 'age': 25, 'address': {'city': 'hyderbad', 'state': 'AP'}}\n"
     ]
    }
   ],
   "source": [
    "person = {\"name\": \"kumar\", \"age\": 25, \"address\": {\"city\": \"hyderbad\", \"state\": \"AP\"}}\n",
    "print(person)"
   ]
  },
  {
   "cell_type": "code",
   "execution_count": 21,
   "metadata": {},
   "outputs": [
    {
     "name": "stdout",
     "output_type": "stream",
     "text": [
      "AP\n"
     ]
    }
   ],
   "source": [
    "person2 = {\"name\": \"kumar\", \"age\": 25, \"address\": {\"city\": \"hyderbad\", \"state\": \"AP\"}}\n",
    "print(person2[\"address\"][\"state\"])"
   ]
  },
  {
   "cell_type": "code",
   "execution_count": 23,
   "metadata": {},
   "outputs": [
    {
     "name": "stdout",
     "output_type": "stream",
     "text": [
      "{'name': 'kumar', 'age': 25, 'address': {'city': 'hyderbad', 'state': 'CA'}}\n"
     ]
    }
   ],
   "source": [
    "\n",
    "person = {\"name\": \"kumar\", \"age\": 25, \"address\": {\"city\": \"hyderbad\", \"state\": \"AP\"}}\n",
    "person[\"address\"][\"state\"] = \"CA\"\n",
    "print(person)"
   ]
  },
  {
   "cell_type": "code",
   "execution_count": 26,
   "metadata": {},
   "outputs": [
    {
     "name": "stdout",
     "output_type": "stream",
     "text": [
      "{'name': 'John', 'age': 25, 'city': 'New York'}\n"
     ]
    }
   ],
   "source": [
    "\n",
    "import json\n",
    "\n",
    "datastr = '{\"name\": \"praveen\", \"age\": 25, \"city\": \"hyderabad\"}'\n",
    "datadict = json.loads(datastr)\n",
    "print(datadict)"
   ]
  },
  {
   "cell_type": "code",
   "execution_count": 30,
   "metadata": {},
   "outputs": [
    {
     "name": "stdout",
     "output_type": "stream",
     "text": [
      "Before Rename Key of a Dictionary : {'name': 'grandhotel', 'pincode': 130046, 'sec': 458, 'span': 16}\n",
      "After Rename Key of a Dictionary : {'sec': 458, 'span': 16, 'fmame': 'grandhotel', 'pcode': 130046}\n"
     ]
    }
   ],
   "source": [
    "hotel1 = {\n",
    "\t\"name\": \"grandhotel\",\n",
    "\t\"pincode\":130046, \n",
    "\t\"sec\": 458, \n",
    "\t\"span\":16,\n",
    "}\n",
    "print(\"Before Rename Key of a Dictionary :\",hotel1)\n",
    "hotel1[\"fmame\"] = hotel1.pop(\"name\")\n",
    "hotel1[\"pcode\"] = hotel1.pop(\"pincode\")\n",
    "print(\"After Rename Key of a Dictionary :\",hotel1)"
   ]
  },
  {
   "cell_type": "code",
   "execution_count": 47,
   "metadata": {},
   "outputs": [
    {
     "name": "stdout",
     "output_type": "stream",
     "text": [
      "Original string :  praveen barad education Lappy\n",
      "Replaced Strings :  praveen Software  education software\n"
     ]
    }
   ],
   "source": [
    "val = \"praveen barad education Lappy\"\n",
    "print(\"Original string : \",val)\n",
    " \n",
    "dic = {\"barad\" : \"Software \", \"Lappy\": \"software\"}\n",
    " \n",
    "word = val.split()\n",
    "\n",
    "res = []\n",
    "for w in word:\n",
    "\tres.append(dic.get(w, w))\t\n",
    "res = ' '.join(res)\n",
    " \n",
    "print(\"Replaced Strings : \" ,res)"
   ]
  },
  {
   "cell_type": "code",
   "execution_count": 48,
   "metadata": {},
   "outputs": [
    {
     "name": "stdout",
     "output_type": "stream",
     "text": [
      "\n",
      "Descending Order : [('m2', 89), ('m1', 78), ('m5', 71), ('m3', 64), ('m4', 35)]\n",
      "\n",
      "Ascending Order : [('m4', 35), ('m3', 64), ('m5', 71), ('m1', 78), ('m2', 89)]\n"
     ]
    }
   ],
   "source": [
    "import operator\n",
    "d={\"m1\":78 , \"m2\":89 , \"m3\":64 , \"m4\":35 , \"m5\":71}\n",
    "\n",
    "des = sorted(d.items(),key=operator.itemgetter(1),reverse=True)\n",
    "print(\"\\nDescending Order :\",des)\n",
    "\n",
    "des = sorted(d.items(),key=operator.itemgetter(1))\n",
    "print(\"\\nAscending Order :\",des)"
   ]
  },
  {
   "cell_type": "code",
   "execution_count": 49,
   "metadata": {},
   "outputs": [
    {
     "name": "stdout",
     "output_type": "stream",
     "text": [
      "Maximum : 95\n",
      "Minimum : 19\n"
     ]
    }
   ],
   "source": [
    "cc={\"pi\":90 , \"p2\":95 , \"p3\":33 , \"p4\":25 , \"p5\":19}\n",
    " \n",
    "v = cc.values()\n",
    "maximums = max(v)\n",
    "minis = min(v)\n",
    " \n",
    "print(\"Maximum :\",maximums)\n",
    "print(\"Minimum :\",minis)"
   ]
  },
  {
   "cell_type": "code",
   "execution_count": 50,
   "metadata": {},
   "outputs": [
    {
     "name": "stdout",
     "output_type": "stream",
     "text": [
      "Sum of Values : 262\n"
     ]
    }
   ],
   "source": [
    "cc={\"pi\":90 , \"p2\":95 , \"p3\":33 , \"p4\":25 , \"p5\":19}\n",
    "total = []\n",
    " \n",
    "for i in cc.values():\n",
    "\ttotal.append(i)\n",
    " \n",
    "print(\"Sum of Values :\",sum(total))"
   ]
  },
  {
   "cell_type": "code",
   "execution_count": 52,
   "metadata": {},
   "outputs": [
    {
     "name": "stdout",
     "output_type": "stream",
     "text": [
      "Before Delete : {'Name': 'praveen', 'RollNo': 130046, 'Mark': 458, 'Age': 16, 'Gender': 'male', 'City': 'bengaluru'}\n",
      "After Delete : {'Name': 'praveen', 'RollNo': 130046, 'Mark': 458, 'Age': 16}\n"
     ]
    }
   ],
   "source": [
    "praveen = {\n",
    "\t\"Name\": \"praveen\",\n",
    "\t\"RollNo\":130046, \n",
    "\t\"Mark\": 458, \n",
    "\t\"Age\":16,\n",
    "\t\"Gender\":\"male\",\n",
    "\t\"City\": \"bengaluru\"\n",
    "}\n",
    "print(\"Before Delete :\",praveen)\n",
    "keys = [\"Gender\", \"City\"]\n",
    " \n",
    "for k in keys:\n",
    "    praveen.pop(k)\n",
    "print(\"After Delete :\",praveen)"
   ]
  },
  {
   "cell_type": "code",
   "execution_count": 58,
   "metadata": {},
   "outputs": [
    {
     "name": "stdout",
     "output_type": "stream",
     "text": [
      "kumar\n",
      "M1 : 89\n",
      "M2 : 56\n",
      "M3 : 89\n",
      "praveen\n",
      "M1 : 49\n",
      "M2 : 96\n",
      "M3 : 89\n"
     ]
    }
   ],
   "source": [
    "sub = {\"kumar\":{\"M1\":89,\"M2\":56,\"M3\":89},\n",
    "        \"praveen\":{\"M1\":49,\"M2\":96,\"M3\":89}}\n",
    "for a in sub:\n",
    "    print(a)\n",
    "    for b in sub[a]:\n",
    "        print (b,\":\",sub[a][b])"
   ]
  },
  {
   "cell_type": "code",
   "execution_count": 62,
   "metadata": {},
   "outputs": [
    {
     "name": "stdout",
     "output_type": "stream",
     "text": [
      "\n",
      "Siva : {'designation': 'Student', 'Department': 'BTECH'}\n",
      "\n",
      "praveen : {'designation': 'Student', 'Department': 'BTECH'}\n",
      "\n",
      "Ram : {'designation': 'Student', 'Department': 'BTECH'}\n",
      "\n",
      "Pooja : {'designation': 'Student', 'Department': 'BTECH'}\n"
     ]
    }
   ],
   "source": [
    "stu = [\"Siva\", \"praveen\", \"Ram\", \"Pooja\"]\n",
    "defaults = {\"designation\": \"Student\", \"Department\": \"BTECH\"}\n",
    " \n",
    "result = dict.fromkeys(stu, defaults)\n",
    "\n",
    " \n",
    "\n",
    "print(\"\\nSiva :\",result[\"Siva\"])\n",
    "print(\"\\npraveen :\",result[\"praveen\"])\n",
    "print(\"\\nRam :\",result[\"Ram\"])\n",
    "print(\"\\nPooja :\",result[\"Pooja\"])"
   ]
  }
 ],
 "metadata": {
  "kernelspec": {
   "display_name": "DMP",
   "language": "python",
   "name": "python3"
  },
  "language_info": {
   "codemirror_mode": {
    "name": "ipython",
    "version": 3
   },
   "file_extension": ".py",
   "mimetype": "text/x-python",
   "name": "python",
   "nbconvert_exporter": "python",
   "pygments_lexer": "ipython3",
   "version": "3.8.18"
  }
 },
 "nbformat": 4,
 "nbformat_minor": 2
}
