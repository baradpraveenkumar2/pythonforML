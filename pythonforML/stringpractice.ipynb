{
 "cells": [
  {
   "cell_type": "code",
   "execution_count": 37,
   "metadata": {},
   "outputs": [
    {
     "name": "stdout",
     "output_type": "stream",
     "text": [
      "praveen barad kumar\n"
     ]
    }
   ],
   "source": [
    "single_quoted = 'praveen'\n",
    "double_quoted = \"barad\"\n",
    "triple_quoted = '''kumar'''\n",
    "print(single_quoted,double_quoted,triple_quoted)"
   ]
  },
  {
   "cell_type": "code",
   "execution_count": 16,
   "metadata": {},
   "outputs": [
    {
     "data": {
      "text/plain": [
       "'praveen'"
      ]
     },
     "execution_count": 16,
     "metadata": {},
     "output_type": "execute_result"
    }
   ],
   "source": [
    "text = \"praveen\"\n",
    "text.lower()"
   ]
  },
  {
   "cell_type": "code",
   "execution_count": 33,
   "metadata": {},
   "outputs": [
    {
     "name": "stdout",
     "output_type": "stream",
     "text": [
      "False\n"
     ]
    }
   ],
   "source": [
    "str1 = \"apple\"\n",
    "str2 = \"banana\"\n",
    "is_equal = str1 == str2\n",
    "\n",
    "print(is_equal)\n"
   ]
  },
  {
   "cell_type": "code",
   "execution_count": 34,
   "metadata": {},
   "outputs": [
    {
     "name": "stdout",
     "output_type": "stream",
     "text": [
      "True\n"
     ]
    }
   ],
   "source": [
    "str1 = \"apple\"\n",
    "str2 = \"apple\"\n",
    "is_equal = str1 == str2\n",
    "\n",
    "print(is_equal)\n"
   ]
  },
  {
   "cell_type": "code",
   "execution_count": 17,
   "metadata": {},
   "outputs": [
    {
     "name": "stdout",
     "output_type": "stream",
     "text": [
      "Original Text: praveen kumar barad!\n",
      "Uppercase Text: PRAVEEN KUMAR BARAD!\n"
     ]
    }
   ],
   "source": [
    "text = \"praveen kumar barad!\"\n",
    "uppercase_text = text.upper()\n",
    "print(f\"Original Text: {text}\")\n",
    "print(f\"Uppercase Text: {uppercase_text}\")\n",
    "\n"
   ]
  },
  {
   "cell_type": "code",
   "execution_count": 20,
   "metadata": {},
   "outputs": [
    {
     "name": "stdout",
     "output_type": "stream",
     "text": [
      "Original Text: PRAVEEN\n",
      "lowercase Text: praveen\n"
     ]
    }
   ],
   "source": [
    "texts = \"PRAVEEN\"\n",
    "lowercase_text = text.lower()\n",
    "print(f\"Original Text: {text}\")\n",
    "print(f\"lowercase Text: {lowercase_text}\")\n",
    "\n"
   ]
  },
  {
   "cell_type": "code",
   "execution_count": 1,
   "metadata": {},
   "outputs": [
    {
     "name": "stdout",
     "output_type": "stream",
     "text": [
      "['Silicon', 'Valley']\n",
      "['S', 'l', 'con Valley']\n"
     ]
    }
   ],
   "source": [
    "text = \"Silicon Valley\"\n",
    "\n",
    "print(text.split())     \n",
    "\n",
    "print(text.split('i'))  "
   ]
  },
  {
   "cell_type": "code",
   "execution_count": 4,
   "metadata": {},
   "outputs": [
    {
     "name": "stdout",
     "output_type": "stream",
     "text": [
      "True\n",
      "False\n"
     ]
    }
   ],
   "source": [
    "number = \"5\"\n",
    "letters = \"abcdef\"\n",
    "\n",
    "print(number.isnumeric())\n",
    "print(letters.isnumeric())"
   ]
  },
  {
   "cell_type": "code",
   "execution_count": 1,
   "metadata": {},
   "outputs": [
    {
     "name": "stdout",
     "output_type": "stream",
     "text": [
      "1\n"
     ]
    }
   ],
   "source": [
    "mountain_name = \"Mount Kilimanjaro\"\n",
    "print(mountain_name.find(\"o\"))"
   ]
  },
  {
   "cell_type": "code",
   "execution_count": 2,
   "metadata": {},
   "outputs": [
    {
     "name": "stdout",
     "output_type": "stream",
     "text": [
      "0\n",
      "1\n",
      "2\n",
      "3\n",
      "4\n",
      "5\n",
      "6\n",
      "7\n",
      "8\n",
      "7\n",
      "10\n",
      "11\n",
      "3\n",
      "13\n",
      "11\n",
      "15\n",
      "1\n"
     ]
    }
   ],
   "source": [
    "phek = []\n",
    "for i in mountain_name:\n",
    "    \n",
    "    print(mountain_name.find(i))\n",
    "    phek +=i\n"
   ]
  },
  {
   "cell_type": "code",
   "execution_count": 3,
   "metadata": {},
   "outputs": [
    {
     "name": "stdout",
     "output_type": "stream",
     "text": [
      "Dark Knight\n"
     ]
    }
   ],
   "source": [
    "my_var = \"dark knight\"\n",
    "print(my_var.title()) "
   ]
  },
  {
   "cell_type": "code",
   "execution_count": 5,
   "metadata": {},
   "outputs": [
    {
     "name": "stdout",
     "output_type": "stream",
     "text": [
      "True\n"
     ]
    }
   ],
   "source": [
    "filename = \"pra.txt\"\n",
    "txtfile = filename.endswith(\".txt\")\n",
    "print(txtfile) "
   ]
  },
  {
   "cell_type": "code",
   "execution_count": 36,
   "metadata": {},
   "outputs": [
    {
     "name": "stdout",
     "output_type": "stream",
     "text": [
      "iam  praveen and I am 25.\n"
     ]
    }
   ],
   "source": [
    "name = \"praveen\"\n",
    "age = 25\n",
    "mixedstring = f\"iam  {name} and I am {age}.\"\n",
    "print(mixedstring)"
   ]
  },
  {
   "cell_type": "code",
   "execution_count": 3,
   "metadata": {},
   "outputs": [
    {
     "name": "stdout",
     "output_type": "stream",
     "text": [
      "this is not string\n"
     ]
    }
   ],
   "source": [
    "num = 1\n",
    "def findstring(num):\n",
    "    return isinstance(num, str)\n",
    "\n",
    "if findstring(num):\n",
    "    print(\"yes string\")\n",
    "else:\n",
    "    print(\"this is not string\")"
   ]
  },
  {
   "cell_type": "code",
   "execution_count": 5,
   "metadata": {},
   "outputs": [
    {
     "name": "stdout",
     "output_type": "stream",
     "text": [
      "Original Word: praveen\n",
      "Reversed Word: neevarp\n",
      "Original Word: naveen\n",
      "Reversed Word: neevan\n",
      "Original Word: kumar\n",
      "Reversed Word: ramuk\n",
      "Original Word: super\n",
      "Reversed Word: repus\n"
     ]
    }
   ],
   "source": [
    "word = \"praveen\"\n",
    "word1 = \"naveen\"\n",
    "word2 = \"kumar\"\n",
    "word3 = \"super\"\n",
    "reversed_word = word[::-1]\n",
    "reversed_word1 = word1[::-1]\n",
    "reversed_word2 = word2[::-1]\n",
    "reversed_word3 = word3[::-1]\n",
    "\n",
    "\n",
    "print(f\"Original Word: {word}\")\n",
    "print(f\"Reversed Word: {reversed_word}\")\n",
    "print(f\"Original Word: {word1}\")\n",
    "print(f\"Reversed Word: {reversed_word1}\")\n",
    "print(f\"Original Word: {word2}\")\n",
    "print(f\"Reversed Word: {reversed_word2}\")\n",
    "print(f\"Original Word: {word3}\")\n",
    "print(f\"Reversed Word: {reversed_word3}\")\n"
   ]
  },
  {
   "cell_type": "code",
   "execution_count": 1,
   "metadata": {},
   "outputs": [
    {
     "name": "stdout",
     "output_type": "stream",
     "text": [
      "praveen kumar\n"
     ]
    }
   ],
   "source": [
    "str1 = \"praveen\"\n",
    "str2 = \"kumar\"\n",
    "result = str1 + \" \" + str2\n",
    "print(result)\n"
   ]
  },
  {
   "cell_type": "code",
   "execution_count": 3,
   "metadata": {},
   "outputs": [
    {
     "name": "stdout",
     "output_type": "stream",
     "text": [
      "Sliced portion: rom hyderab\n"
     ]
    }
   ],
   "source": [
    "Details = \"iam from hyderabad.\"\n",
    "sliced = Details[5:16]\n",
    "print(\"Sliced portion:\", sliced)\n"
   ]
  },
  {
   "cell_type": "code",
   "execution_count": 4,
   "metadata": {},
   "outputs": [
    {
     "name": "stdout",
     "output_type": "stream",
     "text": [
      "word found.\n"
     ]
    }
   ],
   "source": [
    "movie_watched = \"animal movie is super.\"\n",
    "if \"movie\" in movie_watched:\n",
    "    print(\"word found.\")\n",
    "else:\n",
    "    print(\"word not found.\")\n"
   ]
  },
  {
   "cell_type": "code",
   "execution_count": 7,
   "metadata": {},
   "outputs": [
    {
     "name": "stdout",
     "output_type": "stream",
     "text": [
      "Passwords do not match.\n"
     ]
    }
   ],
   "source": [
    "def compare_passwords(existing_password, new_password):\n",
    "\n",
    "    if existing_password == new_password:\n",
    "        return \"Passwords match.\"\n",
    "    else:\n",
    "     \n",
    "        if len(existing_password) != len(new_password):\n",
    "            return \"Passwords do not match.\"\n",
    "\n",
    "        for char1, char2 in zip(existing_password, new_password):\n",
    "            if char1 != char2:\n",
    "                return \"Passwords do not match.\"\n",
    "\n",
    "        return \"Passwords match.\"\n",
    "\n",
    "\n",
    "existing_password = \"secure123\"\n",
    "user_input_password = input(\"Enter your password: \")\n",
    "\n",
    "result = compare_passwords(existing_password, user_input_password)\n",
    "\n",
    "print(result)\n"
   ]
  },
  {
   "cell_type": "code",
   "execution_count": 10,
   "metadata": {},
   "outputs": [
    {
     "name": "stdout",
     "output_type": "stream",
     "text": [
      "Original greeting: good morning!\n",
      "Original human: praveen\n",
      "Uppercased human: PRAVEEN\n",
      "Combined Message: good morning! PRAVEEN\n"
     ]
    }
   ],
   "source": [
    "\n",
    "greeting = \"good morning!\"\n",
    "human = \"praveen\"\n",
    "\n",
    "\n",
    "if greeting.startswith(\"!\") and greeting.endswith(\"ning\"):\n",
    "    print(\"Special greeting detected!\")\n",
    "else:\n",
    "    \n",
    "    uppercase_human = human.upper()\n",
    "    print(f\"Original greeting: {greeting}\")\n",
    "    print(f\"Original human: {human}\")\n",
    "    print(f\"Uppercased human: {uppercase_human}\")\n",
    "\n",
    "    combined_message = f\"{greeting} {uppercase_human}\"\n",
    "    print(\"Combined Message:\", combined_message)\n"
   ]
  },
  {
   "cell_type": "code",
   "execution_count": 14,
   "metadata": {},
   "outputs": [
    {
     "name": "stdout",
     "output_type": "stream",
     "text": [
      "\n",
      "Ticket Booking Confirmation:\n",
      "Destination: dsad\n",
      "Departure City: sdfs\n",
      "Starting Date: 2022-12-12 11:11:11\n",
      "Estimated Reach Time: 2022-12-12 19:31:11\n",
      "Distance: 500.0 km\n",
      "Ticket Price: $2000.00\n",
      "Estimated Travel Time: 8.33 hours\n"
     ]
    }
   ],
   "source": [
    "from datetime import datetime, timedelta\n",
    "\n",
    "def book_ticket(destination, departure_city, starting_date, distance, ticket_price, speed=60):\n",
    "\n",
    "    start_datetime = datetime.strptime(starting_date, \"%Y-%m-%d %H:%M:%S\")\n",
    "    \n",
    "\n",
    "\n",
    "    travel_time = distance / speed\n",
    "\n",
    "    reach_datetime = start_datetime + timedelta(hours=travel_time)\n",
    "    reach_time = reach_datetime.strftime(\"%Y-%m-%d %H:%M:%S\")\n",
    "\n",
    "   \n",
    "    confirmation_message = f\"Ticket Booking Confirmation:\\n\"\\\n",
    "                           f\"Destination: {destination}\\n\"\\\n",
    "                           f\"Departure City: {departure_city}\\n\"\\\n",
    "                           f\"Starting Date: {starting_date}\\n\"\\\n",
    "                           f\"Estimated Reach Time: {reach_time}\\n\"\\\n",
    "                           f\"Distance: {distance} km\\n\"\\\n",
    "                           f\"Ticket Price: ${ticket_price:.2f}\\n\"\\\n",
    "                           f\"Estimated Travel Time: {travel_time:.2f} hours\"\n",
    "\n",
    "   \n",
    "    return confirmation_message\n",
    "\n",
    "\n",
    "destination = input(\"Enter your destination: \")\n",
    "departure_city = input(\"Enter your departure city: \")\n",
    "starting_date = input(\"Enter the starting date (YYYY-MM-DD HH:MM:SS): \")\n",
    "distance = float(input(\"Enter the distance to your destination (in kilometers): \"))\n",
    "ticket_price = float(input(\"Enter the ticket price: \"))\n",
    "\n",
    "confirmation_message = book_ticket(destination, departure_city, starting_date, distance, ticket_price)\n",
    "print(\"\\n\" + confirmation_message)\n"
   ]
  },
  {
   "cell_type": "code",
   "execution_count": 15,
   "metadata": {},
   "outputs": [
    {
     "name": "stdout",
     "output_type": "stream",
     "text": [
      "Transaction on 2023-12-14: 7000\n",
      "Remaining Amount: 1000.0\n"
     ]
    }
   ],
   "source": [
    "def get_transaction_details(user_date, user_amount, dates, transactions):\n",
    "    remaining_amount = user_amount\n",
    "\n",
    "    for _ in range(3):\n",
    "        user_date = input(\"Enter a date (format: YYYY-MM-DD): \")\n",
    "        user_amount = float(input(\"Enter the transaction amount: \"))\n",
    "\n",
    "        for index, date in enumerate(dates):\n",
    "            if user_date == date:\n",
    "                if user_amount <= remaining_amount:\n",
    "                    remaining_amount -= user_amount\n",
    "                    return f\"Transaction on {dates[index]}: {transactions[index]}\\nRemaining Amount: {remaining_amount}\"\n",
    "                else:\n",
    "                    print(\"Insufficient funds. Please try again with a smaller amount.\")\n",
    "                    break\n",
    "        else:\n",
    "            print(\"The provided date is not valid. Please try again.\")\n",
    "    else:\n",
    "        return \"Exceeded maximum attempts.\"\n",
    "\n",
    "dates = [\"2023-12-12\", \"2023-12-13\", \"2023-12-14\", \"2023-12-15\"]\n",
    "transactions = [5000, 6000, 7000, 8000]\n",
    "\n",
    "result = get_transaction_details(\"2023-12-13\", 6000, dates, transactions)\n",
    "print(result)\n"
   ]
  },
  {
   "cell_type": "code",
   "execution_count": 24,
   "metadata": {},
   "outputs": [
    {
     "name": "stdout",
     "output_type": "stream",
     "text": [
      "Original Text:\n",
      "am from hyderabad.\n",
      "\n",
      "Replaced Text:\n",
      "am from bengaluru.\n"
     ]
    }
   ],
   "source": [
    "def replaceword(original_text, target, replacement):\n",
    "    replaced_text = original_text.replace(target, replacement)\n",
    "    return replaced_text\n",
    "\n",
    "\n",
    "original_text = \"am from hyderabad.\"\n",
    "target = \"hyderabad\"\n",
    "replacement = \"bengaluru\"\n",
    "\n",
    "result = replaceword(original_text, target, replacement)\n",
    "\n",
    "print(\"Original Text:\")\n",
    "print(original_text)\n",
    "print(\"\\nReplaced Text:\")\n",
    "print(result)\n"
   ]
  },
  {
   "cell_type": "code",
   "execution_count": 32,
   "metadata": {},
   "outputs": [
    {
     "name": "stdout",
     "output_type": "stream",
     "text": [
      "Hello, prrrrr! Welcome.\n"
     ]
    }
   ],
   "source": [
    "\n",
    "user_name = input(\"Enter your name: \")\n",
    "cleaned_name = user_name.strip()\n",
    "if cleaned_name:\n",
    "    print(f\"Hello, {cleaned_name}end.\")\n",
    "else:\n",
    "    print(\"enter a valid name try again.\")\n",
    "\n"
   ]
  },
  {
   "cell_type": "code",
   "execution_count": 40,
   "metadata": {},
   "outputs": [
    {
     "name": "stdout",
     "output_type": "stream",
     "text": [
      "substring 'kumar'  index 8.\n"
     ]
    }
   ],
   "source": [
    "def finding(mains, substring):\n",
    "    index = mains.find(substring)\n",
    "\n",
    "    if index != -1:\n",
    "        print(f\"substring '{substring}'  index {index}.\")\n",
    "    else:\n",
    "        print(f\"substring '{substring}'  main string.\")\n",
    "\n",
    "main_str = \"praveen kumar barad.\"\n",
    "searching = \"kumar\"\n",
    "\n",
    "finding(main_str, searching)\n"
   ]
  },
  {
   "cell_type": "code",
   "execution_count": 41,
   "metadata": {},
   "outputs": [
    {
     "name": "stdout",
     "output_type": "stream",
     "text": [
      "The substring 'ra' is found at indices: [2, 9]\n"
     ]
    }
   ],
   "source": [
    "def find_occurrences(main_string, substring):\n",
    "    occurrences = []\n",
    "\n",
    "    index = main_string.find(substring)\n",
    "\n",
    "    while index != -1:\n",
    "        occurrences.append(index)\n",
    "        index = main_string.find(substring, index + 1)\n",
    "\n",
    "    return occurrences\n",
    "\n",
    "text = \"abracadabra\"\n",
    "substring_to_find = \"ra\"\n",
    "\n",
    "result = find_occurrences(text, substring_to_find)\n",
    "\n",
    "if result:\n",
    "    print(f\"The substring '{substring_to_find}' is found at indices: {result}\")\n",
    "else:\n",
    "    print(f\"The substring '{substring_to_find}' is not found in the main string.\")\n"
   ]
  },
  {
   "cell_type": "code",
   "execution_count": 44,
   "metadata": {},
   "outputs": [
    {
     "name": "stdout",
     "output_type": "stream",
     "text": [
      "Original : praveen kumar.\n",
      "Titlecased : Praveen Kumar.\n"
     ]
    }
   ],
   "source": [
    "def titles(inputs):\n",
    "    return inputs.title()\n",
    "\n",
    "\n",
    "original_string = \"praveen kumar.\"\n",
    "titlecased_string = titles(original_string)\n",
    "\n",
    "print(f\"Original : {original_string}\")\n",
    "print(f\"Titlecased : {titlecased_string}\")\n"
   ]
  },
  {
   "cell_type": "code",
   "execution_count": 46,
   "metadata": {},
   "outputs": [
    {
     "name": "stdout",
     "output_type": "stream",
     "text": [
      "Original: karimulla and babu.\n",
      "Custom : Karimulla And Babu.\n"
     ]
    }
   ],
   "source": [
    "def names(inputs):\n",
    "    words = inputs.split()\n",
    "    titlescasesd = [word.capitalize() for word in words]\n",
    "    return ' '.join(titlescasesd)\n",
    "\n",
    "\n",
    "original_string = \"karimulla and babu.\"\n",
    "titlecased_string = names(original_string)\n",
    "\n",
    "print(f\"Original: {original_string}\")\n",
    "print(f\"Custom : {titlecased_string}\")\n"
   ]
  },
  {
   "cell_type": "code",
   "execution_count": 48,
   "metadata": {},
   "outputs": [
    {
     "name": "stdout",
     "output_type": "stream",
     "text": [
      "toothpaste with color 'green'  Natural-based.\n"
     ]
    }
   ],
   "source": [
    "def findtoothpaste_color(color):\n",
    "    color_lower = color.lower()\n",
    "    \n",
    "    chemical_colors = [\"white\"]\n",
    "    natural_colors = [\"green\", \"herbal\"]\n",
    "\n",
    "    if color_lower in chemical_colors:\n",
    "        return \"Chemical-based\"\n",
    "    elif color_lower in natural_colors:\n",
    "        return \"Natural-based\"\n",
    "    else:\n",
    "        return \"who knows\"\n",
    "\n",
    "toothpaste_color = input(\" color of the toothpaste: \")\n",
    "result = findtoothpaste_color(toothpaste_color)\n",
    "\n",
    "print(f\"toothpaste with color '{toothpaste_color}'  {result}.\")\n"
   ]
  },
  {
   "cell_type": "code",
   "execution_count": 3,
   "metadata": {},
   "outputs": [
    {
     "name": "stdout",
     "output_type": "stream",
     "text": [
      "am returning goof\n"
     ]
    }
   ],
   "source": [
    "def pastecol(color):\n",
    "    color = color.lower()\n",
    "\n",
    "    if colour == \"white\":\n",
    "        return \"am returning goof\"\n",
    "    else:\n",
    "        return \"am returning bad\"\n",
    "\n",
    "colour = input()\n",
    "sto = pastecol(colour)\n",
    "\n",
    "print(sto)\n"
   ]
  },
  {
   "cell_type": "code",
   "execution_count": 5,
   "metadata": {},
   "outputs": [
    {
     "name": "stdout",
     "output_type": "stream",
     "text": [
      "On Monday, wear  red shirt.\n",
      "On Tuesday, wear  blue shirt.\n",
      "On Wednesday, wear  white shirt.\n",
      "On Thursday, wear  orange shirt.\n",
      "On Friday, wear  yellow shirt.\n"
     ]
    }
   ],
   "source": [
    "import random\n",
    "\n",
    "def shirtselect(day):\n",
    "    shirt_colors = {\n",
    "        \"Monday\": \"red\",\n",
    "        \"Tuesday\": \"blue\",\n",
    "        \"Wednesday\": \"white\",\n",
    "        \"Thursday\": \"orange\",\n",
    "        \"Friday\": \"yellow\",\n",
    "    }\n",
    "\n",
    "    selected_color = shirt_colors.get(day, \"donno\")\n",
    "    return f\"On {day}, wear  {selected_color} shirt.\"\n",
    "\n",
    "\n",
    "week = [\"Monday\", \"Tuesday\", \"Wednesday\", \"Thursday\", \"Friday\"]\n",
    "for day in week:\n",
    "    outfit_message = shirtselect(day)\n",
    "    print(outfit_message)\n"
   ]
  },
  {
   "cell_type": "code",
   "execution_count": 7,
   "metadata": {},
   "outputs": [
    {
     "name": "stdout",
     "output_type": "stream",
     "text": [
      "w\n"
     ]
    }
   ],
   "source": [
    "def slesht(sht):\n",
    "    shurtscols = {\"monday\":\"w\",\"tuesday\":\"red\"}\n",
    "    print(shurtscols[\"monday\"])\n",
    "    if sht in shurtscols:\n",
    "        print(shurtscols[sht])\n",
    "sht = input()\n",
    "result = slesht(sht)"
   ]
  },
  {
   "cell_type": "code",
   "execution_count": 8,
   "metadata": {},
   "outputs": [
    {
     "name": "stdout",
     "output_type": "stream",
     "text": [
      "w\n"
     ]
    }
   ],
   "source": [
    "shurtscols = {\"monday\":\"w\",\"tuesday\":\"red\"}\n",
    "print(shurtscols[\"monday\"])"
   ]
  },
  {
   "cell_type": "code",
   "execution_count": 9,
   "metadata": {},
   "outputs": [
    {
     "name": "stdout",
     "output_type": "stream",
     "text": [
      "With 15 kg  dish  serving size of 0.2 kg per person, near 75 people can eat.\n"
     ]
    }
   ],
   "source": [
    "def serve(paneerquantity, servingsize):\n",
    "    servings = paneerquantity / servingsize\n",
    "    return servings\n",
    "\n",
    "\n",
    "paneer_quantity = 15 \n",
    "serving_size = 0.2 \n",
    "\n",
    "people_can_eat = serve(paneer_quantity, serving_size)\n",
    "\n",
    "output_message = \"With {} kg  dish  serving size of {} kg per person, near {} people can eat.\".format(\n",
    "    paneer_quantity, serving_size, int(people_can_eat)\n",
    ")\n",
    "\n",
    "print(output_message)\n"
   ]
  }
 ],
 "metadata": {
  "kernelspec": {
   "display_name": "DMP",
   "language": "python",
   "name": "python3"
  },
  "language_info": {
   "codemirror_mode": {
    "name": "ipython",
    "version": 3
   },
   "file_extension": ".py",
   "mimetype": "text/x-python",
   "name": "python",
   "nbconvert_exporter": "python",
   "pygments_lexer": "ipython3",
   "version": "3.8.18"
  }
 },
 "nbformat": 4,
 "nbformat_minor": 2
}
