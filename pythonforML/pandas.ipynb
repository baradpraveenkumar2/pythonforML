{
 "cells": [
  {
   "cell_type": "code",
   "execution_count": 32,
   "metadata": {},
   "outputs": [],
   "source": [
    "import pandas as pd"
   ]
  },
  {
   "cell_type": "code",
   "execution_count": 1,
   "metadata": {},
   "outputs": [
    {
     "name": "stdout",
     "output_type": "stream",
     "text": [
      "      Name  Age         City\n",
      "0    Alice   25     New York\n",
      "1      Bob   30  Los Angeles\n",
      "2  Charlie   35      Chicago\n"
     ]
    }
   ],
   "source": [
    "\n",
    "data = {'Name': ['Alice', 'Bob', 'Charlie'],\n",
    "        'Age': [25, 30, 35],\n",
    "        'City': ['New York', 'Los Angeles', 'Chicago']}\n",
    "df = pd.DataFrame(data)\n",
    "print(df)"
   ]
  },
  {
   "cell_type": "code",
   "execution_count": 2,
   "metadata": {},
   "outputs": [
    {
     "name": "stdout",
     "output_type": "stream",
     "text": [
      "      Name  Age         City\n",
      "A    Alice   25     New York\n",
      "B      Bob   30  Los Angeles\n",
      "C  Charlie   35      Chicago\n"
     ]
    }
   ],
   "source": [
    "\n",
    "\n",
    "\n",
    "data = {'Name': ['Alice', 'Bob', 'Charlie'],\n",
    "        'Age': [25, 30, 35],\n",
    "        'City': ['New York', 'Los Angeles', 'Chicago']}\n",
    "index = ['A', 'B', 'C']\n",
    "df = pd.DataFrame(data, index=index)\n",
    "print(df)\n"
   ]
  },
  {
   "cell_type": "code",
   "execution_count": 15,
   "metadata": {},
   "outputs": [
    {
     "name": "stdout",
     "output_type": "stream",
     "text": [
      "Row B:\n",
      "Name            Bob\n",
      "Age              30\n",
      "City    Los Angeles\n",
      "Name: B, dtype: object\n",
      "\n",
      "Column 'Name':\n",
      "A      Alice\n",
      "B        Bob\n",
      "C    Charlie\n",
      "Name: Name, dtype: object\n",
      "\n",
      "Subset of DataFrame:\n",
      "New York\n"
     ]
    }
   ],
   "source": [
    "\n",
    "\n",
    "\n",
    "data = {'Name': ['Alice', 'Bob', 'Charlie'],\n",
    "        'Age': [25, 30, 35],\n",
    "        'City': ['New York', 'Los Angeles', 'Chicago']}\n",
    "index = ['A', 'B', 'C']\n",
    "df = pd.DataFrame(data, index=index)\n",
    "\n",
    "row_b = df.loc['B']\n",
    "print(\"Row B:\")\n",
    "print(row_b)\n",
    "print()\n",
    "\n",
    "\n",
    "column_name = df.loc[:, 'Name']\n",
    "print(\"Column 'Name':\")\n",
    "print(column_name)\n",
    "print()\n",
    "\n",
    "subset = df.loc[['A', 'C'], ['Name', 'City']]\n",
    "subset = df.loc['A', 'City']\n",
    "print(\"Subset of DataFrame:\")\n",
    "print(subset)\n"
   ]
  },
  {
   "cell_type": "code",
   "execution_count": 8,
   "metadata": {},
   "outputs": [
    {
     "name": "stdout",
     "output_type": "stream",
     "text": [
      "Row 1:\n",
      "Name       Alice\n",
      "Age           25\n",
      "City    New York\n",
      "Name: A, dtype: object\n",
      "\n",
      "Cell value at row 1, column 0: Bob\n",
      "\n",
      "Subset of DataFrame:\n",
      "      Name      City\n",
      "A    Alice  New York\n",
      "C  Charlie   Chicago\n"
     ]
    }
   ],
   "source": [
    "\n",
    "\n",
    "data = {'Name': ['Alice', 'Bob', 'Charlie'],\n",
    "        'Age': [25, 30, 35],\n",
    "        'City': ['New York', 'Los Angeles', 'Chicago']}\n",
    "index = ['A', 'B', 'C']\n",
    "df = pd.DataFrame(data, index=index)\n",
    "\n",
    "\n",
    "row_1 = df.iloc[0]\n",
    "print(\"Row 1:\")\n",
    "print(row_1)\n",
    "print()\n",
    "\n",
    "\n",
    "cell_value = df.iloc[1, 0] \n",
    "print(\"Cell value at row 1, column 0:\", cell_value)\n",
    "print()\n",
    "\n",
    "\n",
    "subset = df.iloc[[0, 2], [0, 2]] \n",
    "print(\"Subset of DataFrame:\")\n",
    "print(subset)\n"
   ]
  },
  {
   "cell_type": "code",
   "execution_count": 2,
   "metadata": {},
   "outputs": [
    {
     "name": "stdout",
     "output_type": "stream",
     "text": [
      "Value at row 'B' and column 'Name': Bob\n"
     ]
    }
   ],
   "source": [
    "\n",
    "\n",
    "data = {'Name': ['Alice', 'Bob', 'Charlie'],\n",
    "        'Age': [25, 30, 35],\n",
    "        'City': ['New York', 'Los Angeles', 'Chicago']}\n",
    "index = ['A', 'B', 'C']\n",
    "df = pd.DataFrame(data, index=index)\n",
    "\n",
    "value = df.at['B', 'Name'] \n",
    "print(\"Value at row 'B' and column 'Name':\", value)\n"
   ]
  },
  {
   "cell_type": "code",
   "execution_count": 13,
   "metadata": {},
   "outputs": [
    {
     "name": "stdout",
     "output_type": "stream",
     "text": [
      "Before modification:\n",
      "      Name  Age         City\n",
      "A    Alice   25     New York\n",
      "B      Bob   30  Los Angeles\n",
      "C  Charlie   35      Chicago\n",
      "\n",
      "After modification:\n",
      "      Name  Age         City\n",
      "A    Alice   25     New York\n",
      "B      Bob   32  Los Angeles\n",
      "C  Charlie   35      Chicago\n"
     ]
    }
   ],
   "source": [
    "\n",
    "\n",
    "data = {'Name': ['Alice', 'Bob', 'Charlie'],\n",
    "        'Age': [25, 30, 35],\n",
    "        'City': ['New York', 'Los Angeles', 'Chicago']}\n",
    "index = ['A', 'B', 'C']\n",
    "df = pd.DataFrame(data, index=index)\n",
    "\n",
    "\n",
    "print(\"Before modification:\")\n",
    "print(df)\n",
    "print()\n",
    "\n",
    "df.at['B', 'Age'] = 32\n",
    "\n",
    "print(\"After modification:\")\n",
    "print(df)\n"
   ]
  },
  {
   "cell_type": "code",
   "execution_count": 17,
   "metadata": {},
   "outputs": [
    {
     "name": "stdout",
     "output_type": "stream",
     "text": [
      "Using loc[]:\n",
      "Before modification:\n",
      "      Name  Age         City\n",
      "A    Alice   25     New York\n",
      "B      Bob   30  Los Angeles\n",
      "C  Charlie   35      Chicago\n",
      "\n",
      "After modification:\n",
      "      Name  Age         City\n",
      "A    Alice   25     New York\n",
      "B      Bob   32  Los Angeles\n",
      "C  Charlie   35      Chicago\n",
      "\n",
      "Using iloc[]:\n",
      "Before modification:\n",
      "      Name  Age         City\n",
      "A    Alice   25     New York\n",
      "B      Bob   32  Los Angeles\n",
      "C  Charlie   35      Chicago\n",
      "\n",
      "After modification:\n",
      "      Name  Age         City\n",
      "A    Alice   25     New York\n",
      "B      Bob   33  Los Angeles\n",
      "C  Charlie   35      Chicago\n"
     ]
    }
   ],
   "source": [
    "\n",
    "\n",
    "\n",
    "data = {'Name': ['Alice', 'Bob', 'Charlie'],\n",
    "        'Age': [25, 30, 35],\n",
    "        'City': ['New York', 'Los Angeles', 'Chicago']}\n",
    "index = ['A', 'B', 'C']\n",
    "df = pd.DataFrame(data, index=index)\n",
    "\n",
    "\n",
    "print(\"Using loc[]:\")\n",
    "print(\"Before modification:\")\n",
    "print(df)\n",
    "print()\n",
    "\n",
    "\n",
    "df.loc['B', 'Age'] = 32\n",
    "\n",
    "print(\"After modification:\")\n",
    "print(df)\n",
    "print()\n",
    "\n",
    "print(\"Using iloc[]:\")\n",
    "print(\"Before modification:\")\n",
    "print(df)\n",
    "print()\n",
    "\n",
    "\n",
    "df.iloc[1, 1] = 33\n",
    "\n",
    "print(\"After modification:\")\n",
    "print(df)\n"
   ]
  },
  {
   "cell_type": "code",
   "execution_count": 18,
   "metadata": {},
   "outputs": [
    {
     "name": "stdout",
     "output_type": "stream",
     "text": [
      "Using iat[]:\n",
      "Before modification:\n",
      "      Name  Age         City\n",
      "A    Alice   25     New York\n",
      "B      Bob   30  Los Angeles\n",
      "C  Charlie   35      Chicago\n",
      "\n",
      "After modification:\n",
      "      Name  Age         City\n",
      "A    Alice   25     New York\n",
      "B      Bob   32  Los Angeles\n",
      "C  Charlie   35      Chicago\n"
     ]
    }
   ],
   "source": [
    "\n",
    "\n",
    "\n",
    "data = {'Name': ['Alice', 'Bob', 'Charlie'],\n",
    "        'Age': [25, 30, 35],\n",
    "        'City': ['New York', 'Los Angeles', 'Chicago']}\n",
    "index = ['A', 'B', 'C']\n",
    "df = pd.DataFrame(data, index=index)\n",
    "\n",
    "\n",
    "print(\"Using iat[]:\")\n",
    "print(\"Before modification:\")\n",
    "print(df)\n",
    "print()\n",
    "\n",
    "\n",
    "df.iat[1, 1] = 32\n",
    "\n",
    "print(\"After modification:\")\n",
    "print(df)\n"
   ]
  },
  {
   "cell_type": "code",
   "execution_count": 19,
   "metadata": {},
   "outputs": [
    {
     "name": "stdout",
     "output_type": "stream",
     "text": [
      "Filtered DataFrame:\n",
      "      Name  Age         City\n",
      "1      Bob   30  Los Angeles\n",
      "2  Charlie   35      Chicago\n"
     ]
    }
   ],
   "source": [
    "\n",
    "\n",
    "\n",
    "data = {'Name': ['Alice', 'Bob', 'Charlie', 'David'],\n",
    "        'Age': [25, 30, 35, 28],\n",
    "        'City': ['New York', 'Los Angeles', 'Chicago', 'Houston']}\n",
    "df = pd.DataFrame(data)\n",
    "\n",
    "\n",
    "result = df.query('Age > 28')\n",
    "print(\"Filtered DataFrame:\")\n",
    "print(result)\n"
   ]
  },
  {
   "cell_type": "code",
   "execution_count": 4,
   "metadata": {},
   "outputs": [
    {
     "name": "stdout",
     "output_type": "stream",
     "text": [
      "Filtered DataFrame:\n",
      "    Name  Age      City\n",
      "0  Alice   25  New York\n",
      "3  David   28   Houston\n"
     ]
    }
   ],
   "source": [
    "\n",
    "data = {'Name': ['Alice', 'Bob', 'Charlie', 'David'],\n",
    "        'Age': [25, 30, 35, 28],\n",
    "        'City': ['New York', 'Los Angeles', 'Chicago', 'Houston']}\n",
    "df = pd.DataFrame(data)\n",
    "\n",
    "\n",
    "result = df.query('not (Age >= 30)')\n",
    "print(\"Filtered DataFrame:\")\n",
    "print(result)\n"
   ]
  },
  {
   "cell_type": "code",
   "execution_count": 22,
   "metadata": {},
   "outputs": [
    {
     "name": "stdout",
     "output_type": "stream",
     "text": [
      "Filtered DataFrame:\n",
      "      Name  Age      City\n",
      "0    Alice   25  New York\n",
      "2  Charlie   35   Chicago\n"
     ]
    }
   ],
   "source": [
    "\n",
    "\n",
    "\n",
    "data = {'Name': ['Alice', 'Bob', 'Charlie', 'David'],\n",
    "        'Age': [25, 30, 35, 28],\n",
    "        'City': ['New York', 'Los Angeles', 'Chicago', 'Houston']}\n",
    "df = pd.DataFrame(data)\n",
    "\n",
    "\n",
    "result = df.query('City in [\"New York\", \"Chicago\"]')\n",
    "print(\"Filtered DataFrame:\")\n",
    "print(result)\n"
   ]
  },
  {
   "cell_type": "code",
   "execution_count": 23,
   "metadata": {},
   "outputs": [
    {
     "name": "stdout",
     "output_type": "stream",
     "text": [
      "Original DataFrame:\n",
      "      Name  Age         City\n",
      "0    Alice   25     New York\n",
      "1      Bob   30  Los Angeles\n",
      "2  Charlie   35      Chicago\n",
      "3    David   40      Houston\n",
      "\n",
      "Result of isin() check:\n",
      "0     True\n",
      "1    False\n",
      "2     True\n",
      "3    False\n",
      "Name: City, dtype: bool\n"
     ]
    }
   ],
   "source": [
    "\n",
    "\n",
    "\n",
    "data = {'Name': ['Alice', 'Bob', 'Charlie', 'David'],\n",
    "        'Age': [25, 30, 35, 40],\n",
    "        'City': ['New York', 'Los Angeles', 'Chicago', 'Houston']}\n",
    "df = pd.DataFrame(data)\n",
    "\n",
    "\n",
    "cities_to_check = ['New York', 'Chicago']\n",
    "result = df['City'].isin(cities_to_check)\n",
    "print(\"Original DataFrame:\")\n",
    "print(df)\n",
    "print(\"\\nResult of isin() check:\")\n",
    "print(result)\n"
   ]
  },
  {
   "cell_type": "code",
   "execution_count": 24,
   "metadata": {},
   "outputs": [
    {
     "name": "stdout",
     "output_type": "stream",
     "text": [
      "Original DataFrame:\n",
      "      Name  Age         City\n",
      "0    Alice   25     New York\n",
      "1      Bob   30  Los Angeles\n",
      "2  Charlie   35      Chicago\n",
      "3    David   40      Houston\n",
      "\n",
      "Result of where() function:\n",
      "    Name   Age         City\n",
      "0  Alice  25.0     New York\n",
      "1    Bob  30.0  Los Angeles\n",
      "2    NaN   NaN          NaN\n",
      "3    NaN   NaN          NaN\n"
     ]
    }
   ],
   "source": [
    "\n",
    "\n",
    "\n",
    "data = {'Name': ['Alice', 'Bob', 'Charlie', 'David'],\n",
    "        'Age': [25, 30, 35, 40],\n",
    "        'City': ['New York', 'Los Angeles', 'Chicago', 'Houston']}\n",
    "df = pd.DataFrame(data)\n",
    "\n",
    "\n",
    "condition = df['Age'] < 35\n",
    "result = df.where(condition)\n",
    "\n",
    "print(\"Original DataFrame:\")\n",
    "print(df)\n",
    "print(\"\\nResult of where() function:\")\n",
    "print(result)\n"
   ]
  },
  {
   "cell_type": "code",
   "execution_count": 25,
   "metadata": {},
   "outputs": [
    {
     "name": "stdout",
     "output_type": "stream",
     "text": [
      "Original DataFrame:\n",
      "      Name  Age         City\n",
      "0    Alice   25     New York\n",
      "1      Bob   30  Los Angeles\n",
      "2  Charlie   35      Chicago\n",
      "3    David   40      Houston\n",
      "\n",
      "Result of where() function:\n",
      "    Name    Age         City\n",
      "0  Alice     25     New York\n",
      "1    Bob     30  Los Angeles\n",
      "2  Young  Young        Young\n",
      "3  Young  Young        Young\n"
     ]
    }
   ],
   "source": [
    "\n",
    "\n",
    "\n",
    "data = {'Name': ['Alice', 'Bob', 'Charlie', 'David'],\n",
    "        'Age': [25, 30, 35, 40],\n",
    "        'City': ['New York', 'Los Angeles', 'Chicago', 'Houston']}\n",
    "df = pd.DataFrame(data)\n",
    "\n",
    "\n",
    "condition = df['Age'] < 35\n",
    "result = df.where(condition, other='Young')\n",
    "\n",
    "print(\"Original DataFrame:\")\n",
    "print(df)\n",
    "print(\"\\nResult of where() function:\")\n",
    "print(result)\n"
   ]
  },
  {
   "cell_type": "code",
   "execution_count": null,
   "metadata": {},
   "outputs": [],
   "source": [
    "\n",
    "\n",
    "data = {'Name': ['Alice', 'Bob', 'Charlie', 'David'],\n",
    "        'Age': [25, 30, 35, 40],\n",
    "        'City': ['New York', 'Los Angeles', 'Chicago', 'Houston']}\n",
    "df = pd.DataFrame(data)\n",
    "\n",
    "condition = df['Age'] < 35\n",
    "result = df.copy() \n",
    "result['Name'] = result['Name'].where(condition, other='Young')\n",
    "\n",
    "print(\"Original DataFrame:\")\n",
    "print(df)\n",
    "print(\"\\nResult of where() function:\")\n",
    "print(result)\n"
   ]
  },
  {
   "cell_type": "code",
   "execution_count": 9,
   "metadata": {},
   "outputs": [
    {
     "name": "stdout",
     "output_type": "stream",
     "text": [
      "Original DataFrame:\n",
      "      Name  Age         City\n",
      "0    Alice   25     New York\n",
      "1      Bob   30  Los Angeles\n",
      "2  Charlie   35      Chicago\n",
      "3    David   40      Houston\n",
      "\n",
      "Result of where() function:\n",
      "      Name  Age         City\n",
      "0    Alice   25     New York\n",
      "1      Bob   30  Los Angeles\n",
      "2  Charlie   35           tg\n",
      "3    David   40           tg\n"
     ]
    }
   ],
   "source": [
    "\n",
    "\n",
    "data = {'Name': ['Alice', 'Bob', 'Charlie', 'David'],\n",
    "        'Age': [25, 30, 35, 40],\n",
    "        'City': ['New York', 'Los Angeles', 'Chicago', 'Houston']}\n",
    "df = pd.DataFrame(data)\n",
    "print(\"Original DataFrame:\")\n",
    "print(df)\n",
    "condition = df['Age'] < 35\n",
    "df['City'] = df['City'].where(condition, other='tg')\n",
    "print(\"\\nResult of where() function:\")\n",
    "print(df)\n"
   ]
  },
  {
   "cell_type": "code",
   "execution_count": 11,
   "metadata": {},
   "outputs": [
    {
     "name": "stdout",
     "output_type": "stream",
     "text": [
      "Original DataFrame:\n",
      "      Name  Age         City\n",
      "0    Alice   25     New York\n",
      "1      Bob   30  Los Angeles\n",
      "2  Charlie   35      Chicago\n",
      "3    David   40      Houston\n",
      "4    Alice   28     New York\n",
      "5      Bob   32  Los Angeles\n",
      "\n",
      "Mean age by city:\n",
      "City\n",
      "Chicago        35.0\n",
      "Houston        40.0\n",
      "Los Angeles    31.0\n",
      "New York       26.5\n",
      "Name: Age, dtype: float64\n"
     ]
    }
   ],
   "source": [
    "\n",
    "\n",
    "\n",
    "data = {'Name': ['Alice', 'Bob', 'Charlie', 'David', 'Alice', 'Bob'],\n",
    "        'Age': [25, 30, 35, 40, 28, 32],\n",
    "        'City': ['New York', 'Los Angeles', 'Chicago', 'Houston', 'New York', 'Los Angeles']}\n",
    "df = pd.DataFrame(data)\n",
    "\n",
    "\n",
    "grouped = df.groupby('City')\n",
    "mean_age_by_city = grouped['Age'].mean()\n",
    "\n",
    "print(\"Original DataFrame:\")\n",
    "print(df)\n",
    "print(\"\\nMean age by city:\")\n",
    "print(mean_age_by_city)\n"
   ]
  },
  {
   "cell_type": "code",
   "execution_count": 34,
   "metadata": {},
   "outputs": [
    {
     "name": "stdout",
     "output_type": "stream",
     "text": [
      "Original DataFrame:\n",
      "      Name  Age         City\n",
      "0    Alice   25     New York\n",
      "1      Bob   30  Los Angeles\n",
      "2  Charlie   35      Chicago\n",
      "3    David   40      Houston\n",
      "4    Alice   28     New York\n",
      "5      Bob   32  Los Angeles\n",
      "\n",
      "Mean age by city:\n",
      "City\n",
      "Chicago        35\n",
      "Houston        40\n",
      "Los Angeles    32\n",
      "New York       28\n",
      "Name: Age, dtype: int64\n"
     ]
    }
   ],
   "source": [
    "\n",
    "\n",
    "\n",
    "data = {'Name': ['Alice', 'Bob', 'Charlie', 'David', 'Alice', 'Bob'],\n",
    "        'Age': [25, 30, 35, 40, 28, 32],\n",
    "        'City': ['New York', 'Los Angeles', 'Chicago', 'Houston', 'New York', 'Los Angeles']}\n",
    "df = pd.DataFrame(data)\n",
    "\n",
    "\n",
    "grouped = df.groupby('City')\n",
    "\n",
    "mean_age_by_city = grouped['Age'].max()\n",
    "\n",
    "print(\"Original DataFrame:\")\n",
    "print(df)\n",
    "print(\"\\nMean age by city:\")\n",
    "print(mean_age_by_city)\n"
   ]
  },
  {
   "cell_type": "code",
   "execution_count": 35,
   "metadata": {},
   "outputs": [
    {
     "name": "stdout",
     "output_type": "stream",
     "text": [
      "Original DataFrame:\n",
      "      Name  Age         City\n",
      "0    Alice   25     New York\n",
      "1      Bob   30  Los Angeles\n",
      "2  Charlie   35      Chicago\n",
      "3    David   40      Houston\n",
      "4    Alice   28     New York\n",
      "5      Bob   32  Los Angeles\n",
      "\n",
      "Mean age by city:\n",
      "City\n",
      "Chicago        35\n",
      "Houston        40\n",
      "Los Angeles    30\n",
      "New York       25\n",
      "Name: Age, dtype: int64\n"
     ]
    }
   ],
   "source": [
    "\n",
    "\n",
    "\n",
    "data = {'Name': ['Alice', 'Bob', 'Charlie', 'David', 'Alice', 'Bob'],\n",
    "        'Age': [25, 30, 35, 40, 28, 32],\n",
    "        'City': ['New York', 'Los Angeles', 'Chicago', 'Houston', 'New York', 'Los Angeles']}\n",
    "df = pd.DataFrame(data)\n",
    "\n",
    "grouped = df.groupby('City')\n",
    "\n",
    "mean_age_by_city = grouped['Age'].min()\n",
    "\n",
    "print(\"Original DataFrame:\")\n",
    "print(df)\n",
    "print(\"\\nMean age by city:\")\n",
    "print(mean_age_by_city)\n"
   ]
  },
  {
   "cell_type": "code",
   "execution_count": 12,
   "metadata": {},
   "outputs": [
    {
     "name": "stdout",
     "output_type": "stream",
     "text": [
      "Original DataFrame:\n",
      "      Name  Age         City\n",
      "0    Alice   25     New York\n",
      "1      Bob   30  Los Angeles\n",
      "2  Charlie   35      Chicago\n",
      "3    David   40      Houston\n",
      "\n",
      "Aggregated result:\n",
      "            Age          \n",
      "            min max  mean\n",
      "City                     \n",
      "Chicago      35  35  35.0\n",
      "Houston      40  40  40.0\n",
      "Los Angeles  30  30  30.0\n",
      "New York     25  25  25.0\n"
     ]
    }
   ],
   "source": [
    "\n",
    "\n",
    "\n",
    "data = {'Name': ['Alice', 'Bob', 'Charlie', 'David'],\n",
    "        'Age': [25, 30, 35, 40],\n",
    "        'City': ['New York', 'Los Angeles', 'Chicago', 'Houston']}\n",
    "df = pd.DataFrame(data)\n",
    "\n",
    "\n",
    "aggregations = {\n",
    "    'Age': ['min', 'max', 'mean']\n",
    "}\n",
    "\n",
    "result = df.groupby('City').agg(aggregations)\n",
    "\n",
    "print(\"Original DataFrame:\")\n",
    "print(df)\n",
    "print(\"\\nAggregated result:\")\n",
    "print(result)\n"
   ]
  },
  {
   "cell_type": "code",
   "execution_count": 40,
   "metadata": {},
   "outputs": [
    {
     "name": "stdout",
     "output_type": "stream",
     "text": [
      "Original DataFrame:\n",
      "   A  B   C\n",
      "0  1  5   9\n",
      "1  2  6  10\n",
      "2  3  7  11\n",
      "3  4  8  12\n",
      "\n",
      "Result after applying function column-wise:\n",
      "   A   B   C\n",
      "0  2  10  18\n",
      "1  4  12  20\n",
      "2  6  14  22\n",
      "3  8  16  24\n",
      "\n",
      "Result after applying function row-wise:\n",
      "   A   B   C\n",
      "0  2  10  18\n",
      "1  4  12  20\n",
      "2  6  14  22\n",
      "3  8  16  24\n"
     ]
    }
   ],
   "source": [
    "\n",
    "\n",
    "\n",
    "data = {'A': [1, 2, 3, 4],\n",
    "        'B': [5, 6, 7, 8],\n",
    "        'C': [9, 10, 11, 12]}\n",
    "df = pd.DataFrame(data)\n",
    "\n",
    "def double_values(x):\n",
    "    return x * 2\n",
    "\n",
    "\n",
    "result_column_wise = df.apply(double_values)\n",
    "\n",
    "\n",
    "result_row_wise = df.apply(double_values, axis=1)\n",
    "\n",
    "print(\"Original DataFrame:\")\n",
    "print(df)\n",
    "print(\"\\nResult after applying function column-wise:\")\n",
    "print(result_column_wise)\n",
    "print(\"\\nResult after applying function row-wise:\")\n",
    "print(result_row_wise)\n"
   ]
  },
  {
   "cell_type": "code",
   "execution_count": 13,
   "metadata": {},
   "outputs": [
    {
     "name": "stdout",
     "output_type": "stream",
     "text": [
      "Original DataFrame:\n",
      "   A  B   C\n",
      "0  1  5   9\n",
      "1  2  6  10\n",
      "2  3  7  11\n",
      "3  4  8  12\n",
      "\n",
      "Result after applying function column-wise:\n",
      "A    10\n",
      "B    26\n",
      "C    42\n",
      "dtype: int64\n",
      "\n",
      "Result after applying function row-wise:\n",
      "0    15\n",
      "1    18\n",
      "2    21\n",
      "3    24\n",
      "dtype: int64\n"
     ]
    }
   ],
   "source": [
    "\n",
    "\n",
    "\n",
    "data = {'A': [1, 2, 3, 4],\n",
    "        'B': [5, 6, 7, 8],\n",
    "        'C': [9, 10, 11, 12]}\n",
    "df = pd.DataFrame(data)\n",
    "\n",
    "def sum_row(row):\n",
    "    return row.sum()\n",
    "\n",
    "result_column_wise = df.apply(sum_row, axis=0)\n",
    "\n",
    "\n",
    "result_row_wise = df.apply(sum_row, axis=1)\n",
    "\n",
    "print(\"Original DataFrame:\")\n",
    "print(df)\n",
    "print(\"\\nResult after applying function column-wise:\")\n",
    "print(result_column_wise)\n",
    "print(\"\\nResult after applying function row-wise:\")\n",
    "print(result_row_wise)\n"
   ]
  },
  {
   "cell_type": "code",
   "execution_count": 42,
   "metadata": {},
   "outputs": [
    {
     "name": "stdout",
     "output_type": "stream",
     "text": [
      "Original DataFrame:\n",
      "      Name  Age         City\n",
      "0    Alice   25     New York\n",
      "1      Bob   30  Los Angeles\n",
      "2  Charlie   25      Chicago\n",
      "\n",
      "Sorted DataFrame by 'Age':\n",
      "      Name  Age         City\n",
      "0    Alice   25     New York\n",
      "2  Charlie   25      Chicago\n",
      "1      Bob   30  Los Angeles\n"
     ]
    }
   ],
   "source": [
    "\n",
    "\n",
    "\n",
    "data = {'Name': ['Alice', 'Bob', 'Charlie'],\n",
    "        'Age': [25, 30, 25],\n",
    "        'City': ['New York', 'Los Angeles', 'Chicago']}\n",
    "df = pd.DataFrame(data)\n",
    "\n",
    "\n",
    "sorted_df = df.sort_values(by='Age')\n",
    "\n",
    "print(\"Original DataFrame:\")\n",
    "print(df)\n",
    "print(\"\\nSorted DataFrame by 'Age':\")\n",
    "print(sorted_df)\n"
   ]
  },
  {
   "cell_type": "code",
   "execution_count": 43,
   "metadata": {},
   "outputs": [
    {
     "name": "stdout",
     "output_type": "stream",
     "text": [
      "Original DataFrame:\n",
      "      Name  Age         City\n",
      "b    Alice   25     New York\n",
      "a      Bob   30  Los Angeles\n",
      "c  Charlie   25      Chicago\n",
      "\n",
      "Sorted DataFrame by index:\n",
      "      Name  Age         City\n",
      "a      Bob   30  Los Angeles\n",
      "b    Alice   25     New York\n",
      "c  Charlie   25      Chicago\n"
     ]
    }
   ],
   "source": [
    "\n",
    "\n",
    "\n",
    "data = {'Name': ['Alice', 'Bob', 'Charlie'],\n",
    "        'Age': [25, 30, 25],\n",
    "        'City': ['New York', 'Los Angeles', 'Chicago']}\n",
    "df = pd.DataFrame(data, index=['b', 'a', 'c'])\n",
    "\n",
    "\n",
    "sorted_index_df = df.sort_index()\n",
    "\n",
    "print(\"Original DataFrame:\")\n",
    "print(df)\n",
    "print(\"\\nSorted DataFrame by index:\")\n",
    "print(sorted_index_df)\n"
   ]
  },
  {
   "cell_type": "code",
   "execution_count": 44,
   "metadata": {},
   "outputs": [
    {
     "name": "stdout",
     "output_type": "stream",
     "text": [
      "DataFrame with Ranks:\n",
      "      Name  Age         City  Age_Rank\n",
      "0    Alice   25     New York       1.5\n",
      "1      Bob   30  Los Angeles       3.0\n",
      "2  Charlie   25      Chicago       1.5\n"
     ]
    }
   ],
   "source": [
    "\n",
    "\n",
    "data = {'Name': ['Alice', 'Bob', 'Charlie'],\n",
    "        'Age': [25, 30, 25],\n",
    "        'City': ['New York', 'Los Angeles', 'Chicago']}\n",
    "df = pd.DataFrame(data)\n",
    "\n",
    "\n",
    "df['Age_Rank'] = df['Age'].rank()\n",
    "\n",
    "print(\"DataFrame with Ranks:\")\n",
    "print(df)\n"
   ]
  },
  {
   "cell_type": "code",
   "execution_count": 14,
   "metadata": {},
   "outputs": [
    {
     "name": "stdout",
     "output_type": "stream",
     "text": [
      "Concatenated DataFrame along rows:\n",
      "    A   B\n",
      "0  A0  B0\n",
      "1  A1  B1\n",
      "2  A2  B2\n",
      "0  A3  B0\n",
      "1  A4  B4\n",
      "2  A5  B5\n"
     ]
    }
   ],
   "source": [
    "\n",
    "\n",
    "\n",
    "df1 = pd.DataFrame({'A': ['A0', 'A1', 'A2'],\n",
    "                    'B': ['B0', 'B1', 'B2']})\n",
    "df2 = pd.DataFrame({'A': ['A3', 'A4', 'A5'],\n",
    "                    'B': ['B0', 'B4', 'B5']})\n",
    "\n",
    "\n",
    "result_row_concat = pd.concat([df1, df2])\n",
    "\n",
    "print(\"Concatenated DataFrame along rows:\")\n",
    "print(result_row_concat)\n"
   ]
  },
  {
   "cell_type": "code",
   "execution_count": 47,
   "metadata": {},
   "outputs": [
    {
     "name": "stdout",
     "output_type": "stream",
     "text": [
      "Merged DataFrame:\n",
      "  key   A   B\n",
      "0  K1  A1  B1\n",
      "1  K2  A2  B2\n"
     ]
    }
   ],
   "source": [
    "\n",
    "\n",
    "df1 = pd.DataFrame({'key': ['K0', 'K1', 'K2'],\n",
    "                    'A': ['A0', 'A1', 'A2']})\n",
    "df2 = pd.DataFrame({'key': ['K1', 'K2', 'K3'],\n",
    "                    'B': ['B1', 'B2', 'B3']})\n",
    "\n",
    "\n",
    "result_merge = pd.merge(df1, df2, on='key')\n",
    "\n",
    "print(\"Merged DataFrame:\")\n",
    "print(result_merge)\n"
   ]
  },
  {
   "cell_type": "code",
   "execution_count": 48,
   "metadata": {},
   "outputs": [
    {
     "name": "stdout",
     "output_type": "stream",
     "text": [
      "Joined DataFrame on index:\n",
      "     A   B    C    D\n",
      "K0  A0  B0   C0   D0\n",
      "K1  A1  B1   C1   D1\n",
      "K2  A2  B2  NaN  NaN\n"
     ]
    }
   ],
   "source": [
    "\n",
    "\n",
    "\n",
    "df1 = pd.DataFrame({'A': ['A0', 'A1', 'A2'],\n",
    "                    'B': ['B0', 'B1', 'B2']},\n",
    "                   index=['K0', 'K1', 'K2'])\n",
    "df2 = pd.DataFrame({'C': ['C0', 'C1', 'C2'],\n",
    "                    'D': ['D0', 'D1', 'D2']},\n",
    "                   index=['K0', 'K1', 'K3'])\n",
    "\n",
    "\n",
    "result_index_join = df1.join(df2)\n",
    "\n",
    "print(\"Joined DataFrame on index:\")\n",
    "print(result_index_join)\n"
   ]
  },
  {
   "cell_type": "code",
   "execution_count": 23,
   "metadata": {},
   "outputs": [
    {
     "name": "stdout",
     "output_type": "stream",
     "text": [
      "Original DataFrame:\n",
      "     A    B      C  D\n",
      "0  foo  one  small  1\n",
      "1  foo  one  large  2\n",
      "2  foo  two  large  2\n",
      "3  bar  two  small  3\n",
      "4  bar  one  small  3\n",
      "5  bar  one  large  4\n",
      "\n",
      "Reshaped DataFrame using pivot():\n",
      "B      one    two\n",
      "A                \n",
      "bar  large  small\n",
      "foo  large  large\n"
     ]
    }
   ],
   "source": [
    "\n",
    "\n",
    "\n",
    "data = {'A': ['foo', 'foo', 'foo', 'bar', 'bar', 'bar'],\n",
    "        'B': ['one', 'one', 'two', 'two', 'one', 'one'],\n",
    "        'C': ['small', 'large', 'large', 'small', 'small', 'large'],\n",
    "        'D': [1, 2, 2, 3, 3, 4]}\n",
    "df = pd.DataFrame(data)\n",
    "\n",
    "\n",
    "result_pivot = df.pivot_table(index='A', columns='B', values='C', aggfunc='min')\n",
    "\n",
    "print(\"Original DataFrame:\")\n",
    "print(df)\n",
    "print(\"\\nReshaped DataFrame using pivot():\")\n",
    "print(result_pivot)\n"
   ]
  },
  {
   "cell_type": "code",
   "execution_count": 20,
   "metadata": {},
   "outputs": [
    {
     "name": "stdout",
     "output_type": "stream",
     "text": [
      "Original DataFrame:\n",
      "     A    B      C  D\n",
      "0  foo  one  small  1\n",
      "1  foo  one  large  2\n",
      "2  foo  two  large  2\n",
      "3  bar  two  small  3\n",
      "4  bar  one  small  3\n",
      "5  bar  one  large  4\n",
      "\n",
      "Pivot table using pivot_table():\n",
      "B    one  two\n",
      "A            \n",
      "bar    7    3\n",
      "foo    3    2\n"
     ]
    }
   ],
   "source": [
    "\n",
    "\n",
    "data = {'A': ['foo', 'foo', 'foo', 'bar', 'bar', 'bar'],\n",
    "        'B': ['one', 'one', 'two', 'two', 'one', 'one'],\n",
    "        'C': ['small', 'large', 'large', 'small', 'small', 'large'],\n",
    "        'D': [1, 2, 2, 3, 3, 4]}\n",
    "df = pd.DataFrame(data)\n",
    "\n",
    "\n",
    "result_pivot_table = df.pivot_table(index='A', columns='B', values='D', aggfunc='sum')\n",
    "\n",
    "print(\"Original DataFrame:\")\n",
    "print(df)\n",
    "print(\"\\nPivot table using pivot_table():\")\n",
    "print(result_pivot_table)\n"
   ]
  },
  {
   "cell_type": "code",
   "execution_count": 51,
   "metadata": {},
   "outputs": [
    {
     "name": "stdout",
     "output_type": "stream",
     "text": [
      "Original DataFrame:\n",
      "     A  B  C\n",
      "0  foo  1  4\n",
      "1  bar  2  5\n",
      "2  baz  3  6\n",
      "\n",
      "Unpivoted DataFrame using melt():\n",
      "     A variable  value\n",
      "0  foo        B      1\n",
      "1  bar        B      2\n",
      "2  baz        B      3\n",
      "3  foo        C      4\n",
      "4  bar        C      5\n",
      "5  baz        C      6\n"
     ]
    }
   ],
   "source": [
    "\n",
    "\n",
    "\n",
    "data = {'A': ['foo', 'bar', 'baz'],\n",
    "        'B': [1, 2, 3],\n",
    "        'C': [4, 5, 6]}\n",
    "df = pd.DataFrame(data)\n",
    "\n",
    "\n",
    "result_melt = df.melt(id_vars='A', var_name='variable', value_name='value')\n",
    "\n",
    "print(\"Original DataFrame:\")\n",
    "print(df)\n",
    "print(\"\\nUnpivoted DataFrame using melt():\")\n",
    "print(result_melt)\n"
   ]
  },
  {
   "cell_type": "code",
   "execution_count": 52,
   "metadata": {},
   "outputs": [
    {
     "name": "stdout",
     "output_type": "stream",
     "text": [
      "Original DataFrame:\n",
      "   A  B\n",
      "0  1  x\n",
      "1  1  x\n",
      "2  2  y\n",
      "3  2  y\n",
      "4  3  z\n",
      "\n",
      "DataFrame after removing duplicate rows:\n",
      "   A  B\n",
      "0  1  x\n",
      "2  2  y\n",
      "4  3  z\n"
     ]
    }
   ],
   "source": [
    "\n",
    "\n",
    "data = {'A': [1, 1, 2, 2, 3],\n",
    "        'B': ['x', 'x', 'y', 'y', 'z']}\n",
    "df = pd.DataFrame(data)\n",
    "\n",
    "\n",
    "result_drop_duplicates = df.drop_duplicates()\n",
    "\n",
    "print(\"Original DataFrame:\")\n",
    "print(df)\n",
    "print(\"\\nDataFrame after removing duplicate rows:\")\n",
    "print(result_drop_duplicates)\n"
   ]
  },
  {
   "cell_type": "code",
   "execution_count": 55,
   "metadata": {},
   "outputs": [
    {
     "name": "stdout",
     "output_type": "stream",
     "text": [
      "Original DataFrame:\n",
      "     A    B\n",
      "0  1.0  4.0\n",
      "1  NaN  5.0\n",
      "2  3.0  NaN\n",
      "\n",
      "DataFrame after dropping rows with missing values:\n",
      "     A    B\n",
      "0  1.0  4.0\n"
     ]
    }
   ],
   "source": [
    "\n",
    "\n",
    "data = {'A': [1, None, 3],\n",
    "        'B': [4, 5, None]}\n",
    "df = pd.DataFrame(data)\n",
    "\n",
    "result_dropna = df.dropna()\n",
    "\n",
    "print(\"Original DataFrame:\")\n",
    "print(df)\n",
    "print(\"\\nDataFrame after dropping rows with missing values:\")\n",
    "print(result_dropna)\n"
   ]
  },
  {
   "cell_type": "code",
   "execution_count": 53,
   "metadata": {},
   "outputs": [
    {
     "name": "stdout",
     "output_type": "stream",
     "text": [
      "Original DataFrame:\n",
      "     A    B\n",
      "0  1.0  4.0\n",
      "1  NaN  5.0\n",
      "2  3.0  NaN\n",
      "\n",
      "DataFrame after filling missing values:\n",
      "     A    B\n",
      "0  1.0  4.0\n",
      "1  0.0  5.0\n",
      "2  3.0  0.0\n"
     ]
    }
   ],
   "source": [
    "\n",
    "data = {'A': [1, None, 3],\n",
    "        'B': [4, 5, None]}\n",
    "df = pd.DataFrame(data)\n",
    "\n",
    "\n",
    "result_fillna = df.fillna(value=0)\n",
    "\n",
    "print(\"Original DataFrame:\")\n",
    "print(df)\n",
    "print(\"\\nDataFrame after filling missing values:\")\n",
    "print(result_fillna)\n"
   ]
  },
  {
   "cell_type": "code",
   "execution_count": 54,
   "metadata": {},
   "outputs": [
    {
     "name": "stdout",
     "output_type": "stream",
     "text": [
      "Original DataFrame:\n",
      "   A  B\n",
      "0  1  x\n",
      "1  2  y\n",
      "2  3  z\n",
      "3  4  x\n",
      "\n",
      "DataFrame after replacing values:\n",
      "   A  B\n",
      "0  1  X\n",
      "1  2  Y\n",
      "2  3  z\n",
      "3  4  X\n"
     ]
    }
   ],
   "source": [
    "\n",
    "data = {'A': [1, 2, 3, 4],\n",
    "        'B': ['x', 'y', 'z', 'x']}\n",
    "df = pd.DataFrame(data)\n",
    "\n",
    "\n",
    "result_replace = df.replace({'B': {'x': 'X', 'y': 'Y'}})\n",
    "\n",
    "print(\"Original DataFrame:\")\n",
    "print(df)\n",
    "print(\"\\nDataFrame after replacing values:\")\n",
    "print(result_replace)\n"
   ]
  },
  {
   "cell_type": "code",
   "execution_count": 56,
   "metadata": {},
   "outputs": [
    {
     "name": "stdout",
     "output_type": "stream",
     "text": [
      "Mean values:\n",
      "A     3.0\n",
      "B    15.0\n",
      "dtype: float64\n",
      "\n",
      "Median values:\n",
      "A     3.0\n",
      "B    15.0\n",
      "dtype: float64\n",
      "\n",
      "Mode values:\n",
      "A    1\n",
      "B    5\n",
      "Name: 0, dtype: int64\n"
     ]
    }
   ],
   "source": [
    "\n",
    "\n",
    "data = {'A': [1, 2, 3, 4, 5],\n",
    "        'B': [5, 10, 15, 20, 25]}\n",
    "df = pd.DataFrame(data)\n",
    "\n",
    "\n",
    "mean_value = df.mean()\n",
    "median_value = df.median()\n",
    "mode_value = df.mode().iloc[0]\n",
    "\n",
    "print(\"Mean values:\")\n",
    "print(mean_value)\n",
    "print(\"\\nMedian values:\")\n",
    "print(median_value)\n",
    "print(\"\\nMode values:\")\n",
    "print(mode_value)\n"
   ]
  },
  {
   "cell_type": "code",
   "execution_count": 57,
   "metadata": {},
   "outputs": [
    {
     "name": "stdout",
     "output_type": "stream",
     "text": [
      "Standard deviation:\n",
      "A    1.581139\n",
      "B    7.905694\n",
      "dtype: float64\n",
      "\n",
      "Variance:\n",
      "A     2.5\n",
      "B    62.5\n",
      "dtype: float64\n"
     ]
    }
   ],
   "source": [
    "\n",
    "data = {'A': [1, 2, 3, 4, 5],\n",
    "        'B': [5, 10, 15, 20, 25]}\n",
    "df = pd.DataFrame(data)\n",
    "\n",
    "\n",
    "std_deviation = df.std()\n",
    "variance = df.var()\n",
    "\n",
    "print(\"Standard deviation:\")\n",
    "print(std_deviation)\n",
    "print(\"\\nVariance:\")\n",
    "print(variance)\n"
   ]
  },
  {
   "cell_type": "code",
   "execution_count": 58,
   "metadata": {},
   "outputs": [
    {
     "name": "stdout",
     "output_type": "stream",
     "text": [
      "Sum of values:\n",
      "A    15\n",
      "B    75\n",
      "dtype: int64\n",
      "\n",
      "Product of values:\n",
      "A       120\n",
      "B    375000\n",
      "dtype: int64\n"
     ]
    }
   ],
   "source": [
    "\n",
    "\n",
    "\n",
    "data = {'A': [1, 2, 3, 4, 5],\n",
    "        'B': [5, 10, 15, 20, 25]}\n",
    "df = pd.DataFrame(data)\n",
    "\n",
    "\n",
    "sum_values = df.sum()\n",
    "product_values = df.prod()\n",
    "\n",
    "print(\"Sum of values:\")\n",
    "print(sum_values)\n",
    "print(\"\\nProduct of values:\")\n",
    "print(product_values)\n"
   ]
  },
  {
   "cell_type": "code",
   "execution_count": 59,
   "metadata": {},
   "outputs": [
    {
     "name": "stdout",
     "output_type": "stream",
     "text": [
      "Descriptive statistics:\n",
      "              A          B\n",
      "count  5.000000   5.000000\n",
      "mean   3.000000  15.000000\n",
      "std    1.581139   7.905694\n",
      "min    1.000000   5.000000\n",
      "25%    2.000000  10.000000\n",
      "50%    3.000000  15.000000\n",
      "75%    4.000000  20.000000\n",
      "max    5.000000  25.000000\n"
     ]
    }
   ],
   "source": [
    "\n",
    "\n",
    "\n",
    "data = {'A': [1, 2, 3, 4, 5],\n",
    "        'B': [5, 10, 15, 20, 25]}\n",
    "df = pd.DataFrame(data)\n",
    "\n",
    "\n",
    "description = df.describe()\n",
    "\n",
    "print(\"Descriptive statistics:\")\n",
    "print(description)\n"
   ]
  },
  {
   "cell_type": "code",
   "execution_count": 60,
   "metadata": {},
   "outputs": [
    {
     "data": {
      "image/png": "[encoded data removed]",
      "text/plain": [
       "<Figure size 640x480 with 1 Axes>"
      ]
     },
     "metadata": {},
     "output_type": "display_data"
    }
   ],
   "source": [
    "\n",
    "import matplotlib.pyplot as plt\n",
    "\n",
    "\n",
    "data = {'A': [1, 2, 3, 4, 5],\n",
    "        'B': [5, 10, 15, 20, 25]}\n",
    "df = pd.DataFrame(data)\n",
    "\n",
    "df.plot()\n",
    "plt.title(\"Line Plot of DataFrame\")\n",
    "plt.xlabel(\"Index\")\n",
    "plt.ylabel(\"Values\")\n",
    "plt.show()\n"
   ]
  },
  {
   "cell_type": "code",
   "execution_count": 61,
   "metadata": {},
   "outputs": [
    {
     "data": {
      "image/png": "[encoded data removed]",
      "text/plain": [
       "<Figure size 640x480 with 1 Axes>"
      ]
     },
     "metadata": {},
     "output_type": "display_data"
    }
   ],
   "source": [
    "\n",
    "import matplotlib.pyplot as plt\n",
    "\n",
    "\n",
    "data = [1, 2, 2, 3, 3, 3, 4, 4, 4, 4, 5]\n",
    "s = pd.Series(data)\n",
    "\n",
    "\n",
    "s.hist()\n",
    "plt.title(\"Histogram of Series\")\n",
    "plt.xlabel(\"Values\")\n",
    "plt.ylabel(\"Frequency\")\n",
    "plt.show()\n"
   ]
  },
  {
   "cell_type": "code",
   "execution_count": 62,
   "metadata": {},
   "outputs": [
    {
     "data": {
      "image/png": "[encoded data removed]",
      "text/plain": [
       "<Figure size 640x480 with 1 Axes>"
      ]
     },
     "metadata": {},
     "output_type": "display_data"
    }
   ],
   "source": [
    "\n",
    "import matplotlib.pyplot as plt\n",
    "\n",
    "\n",
    "data = {'A': [1, 2, 3, 4, 5],\n",
    "        'B': [5, 10, 15, 20, 25]}\n",
    "df = pd.DataFrame(data)\n",
    "\n",
    "df.boxplot()\n",
    "plt.title(\"Box Plot of DataFrame\")\n",
    "plt.ylabel(\"Values\")\n",
    "plt.show()\n"
   ]
  },
  {
   "cell_type": "code",
   "execution_count": 24,
   "metadata": {},
   "outputs": [
    {
     "name": "stdout",
     "output_type": "stream",
     "text": [
      "DataFrame from CSV file:\n",
      "Empty DataFrame\n",
      "Columns: [a]\n",
      "Index: []\n",
      "DataFrame written to CSV file.\n"
     ]
    }
   ],
   "source": [
    "\n",
    "\n",
    "\n",
    "df = pd.read_csv('data.csv')\n",
    "\n",
    "print(\"DataFrame from CSV file:\")\n",
    "print(df)\n",
    "\n",
    "\n",
    "\n",
    "df.to_csv('output.csv', index=False)\n",
    "\n",
    "print(\"DataFrame written to CSV file.\")\n"
   ]
  },
  {
   "cell_type": "code",
   "execution_count": 30,
   "metadata": {},
   "outputs": [
    {
     "name": "stdout",
     "output_type": "stream",
     "text": [
      "Collecting openpyxlNote: you may need to restart the kernel to use updated packages.\n",
      "\n",
      "  Downloading openpyxl-3.1.2-py2.py3-none-any.whl.metadata (2.5 kB)\n",
      "Collecting et-xmlfile (from openpyxl)\n",
      "  Downloading et_xmlfile-1.1.0-py3-none-any.whl.metadata (1.8 kB)\n",
      "Downloading openpyxl-3.1.2-py2.py3-none-any.whl (249 kB)\n",
      "   ---------------------------------------- 0.0/250.0 kB ? eta -:--:--\n",
      "   ---------------------------------------- 0.0/250.0 kB ? eta -:--:--\n",
      "   - -------------------------------------- 10.2/250.0 kB ? eta -:--:--\n",
      "   - -------------------------------------- 10.2/250.0 kB ? eta -:--:--\n",
      "   - -------------------------------------- 10.2/250.0 kB ? eta -:--:--\n",
      "   ---- ---------------------------------- 30.7/250.0 kB 119.1 kB/s eta 0:00:02\n",
      "   ---- ---------------------------------- 30.7/250.0 kB 119.1 kB/s eta 0:00:02\n",
      "   ---- ---------------------------------- 30.7/250.0 kB 119.1 kB/s eta 0:00:02\n",
      "   ---- ---------------------------------- 30.7/250.0 kB 119.1 kB/s eta 0:00:02\n",
      "   ---- ---------------------------------- 30.7/250.0 kB 119.1 kB/s eta 0:00:02\n",
      "   ---- ---------------------------------- 30.7/250.0 kB 119.1 kB/s eta 0:00:02\n",
      "   ---- ---------------------------------- 30.7/250.0 kB 119.1 kB/s eta 0:00:02\n",
      "   ---- ---------------------------------- 30.7/250.0 kB 119.1 kB/s eta 0:00:02\n",
      "   ---- ---------------------------------- 30.7/250.0 kB 119.1 kB/s eta 0:00:02\n",
      "   ---- ---------------------------------- 30.7/250.0 kB 119.1 kB/s eta 0:00:02\n",
      "   ---- ---------------------------------- 30.7/250.0 kB 119.1 kB/s eta 0:00:02\n",
      "   ---- ---------------------------------- 30.7/250.0 kB 119.1 kB/s eta 0:00:02\n",
      "   ---- ---------------------------------- 30.7/250.0 kB 119.1 kB/s eta 0:00:02\n",
      "   ---- ---------------------------------- 30.7/250.0 kB 119.1 kB/s eta 0:00:02\n",
      "   ---- ---------------------------------- 30.7/250.0 kB 119.1 kB/s eta 0:00:02\n",
      "   ---- ---------------------------------- 30.7/250.0 kB 119.1 kB/s eta 0:00:02\n",
      "   ---- ---------------------------------- 30.7/250.0 kB 119.1 kB/s eta 0:00:02\n",
      "   ---- ---------------------------------- 30.7/250.0 kB 119.1 kB/s eta 0:00:02\n",
      "   ---- ---------------------------------- 30.7/250.0 kB 119.1 kB/s eta 0:00:02\n",
      "   ---- ---------------------------------- 30.7/250.0 kB 119.1 kB/s eta 0:00:02\n",
      "   ---- ---------------------------------- 30.7/250.0 kB 119.1 kB/s eta 0:00:02\n",
      "   ---- ---------------------------------- 30.7/250.0 kB 119.1 kB/s eta 0:00:02\n",
      "   ---- ---------------------------------- 30.7/250.0 kB 119.1 kB/s eta 0:00:02\n",
      "   ---- ---------------------------------- 30.7/250.0 kB 119.1 kB/s eta 0:00:02\n",
      "   ---- ---------------------------------- 30.7/250.0 kB 119.1 kB/s eta 0:00:02\n",
      "   ---- ---------------------------------- 30.7/250.0 kB 119.1 kB/s eta 0:00:02\n",
      "   ---- ---------------------------------- 30.7/250.0 kB 119.1 kB/s eta 0:00:02\n",
      "   ---- ---------------------------------- 30.7/250.0 kB 119.1 kB/s eta 0:00:02\n",
      "   ---- ---------------------------------- 30.7/250.0 kB 119.1 kB/s eta 0:00:02\n",
      "   ---- ---------------------------------- 30.7/250.0 kB 119.1 kB/s eta 0:00:02\n",
      "   ---- ---------------------------------- 30.7/250.0 kB 119.1 kB/s eta 0:00:02\n",
      "   ---- ---------------------------------- 30.7/250.0 kB 119.1 kB/s eta 0:00:02\n",
      "   ------ --------------------------------- 41.0/250.0 kB 16.4 kB/s eta 0:00:13\n",
      "   ------ --------------------------------- 41.0/250.0 kB 16.4 kB/s eta 0:00:13\n",
      "   ------ --------------------------------- 41.0/250.0 kB 16.4 kB/s eta 0:00:13\n",
      "   ------ --------------------------------- 41.0/250.0 kB 16.4 kB/s eta 0:00:13\n",
      "   --------- ------------------------------ 61.4/250.0 kB 24.3 kB/s eta 0:00:08\n",
      "   --------- ------------------------------ 61.4/250.0 kB 24.3 kB/s eta 0:00:08\n",
      "   --------- ------------------------------ 61.4/250.0 kB 24.3 kB/s eta 0:00:08\n",
      "   --------- ------------------------------ 61.4/250.0 kB 24.3 kB/s eta 0:00:08\n",
      "   --------- ------------------------------ 61.4/250.0 kB 24.3 kB/s eta 0:00:08\n",
      "   ----------- ---------------------------- 71.7/250.0 kB 26.6 kB/s eta 0:00:07\n",
      "   ----------- ---------------------------- 71.7/250.0 kB 26.6 kB/s eta 0:00:07\n",
      "   -------------- ------------------------- 92.2/250.0 kB 33.6 kB/s eta 0:00:05\n",
      "   -------------- ------------------------- 92.2/250.0 kB 33.6 kB/s eta 0:00:05\n",
      "   -------------- ------------------------- 92.2/250.0 kB 33.6 kB/s eta 0:00:05\n",
      "   ------------------- ------------------- 122.9/250.0 kB 43.2 kB/s eta 0:00:03\n",
      "   ---------------------- ---------------- 143.4/250.0 kB 50.1 kB/s eta 0:00:03\n",
      "   ----------------------- --------------- 153.6/250.0 kB 53.0 kB/s eta 0:00:02\n",
      "   ----------------------- --------------- 153.6/250.0 kB 53.0 kB/s eta 0:00:02\n",
      "   --------------------------- ----------- 174.1/250.0 kB 58.9 kB/s eta 0:00:02\n",
      "   ------------------------------- ------- 204.8/250.0 kB 67.7 kB/s eta 0:00:01\n",
      "   ----------------------------------- --- 225.3/250.0 kB 73.2 kB/s eta 0:00:01\n",
      "   ------------------------------------ -- 235.5/250.0 kB 75.1 kB/s eta 0:00:01\n",
      "   --------------------------------------  245.8/250.0 kB 77.3 kB/s eta 0:00:01\n",
      "   --------------------------------------- 250.0/250.0 kB 77.9 kB/s eta 0:00:00\n",
      "Downloading et_xmlfile-1.1.0-py3-none-any.whl (4.7 kB)\n",
      "Installing collected packages: et-xmlfile, openpyxl\n",
      "Successfully installed et-xmlfile-1.1.0 openpyxl-3.1.2\n"
     ]
    }
   ],
   "source": [
    "pip install openpyxl"
   ]
  },
  {
   "cell_type": "code",
   "execution_count": 31,
   "metadata": {},
   "outputs": [
    {
     "name": "stdout",
     "output_type": "stream",
     "text": [
      "DataFrame from Excel file:\n",
      "Empty DataFrame\n",
      "Columns: []\n",
      "Index: []\n",
      "DataFrame written to Excel file.\n"
     ]
    }
   ],
   "source": [
    "\n",
    "\n",
    "df = pd.read_excel('new.xlsx', sheet_name='Sheet1')\n",
    "\n",
    "print(\"DataFrame from Excel file:\")\n",
    "print(df)\n",
    "\n",
    "\n",
    "\n",
    "\n",
    "df.to_excel('output.xlsx', sheet_name='Sheet1', index=False)\n",
    "\n",
    "print(\"DataFrame written to Excel file.\")\n"
   ]
  },
  {
   "cell_type": "code",
   "execution_count": null,
   "metadata": {},
   "outputs": [],
   "source": []
  }
 ],
 "metadata": {
  "kernelspec": {
   "display_name": "DMP",
   "language": "python",
   "name": "python3"
  },
  "language_info": {
   "codemirror_mode": {
    "name": "ipython",
    "version": 3
   },
   "file_extension": ".py",
   "mimetype": "text/x-python",
   "name": "python",
   "nbconvert_exporter": "python",
   "pygments_lexer": "ipython3",
   "version": "3.8.18"
  }
 },
 "nbformat": 4,
 "nbformat_minor": 2
}
