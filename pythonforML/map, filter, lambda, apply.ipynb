{
 "cells": [
  {
   "cell_type": "code",
   "execution_count": 1,
   "id": "ad695578",
   "metadata": {},
   "outputs": [],
   "source": [
    "import numpy as np"
   ]
  },
  {
   "cell_type": "markdown",
   "id": "18d2b5f1",
   "metadata": {},
   "source": [
    "iterable\n",
    "\n",
    "An iterable is any Python object capable of returning its members one at a time, permitting it to be iterated over in a for-loop. Familiar examples of iterables include lists, tuples, and strings - any such sequence can be iterated over in a for-loop."
   ]
  },
  {
   "cell_type": "markdown",
   "id": "20259c35",
   "metadata": {},
   "source": [
    "This session covers a set of methods we had parked for laters\n",
    "map\n",
    "lambda\n",
    "lapply"
   ]
  },
  {
   "cell_type": "raw",
   "id": "cf0b3d69",
   "metadata": {},
   "source": [
    "map()\n",
    "\n",
    "The purpose of this function is to perform some operation on each element of an iterable i.e. a sequence of values.\n",
    "\n",
    "Performance wise this may be better than loops\n",
    "\n",
    "map(f, S)\n",
    "\n",
    "To each element of the iterable S, the function f is applied. \n",
    "\n",
    "The result is a list whose elements are the individual function results"
   ]
  },
  {
   "cell_type": "code",
   "execution_count": 1,
   "id": "a6627438",
   "metadata": {},
   "outputs": [],
   "source": [
    "# say there is a function\n",
    "def numSq(x):\n",
    "    return x**2\n",
    "\n",
    "# and let there be a iterable \n",
    "# (lists, arrays etc are called iterables as we can iterate one element at a time)\n",
    "x = [1,2,3]"
   ]
  },
  {
   "cell_type": "code",
   "execution_count": 2,
   "id": "1a90cbb3",
   "metadata": {},
   "outputs": [
    {
     "name": "stdout",
     "output_type": "stream",
     "text": [
      "1\n",
      "4\n",
      "9\n"
     ]
    }
   ],
   "source": [
    "# when we get a complex object like this one Python does not automatically display.\n",
    "# using list() solves that problem\n",
    "m = map(numSq,x)\n",
    "for i in m:\n",
    "    print(i)"
   ]
  },
  {
   "cell_type": "code",
   "execution_count": 5,
   "id": "04704de4",
   "metadata": {},
   "outputs": [
    {
     "name": "stdout",
     "output_type": "stream",
     "text": [
      "2\n",
      "4\n",
      "6\n"
     ]
    }
   ],
   "source": [
    "def aa(v):\n",
    "    return v*2\n",
    "v = [1,2,3]\n",
    "m =map(aa,v)\n",
    "for i in m:\n",
    "    print(i)\n"
   ]
  },
  {
   "cell_type": "code",
   "execution_count": 4,
   "id": "7c1fbc2d",
   "metadata": {},
   "outputs": [
    {
     "data": {
      "text/plain": [
       "[1, 4, 9]"
      ]
     },
     "execution_count": 4,
     "metadata": {},
     "output_type": "execute_result"
    }
   ],
   "source": [
    "list(map(numSq,x))"
   ]
  },
  {
   "cell_type": "code",
   "execution_count": 5,
   "id": "8ab2bc40",
   "metadata": {},
   "outputs": [],
   "source": [
    "# this is a simple function. however, this can be ANY function."
   ]
  },
  {
   "cell_type": "code",
   "execution_count": 6,
   "id": "3fa8ac39",
   "metadata": {},
   "outputs": [
    {
     "data": {
      "text/plain": [
       "[67, 77, 87]"
      ]
     },
     "execution_count": 6,
     "metadata": {},
     "output_type": "execute_result"
    }
   ],
   "source": [
    "# one more example, say a teacher wants to award 2 marks more\n",
    "def correction(old_marks):\n",
    "    return old_marks + 2\n",
    "\n",
    "# old_marks\n",
    "old_marks = np.array([65,75,85])\n",
    "\n",
    "list(map(correction, old_marks))"
   ]
  },
  {
   "cell_type": "code",
   "execution_count": 34,
   "id": "efa9e1b4",
   "metadata": {},
   "outputs": [],
   "source": [
    "def even_odd(n):\n",
    "    if (n%2==0):\n",
    "        out = \"even\"\n",
    "    else:\n",
    "        out = \"odd\"\n",
    "    return out"
   ]
  },
  {
   "cell_type": "code",
   "execution_count": 37,
   "id": "056e96a1",
   "metadata": {},
   "outputs": [],
   "source": [
    "arr = np.array([1,2,3])"
   ]
  },
  {
   "cell_type": "code",
   "execution_count": 9,
   "id": "40e547c6",
   "metadata": {},
   "outputs": [
    {
     "data": {
      "text/plain": [
       "'odd'"
      ]
     },
     "execution_count": 9,
     "metadata": {},
     "output_type": "execute_result"
    }
   ],
   "source": [
    "even_odd(1)"
   ]
  },
  {
   "cell_type": "code",
   "execution_count": 39,
   "id": "5ad9db7e",
   "metadata": {},
   "outputs": [
    {
     "name": "stdout",
     "output_type": "stream",
     "text": [
      "odd\n",
      "even\n",
      "odd\n"
     ]
    }
   ],
   "source": [
    "import numpy as np\n",
    "for i in np.array(arr):\n",
    "    print(even_odd(i))"
   ]
  },
  {
   "cell_type": "code",
   "execution_count": 40,
   "id": "dfd96de5",
   "metadata": {},
   "outputs": [
    {
     "data": {
      "text/plain": [
       "['odd', 'even', 'odd']"
      ]
     },
     "execution_count": 40,
     "metadata": {},
     "output_type": "execute_result"
    }
   ],
   "source": [
    "arr = [1,2,3]\n",
    "list(map(even_odd,arr))"
   ]
  },
  {
   "cell_type": "markdown",
   "id": "1346f9a0",
   "metadata": {},
   "source": [
    "Filter\n",
    "\n",
    "filter(func, iterable)\n",
    "\n",
    "This is like map() with a twist\n",
    "\n",
    "filter() requires the function to return boolean values (true or false)\n",
    "It will evaluate each element of the iterable using the function, which will return T or F.\n",
    "These T or F will be used to logically subset the iterable."
   ]
  },
  {
   "cell_type": "code",
   "execution_count": 7,
   "id": "85449f9f",
   "metadata": {},
   "outputs": [],
   "source": [
    "import numpy as np\n",
    "arr = np.array([0,2,3,4,-1,6])"
   ]
  },
  {
   "cell_type": "code",
   "execution_count": 8,
   "id": "5da846d5",
   "metadata": {},
   "outputs": [
    {
     "data": {
      "text/plain": [
       "array([0, 2, 3, 4, 6])"
      ]
     },
     "execution_count": 8,
     "metadata": {},
     "output_type": "execute_result"
    }
   ],
   "source": [
    "# what is logical subset?\n",
    "arr[arr>=0]"
   ]
  },
  {
   "cell_type": "code",
   "execution_count": 13,
   "id": "a6d7da41",
   "metadata": {},
   "outputs": [
    {
     "data": {
      "text/plain": [
       "array([False,  True,  True,  True, False,  True])"
      ]
     },
     "execution_count": 13,
     "metadata": {},
     "output_type": "execute_result"
    }
   ],
   "source": [
    "arr > 0"
   ]
  },
  {
   "cell_type": "code",
   "execution_count": 14,
   "id": "f2f40def",
   "metadata": {},
   "outputs": [
    {
     "data": {
      "text/plain": [
       "array([2, 3, 4, 6])"
      ]
     },
     "execution_count": 14,
     "metadata": {},
     "output_type": "execute_result"
    }
   ],
   "source": [
    "arr[arr>0]"
   ]
  },
  {
   "cell_type": "code",
   "execution_count": 10,
   "id": "de539236",
   "metadata": {},
   "outputs": [],
   "source": [
    "def pos_filter(n):\n",
    "    return (n>=0)"
   ]
  },
  {
   "cell_type": "code",
   "execution_count": 11,
   "id": "e800f54d",
   "metadata": {},
   "outputs": [
    {
     "data": {
      "text/plain": [
       "[0, 2, 3, 4, 6]"
      ]
     },
     "execution_count": 11,
     "metadata": {},
     "output_type": "execute_result"
    }
   ],
   "source": [
    "arr = np.array([0,2,3,4,-1,6])\n",
    "list(filter(pos_filter,arr))"
   ]
  },
  {
   "cell_type": "code",
   "execution_count": 16,
   "id": "4f8f7396",
   "metadata": {},
   "outputs": [
    {
     "data": {
      "text/plain": [
       "array([0, 2, 3, 4, 6])"
      ]
     },
     "execution_count": 16,
     "metadata": {},
     "output_type": "execute_result"
    }
   ],
   "source": [
    "arr[pos_filter(arr)]"
   ]
  },
  {
   "cell_type": "code",
   "execution_count": 5,
   "id": "2dd897de",
   "metadata": {},
   "outputs": [],
   "source": [
    "def hot_not(temp):\n",
    "    if temp > 40:\n",
    "        return True\n",
    "    else:\n",
    "        return False\n",
    "\n",
    "    \n",
    "temp = [41,39,25,42]"
   ]
  },
  {
   "cell_type": "code",
   "execution_count": 6,
   "id": "de63f981",
   "metadata": {},
   "outputs": [
    {
     "data": {
      "text/plain": [
       "[True, False, False, True]"
      ]
     },
     "execution_count": 6,
     "metadata": {},
     "output_type": "execute_result"
    }
   ],
   "source": [
    "def hot_not (temp):\n",
    "    return temp>40\n",
    "list(map(hot_not,temp))"
   ]
  },
  {
   "cell_type": "code",
   "execution_count": 65,
   "id": "4a799202",
   "metadata": {},
   "outputs": [
    {
     "data": {
      "text/plain": [
       "array([41, 42])"
      ]
     },
     "execution_count": 65,
     "metadata": {},
     "output_type": "execute_result"
    }
   ],
   "source": [
    "temp_arr = np.array(temp)\n",
    "temp_arr[temp_arr>40]"
   ]
  },
  {
   "cell_type": "code",
   "execution_count": null,
   "id": "df08de1e",
   "metadata": {},
   "outputs": [],
   "source": []
  },
  {
   "cell_type": "code",
   "execution_count": 19,
   "id": "2c11a3e5",
   "metadata": {},
   "outputs": [
    {
     "data": {
      "text/plain": [
       "[True, False, False, True]"
      ]
     },
     "execution_count": 19,
     "metadata": {},
     "output_type": "execute_result"
    }
   ],
   "source": [
    "list(map(hot_not,temp))"
   ]
  },
  {
   "cell_type": "code",
   "execution_count": 20,
   "id": "b6afcfb1",
   "metadata": {},
   "outputs": [
    {
     "name": "stdout",
     "output_type": "stream",
     "text": [
      "[90, 76, 88, 81]\n"
     ]
    }
   ],
   "source": [
    "# this is an iterable\n",
    "scores = [66, 90, 68, 59, 76, 60, 88, 74, 81, 65]\n",
    "\n",
    "# this is a function\n",
    "def is_A_student(score):\n",
    "    return score > 75\n",
    "\n",
    "# filter(func, iterable) will return parts of the iterable which satisfy the func condition\n",
    "\n",
    "over_75 = list(filter(is_A_student, scores))\n",
    "\n",
    "print(over_75)"
   ]
  },
  {
   "cell_type": "code",
   "execution_count": 21,
   "id": "230704ff",
   "metadata": {},
   "outputs": [
    {
     "data": {
      "text/plain": [
       "array([90, 76, 88, 81])"
      ]
     },
     "execution_count": 21,
     "metadata": {},
     "output_type": "execute_result"
    }
   ],
   "source": [
    "scores = np.array(scores)\n",
    "scores [scores > 75]"
   ]
  },
  {
   "cell_type": "code",
   "execution_count": 22,
   "id": "a715ebc7",
   "metadata": {},
   "outputs": [
    {
     "data": {
      "text/plain": [
       "[90, 76, 88, 81]"
      ]
     },
     "execution_count": 22,
     "metadata": {},
     "output_type": "execute_result"
    }
   ],
   "source": [
    "# the same result can be achieved using a for loop also\n",
    "out = []\n",
    "for i in scores:\n",
    "    if i > 75:\n",
    "        out.append(i)\n",
    "out"
   ]
  },
  {
   "cell_type": "code",
   "execution_count": 23,
   "id": "6e750499",
   "metadata": {},
   "outputs": [
    {
     "data": {
      "text/plain": [
       "10"
      ]
     },
     "execution_count": 23,
     "metadata": {},
     "output_type": "execute_result"
    }
   ],
   "source": [
    "len(scores)"
   ]
  },
  {
   "cell_type": "code",
   "execution_count": 66,
   "id": "2c88bd67",
   "metadata": {},
   "outputs": [
    {
     "data": {
      "text/plain": [
       "array([90, 76, 88, 81])"
      ]
     },
     "execution_count": 66,
     "metadata": {},
     "output_type": "execute_result"
    }
   ],
   "source": [
    "# one more way\n",
    "import numpy as np\n",
    "arr = np.array(scores)\n",
    "arr[arr > 75]"
   ]
  },
  {
   "cell_type": "code",
   "execution_count": 67,
   "id": "a20a95a4",
   "metadata": {},
   "outputs": [
    {
     "data": {
      "text/plain": [
       "array([90, 76, 88, 81])"
      ]
     },
     "execution_count": 67,
     "metadata": {},
     "output_type": "execute_result"
    }
   ],
   "source": [
    "# subsetting is not possible directly in lists using condition\n",
    "# there are equivalents like mentioned in \n",
    "# https://stackoverflow.com/questions/9542738/python-find-in-list\n",
    "\n",
    "scores[arr > 75]"
   ]
  },
  {
   "cell_type": "code",
   "execution_count": 26,
   "id": "8818feee",
   "metadata": {},
   "outputs": [
    {
     "name": "stdout",
     "output_type": "stream",
     "text": [
      "25\n",
      "49\n"
     ]
    }
   ],
   "source": [
    "# lambda functions (anonymous functions)\n",
    "\n",
    "# It includes a single expression involving any number of parameters\n",
    "# ideal for simply creating a funcction object where one is required (and just that)\n",
    "# lambda functions always return the result of the expression so explicit return is not required\n",
    "\n",
    "def square_it(y): \n",
    "    return y*y; \n",
    "\n",
    "print(square_it(5)) \n",
    "\n",
    "g = lambda x: x*x \n",
    "print(g(7))"
   ]
  },
  {
   "cell_type": "code",
   "execution_count": 27,
   "id": "5c664fec",
   "metadata": {},
   "outputs": [
    {
     "data": {
      "text/plain": [
       "[67, 77, 87]"
      ]
     },
     "execution_count": 27,
     "metadata": {},
     "output_type": "execute_result"
    }
   ],
   "source": [
    "# can we combine map and lambda?\n",
    "# all we are doing is defining a nameless function inside map itself instead of outside\n",
    "\n",
    "list(map(lambda y: y+2, old_marks))"
   ]
  },
  {
   "cell_type": "code",
   "execution_count": 28,
   "id": "855afead",
   "metadata": {},
   "outputs": [
    {
     "data": {
      "text/plain": [
       "[41, 42]"
      ]
     },
     "execution_count": 28,
     "metadata": {},
     "output_type": "execute_result"
    }
   ],
   "source": [
    "list(filter(lambda y: y>40, temp))"
   ]
  },
  {
   "cell_type": "raw",
   "id": "9cf87316",
   "metadata": {},
   "source": [
    "apply()\n",
    "The purpose of this function is to perform some operation on each element of a pandas Series object.\n",
    "pd.Series(S).apply(f), f is the function, S is the iterable"
   ]
  },
  {
   "cell_type": "code",
   "execution_count": 29,
   "id": "222cbe05",
   "metadata": {},
   "outputs": [
    {
     "data": {
      "text/plain": [
       "0    1\n",
       "1    4\n",
       "2    9\n",
       "dtype: int64"
      ]
     },
     "execution_count": 29,
     "metadata": {},
     "output_type": "execute_result"
    }
   ],
   "source": [
    "x = [1,2,3]\n",
    "import pandas as pd\n",
    "pd.Series(x).apply(lambda num: num**2)"
   ]
  },
  {
   "cell_type": "code",
   "execution_count": 30,
   "id": "974becf9",
   "metadata": {},
   "outputs": [
    {
     "data": {
      "text/plain": [
       "0    3\n",
       "1    4\n",
       "2    5\n",
       "dtype: int64"
      ]
     },
     "execution_count": 30,
     "metadata": {},
     "output_type": "execute_result"
    }
   ],
   "source": [
    "pd.Series(x).apply(correction)"
   ]
  },
  {
   "cell_type": "code",
   "execution_count": 31,
   "id": "fed24f60",
   "metadata": {},
   "outputs": [],
   "source": [
    "# Exercise\n",
    "# create a dataframe with two numeric columns with height in cms and weight in gms\n",
    "# using this example, calculate the height in m and weight in kg"
   ]
  },
  {
   "cell_type": "code",
   "execution_count": 32,
   "id": "7ff6aca7",
   "metadata": {},
   "outputs": [
    {
     "data": {
      "text/plain": [
       "4"
      ]
     },
     "execution_count": 32,
     "metadata": {},
     "output_type": "execute_result"
    }
   ],
   "source": [
    "y = lambda x: x*x \n",
    "y(2)"
   ]
  },
  {
   "cell_type": "code",
   "execution_count": 33,
   "id": "79a08e4f",
   "metadata": {},
   "outputs": [
    {
     "data": {
      "text/plain": [
       "0    1\n",
       "1    4\n",
       "2    9\n",
       "dtype: int64"
      ]
     },
     "execution_count": 33,
     "metadata": {},
     "output_type": "execute_result"
    }
   ],
   "source": [
    "x = [1,2,3]\n",
    "import pandas as pd\n",
    "pd.Series(x)**2"
   ]
  },
  {
   "cell_type": "code",
   "execution_count": null,
   "id": "7d99d592",
   "metadata": {},
   "outputs": [],
   "source": []
  },
  {
   "cell_type": "code",
   "execution_count": 23,
   "id": "1522cd60",
   "metadata": {},
   "outputs": [
    {
     "name": "stdout",
     "output_type": "stream",
     "text": [
      "p\n",
      "r\n",
      "a\n",
      "v\n",
      "e\n",
      "e\n",
      "e\n",
      "e\n",
      "n\n"
     ]
    }
   ],
   "source": [
    "prav =\"praveen\"\n",
    "for p in prav:\n",
    "   \n",
    "       "
   ]
  }
 ],
 "metadata": {
  "kernelspec": {
   "display_name": "Python 3 (ipykernel)",
   "language": "python",
   "name": "python3"
  },
  "language_info": {
   "codemirror_mode": {
    "name": "ipython",
    "version": 3
   },
   "file_extension": ".py",
   "mimetype": "text/x-python",
   "name": "python",
   "nbconvert_exporter": "python",
   "pygments_lexer": "ipython3",
   "version": "3.8.18"
  }
 },
 "nbformat": 4,
 "nbformat_minor": 5
}
