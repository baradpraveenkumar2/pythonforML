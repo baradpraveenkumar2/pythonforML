{
 "cells": [
  {
   "cell_type": "code",
   "execution_count": 1,
   "metadata": {},
   "outputs": [
    {
     "name": "stdout",
     "output_type": "stream",
     "text": [
      "[2, 3, 4, 5, 6]\n"
     ]
    }
   ],
   "source": [
    "fstlist = [2,3,4,5,6]\n",
    "print(fstlist)"
   ]
  },
  {
   "cell_type": "code",
   "execution_count": 9,
   "metadata": {},
   "outputs": [
    {
     "name": "stdout",
     "output_type": "stream",
     "text": [
      "different list:([2, 3, 4, 5, 6], [5, 6, 7, 8, 'praveen'])\n",
      "in single list[2, 3, 4, 5, 6, 5, 6, 7, 8, 'praveen']\n"
     ]
    }
   ],
   "source": [
    "fstlist\n",
    "sstlist = [5,6,7,8,'praveen']\n",
    "print(f\"different list:{fstlist, sstlist}\")\n",
    "add = fstlist + sstlist\n",
    "print(f\"in single list{add}\")"
   ]
  },
  {
   "cell_type": "code",
   "execution_count": 11,
   "metadata": {},
   "outputs": [
    {
     "name": "stdout",
     "output_type": "stream",
     "text": [
      "different list: ([5, 6, 9], [5, 6, 7, 8, 'praveen'])\n",
      "fstlist without common values: [9, 5, 6, 7, 8, 'praveen']\n"
     ]
    }
   ],
   "source": [
    "fstlist = [5, 6, 9]\n",
    "sstlist = [5, 6, 7, 8, 'praveen']\n",
    "\n",
    "print(f\"different list: {fstlist, sstlist}\")\n",
    "fstlist_no_common = list(set(fstlist) - set(sstlist))\n",
    "print(f\"fstlist without common values: {fstlist_no_common + sstlist}\")\n"
   ]
  },
  {
   "cell_type": "code",
   "execution_count": 20,
   "metadata": {},
   "outputs": [
    {
     "name": "stdout",
     "output_type": "stream",
     "text": [
      "[2, 3, 4, 5, 6, 7, 5, 6, 7, 8, 9, 0]\n",
      "[2, 3, 4, 5, 6, 7, 8, 9, 0]\n"
     ]
    }
   ],
   "source": [
    "lst2 = [2,3,4,5,6,7]\n",
    "lst3 =[5,6,7,8,9,0]\n",
    "print(lst2 + lst3)\n",
    "lst2 = list(set(lst2) - set(lst3))\n",
    "print(lst2 + lst3)\n"
   ]
  },
  {
   "cell_type": "code",
   "execution_count": 23,
   "metadata": {},
   "outputs": [
    {
     "data": {
      "text/plain": [
       "list"
      ]
     },
     "execution_count": 23,
     "metadata": {},
     "output_type": "execute_result"
    }
   ],
   "source": [
    "lst4 = [4,5,6,7,8]\n",
    "type(lst4)\n",
    "lst5 = [6,7,7,9,'praveen','naveen']\n",
    "type(lst5)"
   ]
  },
  {
   "cell_type": "code",
   "execution_count": 74,
   "metadata": {},
   "outputs": [
    {
     "name": "stdout",
     "output_type": "stream",
     "text": [
      "9 praveen\n"
     ]
    }
   ],
   "source": [
    "\n",
    "lst5 = [6,7,7,9,'praveen','naveen']\n",
    "type(lst5)\n",
    "\n",
    "print(lst5[3],lst5[4])"
   ]
  },
  {
   "cell_type": "code",
   "execution_count": 41,
   "metadata": {},
   "outputs": [
    {
     "name": "stdout",
     "output_type": "stream",
     "text": [
      "9\n",
      "9\n",
      "9\n",
      "9\n",
      "9\n",
      "9\n",
      "9\n",
      "9\n",
      "9\n"
     ]
    }
   ],
   "source": [
    "lst6 = [1,2,3,4,5,6,7,8,9]\n",
    "lengths = len(lst6)\n",
    "for i in lst6:\n",
    "    if (lengths>=0):\n",
    "        print(lst6[lengths-1])\n",
    "    lengths -= 1\n",
    "        \n"
   ]
  },
  {
   "cell_type": "code",
   "execution_count": 36,
   "metadata": {},
   "outputs": [
    {
     "name": "stdout",
     "output_type": "stream",
     "text": [
      "barad\n",
      "kumar\n",
      "praveen\n"
     ]
    }
   ],
   "source": [
    "lst6 = ['praveen','kumar','barad']\n",
    "lengths = len(lst6)\n",
    "for i in lst6:\n",
    "    if (lengths>=0):\n",
    "        print(lst6[lengths-1])\n",
    "    lengths -= 1"
   ]
  },
  {
   "cell_type": "code",
   "execution_count": 45,
   "metadata": {},
   "outputs": [
    {
     "name": "stdout",
     "output_type": "stream",
     "text": [
      "praveen"
     ]
    }
   ],
   "source": [
    "name = ['p','r','a','v','e','e','n']\n",
    "for  i in name:\n",
    "    print(i, end=\"\")"
   ]
  },
  {
   "cell_type": "code",
   "execution_count": 47,
   "metadata": {},
   "outputs": [
    {
     "name": "stdout",
     "output_type": "stream",
     "text": [
      "neevarp"
     ]
    }
   ],
   "source": [
    "name = ['p','r','a','v','e','e','n']\n",
    "nlength = len(name)\n",
    "for i in name:\n",
    "    if(nlength>=0):\n",
    "        print(name[nlength-1],end=\"\")\n",
    "        nlength -=1\n",
    "\n",
    "        \n",
    "        "
   ]
  },
  {
   "cell_type": "code",
   "execution_count": 54,
   "metadata": {},
   "outputs": [
    {
     "name": "stdout",
     "output_type": "stream",
     "text": [
      "neevarp"
     ]
    }
   ],
   "source": [
    "name = ['p','r','a','v','e','e','n']\n",
    "idx = -1\n",
    "for i in name:\n",
    "    print(name[idx],end=\"\")\n",
    "    idx -=1\n"
   ]
  },
  {
   "cell_type": "markdown",
   "metadata": {},
   "source": [
    "list slices only gng left to right"
   ]
  },
  {
   "cell_type": "code",
   "execution_count": 59,
   "metadata": {},
   "outputs": [
    {
     "name": "stdout",
     "output_type": "stream",
     "text": [
      "['p', 'r', 'a', 'v', 'e', 'e', 'n']\n",
      "['e', 'n']\n",
      "['v', 'e', 'e']\n"
     ]
    }
   ],
   "source": [
    "\n",
    "name = ['p','r','a','v','e','e','n']\n",
    "print(name[0:9])\n",
    "print(name[5:9])\n",
    "print(name[-4:-1])"
   ]
  },
  {
   "cell_type": "code",
   "execution_count": 66,
   "metadata": {},
   "outputs": [
    {
     "name": "stdout",
     "output_type": "stream",
     "text": [
      "without change :['praveen', 'kumar', 'barad', 'hsrlayout', 'bengaluru']\n",
      "with change:['praveen', 'kumar']\n"
     ]
    }
   ],
   "source": [
    "\n",
    "firstanme = ['praveen']\n",
    "middlename = ['kumar']\n",
    "lastname =['barad']\n",
    "area = ['hsrlayout']\n",
    "city = ['bengaluru']\n",
    "address = firstanme+middlename+lastname+area+city\n",
    "print(f\"without change :{address}\")\n",
    "print(f\"with change:{address[0:2]}\")\n",
    "\n"
   ]
  },
  {
   "cell_type": "code",
   "execution_count": 70,
   "metadata": {},
   "outputs": [
    {
     "name": "stdout",
     "output_type": "stream",
     "text": [
      "without change :['praveen', 'kumar', 'barad', 'hsrlayout', 'bengaluru']\n",
      "with change:['praveen', 'kumar']\n",
      "after deleting:['praveen', 'barad', 'hsrlayout', 'bengaluru']\n",
      "after deleting:['hsrlayout', 'bengaluru']\n"
     ]
    }
   ],
   "source": [
    "# remove element using del\n",
    "firstanme = ['praveen']\n",
    "middlename = ['kumar']\n",
    "lastname =['barad']\n",
    "area = ['hsrlayout']\n",
    "city = ['bengaluru']\n",
    "address = firstanme+middlename+lastname+area+city\n",
    "print(f\"without change :{address}\")\n",
    "print(f\"with change:{address[0:2]}\")\n",
    "del(address[1])\n",
    "print(f\"after deleting:{address}\")\n",
    "del(address[0:2])\n",
    "print(f\"after deleting:{address}\")\n",
    "\n"
   ]
  },
  {
   "cell_type": "markdown",
   "metadata": {},
   "source": [
    "simple concate"
   ]
  },
  {
   "cell_type": "code",
   "execution_count": 80,
   "metadata": {},
   "outputs": [
    {
     "name": "stdout",
     "output_type": "stream",
     "text": [
      "['praveen', 'kumar', 'bengalru', 'hsr']\n",
      "['bengalru', 'hsr', 'praveen', 'kumar', 'bengalru', 'hsr']\n"
     ]
    }
   ],
   "source": [
    "myname = ['praveen','kumar']+['bengalru','hsr']\n",
    "a = ['bengalru','hsr']+ myname\n",
    "\n",
    "print(myname)\n",
    "print(a)"
   ]
  },
  {
   "cell_type": "markdown",
   "metadata": {},
   "source": [
    "add value specific index\n"
   ]
  },
  {
   "cell_type": "code",
   "execution_count": 77,
   "metadata": {},
   "outputs": [
    {
     "name": "stdout",
     "output_type": "stream",
     "text": [
      "['praveen', 'kumar', 'hyderabad']\n",
      "['bengalru', 20, 'hsr']\n"
     ]
    }
   ],
   "source": [
    "myname = ['praveen','kumar']\n",
    "address = ['bengalru','hsr']\n",
    "myname.insert(2,'hyderabad')\n",
    "address.insert(1,20)\n",
    "\n",
    "print(myname)\n",
    "print(address)"
   ]
  },
  {
   "cell_type": "code",
   "execution_count": 82,
   "metadata": {},
   "outputs": [
    {
     "name": "stdout",
     "output_type": "stream",
     "text": [
      "contains['p', 'r', 'a', 'v', 'e', 'e', 'n']\n",
      "contains['praveen', 'kumar barad']\n"
     ]
    }
   ],
   "source": [
    "myname = ['praveen','kumar']\n",
    "address = ['bengalru','hsr']\n",
    "full = list(myname)\n",
    "full[1] = 'kumar barad'\n",
    "print('contains' + str(list(name)))\n",
    "print('contains' + str(list(full)))"
   ]
  },
  {
   "cell_type": "code",
   "execution_count": 85,
   "metadata": {},
   "outputs": [
    {
     "name": "stdout",
     "output_type": "stream",
     "text": [
      "praveen\n"
     ]
    }
   ],
   "source": [
    "address[1] = myname\n",
    "\n",
    "address\n",
    "print(address[1][0])"
   ]
  },
  {
   "cell_type": "code",
   "execution_count": 88,
   "metadata": {},
   "outputs": [
    {
     "name": "stdout",
     "output_type": "stream",
     "text": [
      "find praveeen\n",
      "barad\n",
      "hsr\n",
      "praveen\n",
      "kumar\n",
      "bengalru\n",
      "india\n"
     ]
    }
   ],
   "source": [
    "finds = ['barad', 'hsr', 'praveen', 'kumar', 'bengalru', 'india']\n",
    "if \"praveen\" in finds:\n",
    "    print(\"find praveeen\")\n",
    "for items in finds:\n",
    "    print(items)\n",
    "\n",
    "\n",
    "    \n",
    "\n"
   ]
  },
  {
   "cell_type": "code",
   "execution_count": 91,
   "metadata": {},
   "outputs": [
    {
     "name": "stdout",
     "output_type": "stream",
     "text": [
      "true\n",
      "barad\n",
      "hsr\n",
      "praveen\n",
      "kumar\n",
      "bengalru\n",
      "india\n",
      "Found Items:  ['barad', 'hsr', 'praveen', 'kumar', 'bengalru', 'india']\n"
     ]
    }
   ],
   "source": [
    "finds = ['barad', 'hsr', 'praveen', 'kumar', 'bengalru', 'india']\n",
    "if \"praveen\" in finds:\n",
    "    print(\"true\")\n",
    "found_items = []\n",
    "for item in finds:\n",
    "    print(item)\n",
    "    found_items.append(item)  # Append each item to the 'found_items' list\n",
    "\n",
    "print(\"Found Items: \", found_items)"
   ]
  },
  {
   "cell_type": "code",
   "execution_count": 19,
   "metadata": {},
   "outputs": [
    {
     "name": "stdout",
     "output_type": "stream",
     "text": [
      "Original nums: [1, 3, 2, 4, 6, 0]\n",
      "Sorted Copy: [0, 1, 2, 3, 4, 6]\n"
     ]
    }
   ],
   "source": [
    "nums = [1, 3, 2, 4, 6, 0]\n",
    "a = [s for s in nums]\n",
    "a.sort()\n",
    "print(\"Original nums:\", nums)\n",
    "print(\"Sorted Copy:\", a)\n",
    "\n",
    "  "
   ]
  },
  {
   "cell_type": "code",
   "execution_count": 38,
   "metadata": {},
   "outputs": [
    {
     "name": "stdout",
     "output_type": "stream",
     "text": [
      "Original nums: ['a', 'z', 's', 'b', 'c']\n",
      "Sorted Copy: ['a', 'b', 'c', 's', 'z']\n"
     ]
    }
   ],
   "source": [
    "nums = ['a','z','s','b','c']\n",
    "a = [s for s in nums]\n",
    "a.sort()\n",
    "print(\"Original nums:\", nums)\n",
    "print(\"Sorted Copy:\", a)"
   ]
  },
  {
   "cell_type": "code",
   "execution_count": 26,
   "metadata": {},
   "outputs": [
    {
     "name": "stdout",
     "output_type": "stream",
     "text": [
      "True\n",
      "-----\n",
      "False\n",
      "------\n",
      "False\n"
     ]
    }
   ],
   "source": [
    "Fullname = ['praveen','kumar']\n",
    "praveenname = ['praveen','kumar']\n",
    "print(Fullname == praveenname)\n",
    "print('-----')\n",
    "#case sensitive also mandatory\n",
    "Fullname = ['praveen','kumar']\n",
    "praveenname = ['Praveen','kumar']\n",
    "print(Fullname == praveenname)\n",
    "print('------')\n",
    "#position change is also mandatory\n",
    "Fullname = ['praveen','kumar']\n",
    "praveenname = ['kumar', 'praveen']\n",
    "print(Fullname == praveenname)"
   ]
  },
  {
   "cell_type": "code",
   "execution_count": 32,
   "metadata": {},
   "outputs": [
    {
     "name": "stdout",
     "output_type": "stream",
     "text": [
      "{'kumar', 'I', 'am', 'hyderabad.', 'from', 'praveen'}\n",
      "{'kumar', 'barad', 'praxis.', 'studying', 'in', 'praveen'}\n",
      "['kumar', 'I', 'barad', 'am', 'praxis.', 'studying', 'hyderabad.', 'in', 'from', 'praveen']\n"
     ]
    }
   ],
   "source": [
    "sent1 = \" I am praveen kumar am from hyderabad.\"\n",
    "sent2 = \"praveen kumar barad studying in praxis.\"\n",
    "\n",
    "splitedsent1 = set(sent1.split())\n",
    "print(splitedsent1)\n",
    "splitedsent2 = set(sent2.split())\n",
    "print(splitedsent2)\n",
    "ab = list(splitedsent2|splitedsent1)\n",
    "print(ab)"
   ]
  },
  {
   "cell_type": "code",
   "execution_count": 35,
   "metadata": {},
   "outputs": [
    {
     "name": "stdout",
     "output_type": "stream",
     "text": [
      "split words in txt1: {'fghfdg', 'fghfg'}\n",
      "split words in txt2: {'sdgsdfvg', 'fsdfgs'}\n"
     ]
    }
   ],
   "source": [
    "def splittingwords(txt):\n",
    "    return set(txt.split())\n",
    "\n",
    "txt1 = input(\"Enter the first text: \")\n",
    "set1 = splittingwords(txt1)\n",
    "print(\"split words in txt1:\", set1)\n",
    "\n",
    "txt2 = input(\"Enter the second text: \")\n",
    "set2 = splittingwords(txt2)\n",
    "print(\"split words in txt2:\", set2)"
   ]
  },
  {
   "cell_type": "code",
   "execution_count": 41,
   "metadata": {},
   "outputs": [
    {
     "name": "stdout",
     "output_type": "stream",
     "text": [
      "List of Countries:\n",
      "Australia\n",
      "Brazil\n",
      "Canada\n",
      "Denmark\n",
      "Egypt\n"
     ]
    }
   ],
   "source": [
    "countries = ['Australia', 'Brazil', 'Canada', 'Denmark', 'Egypt']\n",
    "\n",
    "print(\"List of Countries:\")\n",
    "for country in countries:\n",
    "    print(country)"
   ]
  },
  {
   "cell_type": "code",
   "execution_count": 42,
   "metadata": {},
   "outputs": [
    {
     "name": "stdout",
     "output_type": "stream",
     "text": [
      "1 54\n"
     ]
    }
   ],
   "source": [
    "numbers = [3,1,3,4,5,5,7,8,54,5,6]\n",
    "\n",
    "min = numbers[0]\n",
    "max = numbers[0]\n",
    "\n",
    "for i in range(len(numbers)):\n",
    "    if numbers[i] > max :\n",
    "        max = numbers[i]\n",
    "    elif numbers[i] < min:\n",
    "        min = numbers[i]\n",
    "       \n",
    "print(min,max)\n"
   ]
  }
 ],
 "metadata": {
  "kernelspec": {
   "display_name": "DMP",
   "language": "python",
   "name": "python3"
  },
  "language_info": {
   "codemirror_mode": {
    "name": "ipython",
    "version": 3
   },
   "file_extension": ".py",
   "mimetype": "text/x-python",
   "name": "python",
   "nbconvert_exporter": "python",
   "pygments_lexer": "ipython3",
   "version": "3.8.18"
  }
 },
 "nbformat": 4,
 "nbformat_minor": 2
}
