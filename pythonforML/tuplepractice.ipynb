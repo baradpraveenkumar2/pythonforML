{
 "cells": [
  {
   "cell_type": "code",
   "execution_count": 1,
   "metadata": {},
   "outputs": [
    {
     "data": {
      "text/plain": [
       "str"
      ]
     },
     "execution_count": 1,
     "metadata": {},
     "output_type": "execute_result"
    }
   ],
   "source": [
    "tup = ()\n",
    "tups = (\"\")\n",
    "type(tup)\n",
    "type(tups)"
   ]
  },
  {
   "cell_type": "code",
   "execution_count": 2,
   "metadata": {},
   "outputs": [
    {
     "name": "stdout",
     "output_type": "stream",
     "text": [
      "()\n"
     ]
    }
   ],
   "source": [
    "tup1 = tuple(['a',1,'b',2])\n",
    "print(tup)"
   ]
  },
  {
   "cell_type": "code",
   "execution_count": 79,
   "metadata": {},
   "outputs": [
    {
     "name": "stdout",
     "output_type": "stream",
     "text": [
      "((0, 1), ('age', 'height'))\n",
      "(0, 1)\n",
      "age\n"
     ]
    }
   ],
   "source": [
    "a = ((0, 1), ('age', 'height'))\n",
    "print(a)\n",
    "print(a[0])\n",
    "print(a[1][0])"
   ]
  },
  {
   "cell_type": "code",
   "execution_count": 65,
   "metadata": {},
   "outputs": [
    {
     "name": "stdout",
     "output_type": "stream",
     "text": [
      "True\n",
      "True\n",
      "False\n",
      "False\n"
     ]
    }
   ],
   "source": [
    "t = ('T', 'u', 't', 'o', 'r', ' ', 'J', 'o', 'e', 's',8)\n",
    "print('t' in t)\n",
    "print(8 in t)\n",
    "print('x' in t)\n",
    "print(2 in t)"
   ]
  },
  {
   "cell_type": "code",
   "execution_count": 71,
   "metadata": {},
   "outputs": [
    {
     "name": "stdout",
     "output_type": "stream",
     "text": [
      "[(10, 60, 20), (30, 90, 50)]\n"
     ]
    }
   ],
   "source": [
    "l = [(10,30), (60,90), (20,50)]\n",
    "print(list(zip(*l)))"
   ]
  },
  {
   "cell_type": "code",
   "execution_count": 95,
   "metadata": {},
   "outputs": [
    {
     "name": "stdout",
     "output_type": "stream",
     "text": [
      "True\n",
      "False\n"
     ]
    }
   ],
   "source": [
    "a= (1,2,3) \n",
    "b= (2,2,3)\n",
    "print(a<b)\n",
    "a= (5,2,3) \n",
    "b= (2,2,3)\n",
    "print(a<b)\n"
   ]
  },
  {
   "cell_type": "code",
   "execution_count": 87,
   "metadata": {},
   "outputs": [
    {
     "name": "stdout",
     "output_type": "stream",
     "text": [
      "Dictionary: {'gmailmails': 10, 'sms': 20, 'phonecalls': 30}\n"
     ]
    }
   ],
   "source": [
    "data = [(\"gmailmails\", 10), (\"sms\", 20), (\"phonecalls\", 30)]\n",
    "dictionary = {key: value for key, value in data}\n",
    "print(\"Dictionary:\", dictionary)"
   ]
  },
  {
   "cell_type": "code",
   "execution_count": 67,
   "metadata": {},
   "outputs": [
    {
     "name": "stdout",
     "output_type": "stream",
     "text": [
      "Original : (23, 45, 56, 68, 10, 45, 7, 9)\n",
      "After Removing  : (23, 45, 68, 10, 45, 7, 9)\n",
      "<class 'tuple'>\n"
     ]
    }
   ],
   "source": [
    "rajeshmarks = (23,45,56,68,10,45,7,9)\n",
    "print(\"Original :\",rajeshmarks)\n",
    "b = list(rajeshmarks)\n",
    "b.remove(56)\n",
    "rajesh2 = tuple(b)\n",
    "print(\"After Removing  :\",rajesh2)\n",
    "print(type(rajesh2))"
   ]
  },
  {
   "cell_type": "code",
   "execution_count": 89,
   "metadata": {},
   "outputs": [
    {
     "name": "stdout",
     "output_type": "stream",
     "text": [
      "Randomtuple of Integers: [(8, 4), (5, 3), (2, 7), (7, 2), (8, 1)]\n"
     ]
    }
   ],
   "source": [
    "import random\n",
    "\n",
    "numbers = [i for i in range(10)]\n",
    "randomtuples = [(random.choice(numbers), random.choice(numbers)) for _ in range(5)]\n",
    "print(\"Randomtuple of Integers:\", randomtuples)"
   ]
  },
  {
   "cell_type": "code",
   "execution_count": 64,
   "metadata": {},
   "outputs": [
    {
     "name": "stdout",
     "output_type": "stream",
     "text": [
      "('w', 3, 'r', 'e', 's', 'o', 'u', 'r', 'c', 'e')\n",
      "4th Elements From Tuple : e\n",
      "4th Elements From Last Tuple : u\n"
     ]
    }
   ],
   "source": [
    "t = (\"w\", 3, \"r\", \"e\", \"s\", \"o\", \"u\", \"r\", \"c\", \"e\")\n",
    "print(t)\n",
    "\n",
    "i = t[3]\n",
    "print(\"4th Elements From Tuple :\",i)\n",
    "\n",
    "j = t[-4]\n",
    "print(\"4th Elements From Last Tuple :\",j)"
   ]
  },
  {
   "cell_type": "code",
   "execution_count": 55,
   "metadata": {},
   "outputs": [
    {
     "name": "stdout",
     "output_type": "stream",
     "text": [
      "The tuple contains the element: 3\n"
     ]
    }
   ],
   "source": [
    "my_tuple = (1, 2, 3, 4, 5)\n",
    "target_element = 3\n",
    "if target_element in my_tuple:\n",
    "    print(f\"The tuple contains the element: {target_element}\")\n",
    "else:\n",
    "    print(f\"The tuple does not contain the element: {target_element}\")"
   ]
  },
  {
   "cell_type": "code",
   "execution_count": 56,
   "metadata": {},
   "outputs": [
    {
     "name": "stdout",
     "output_type": "stream",
     "text": [
      "List converted to tuple: (1, 2, 3, 4, 5)\n"
     ]
    }
   ],
   "source": [
    "my_list = [1, 2, 3, 4, 5]\n",
    "tuple_result = tuple(my_list)\n",
    "print(\"List converted to tuple:\", tuple_result)"
   ]
  },
  {
   "cell_type": "code",
   "execution_count": 26,
   "metadata": {},
   "outputs": [
    {
     "name": "stdout",
     "output_type": "stream",
     "text": [
      "2\n"
     ]
    }
   ],
   "source": [
    "\n",
    "tupx = (1, 7, 3, 4)\n",
    "for index, value in enumerate(tupx):\n",
    "    if value == 3:\n",
    "        s = index\n",
    "print(s)\n"
   ]
  },
  {
   "cell_type": "code",
   "execution_count": 33,
   "metadata": {},
   "outputs": [
    {
     "name": "stdout",
     "output_type": "stream",
     "text": [
      "indexes of 1 is 0\n",
      "indexes of 7 is 1\n",
      "index of 3 is 2\n",
      "indexes of 4 is 3\n"
     ]
    }
   ],
   "source": [
    "\n",
    "tupx = (1, 7, 3, 4)\n",
    "for i in tupx:\n",
    "    if(i == 3):\n",
    "        insx = tupx.index(i)\n",
    "        print(f\"index of 3 is {insx}\")\n",
    "    else:\n",
    "        insx = tupx.index(i)\n",
    "        print(f\"indexes of {i} is {insx}\")"
   ]
  },
  {
   "cell_type": "code",
   "execution_count": 46,
   "metadata": {},
   "outputs": [
    {
     "data": {
      "text/plain": [
       "(1, '8', 3, 4)"
      ]
     },
     "execution_count": 46,
     "metadata": {},
     "output_type": "execute_result"
    }
   ],
   "source": [
    "input1= int(input())\n",
    "input2= tuple(input())\n",
    "length = len(tupx)\n",
    "tupx = (1, 7, 3, 4)\n",
    "for i in tupx:\n",
    "    \n",
    "    if(i == input1):\n",
    "        insx = tupx.index(i)\n",
    "        last = tupx[insx+1:length] \n",
    "        first = tupx[0 :insx]\n",
    "\n",
    "tuple(first + input2 + last)\n",
    "\n",
    "\n",
    "\n",
    "\n",
    "\n",
    "\n",
    "    "
   ]
  },
  {
   "cell_type": "code",
   "execution_count": 47,
   "metadata": {},
   "outputs": [
    {
     "name": "stdout",
     "output_type": "stream",
     "text": [
      "Sum of tuple elements: 20\n"
     ]
    }
   ],
   "source": [
    "numberstuple = (2, 4, 6, 8)\n",
    "totalsum = 0\n",
    "for number in numberstuple:\n",
    "    totalsum += number\n",
    "print(\"Sum of tuple elements:\", totalsum)"
   ]
  },
  {
   "cell_type": "code",
   "execution_count": 48,
   "metadata": {},
   "outputs": [
    {
     "name": "stdout",
     "output_type": "stream",
     "text": [
      "Sum of tuple elements: -6\n"
     ]
    }
   ],
   "source": [
    "firsttup = (2, 4, 6, 8)\n",
    "sndtup = (5,6,7,8)\n",
    "totalsum1 = 0\n",
    "totalsum2 = 0\n",
    "for number in firsttup:\n",
    "    totalsum1 += number\n",
    "for nums in sndtup:\n",
    "    totalsum2 += nums\n",
    "print(\"diff both tuple elements:\", totalsum1-totalsum2)"
   ]
  },
  {
   "cell_type": "code",
   "execution_count": 49,
   "metadata": {},
   "outputs": [
    {
     "name": "stdout",
     "output_type": "stream",
     "text": [
      "Maximum value in the tuple: 8\n"
     ]
    }
   ],
   "source": [
    "numbers_tuple = (2, 5, 1, 8, 3)\n",
    "max_value = max(numbers_tuple)\n",
    "print(\"Maximum value in the tuple:\", max_value)"
   ]
  },
  {
   "cell_type": "code",
   "execution_count": 51,
   "metadata": {},
   "outputs": [
    {
     "name": "stdout",
     "output_type": "stream",
     "text": [
      "Element counts in the tuple: {2: 3, 4: 2, 1: 1, 3: 1, 5: 1}\n"
     ]
    }
   ],
   "source": [
    "frequency_tuple = (2, 4, 1, 2, 3, 4, 5, 2)\n",
    "element_count = {}\n",
    "for element in frequency_tuple:\n",
    "    if element in element_count:\n",
    "        element_count[element] += 1\n",
    "    else:\n",
    "        element_count[element] = 1\n",
    "print(\"Element counts in the tuple:\", element_count)"
   ]
  },
  {
   "cell_type": "code",
   "execution_count": 53,
   "metadata": {},
   "outputs": [
    {
     "name": "stdout",
     "output_type": "stream",
     "text": [
      "Sorted tuple: (1, 2, 5, 8, 9)\n"
     ]
    }
   ],
   "source": [
    "unsortedtuple = (5, 2, 8, 1, 9)\n",
    "sortedtuple = tuple(sorted(unsortedtuple))\n",
    "print(\"Sorted tuple:\", sortedtuple)"
   ]
  },
  {
   "cell_type": "code",
   "execution_count": 54,
   "metadata": {},
   "outputs": [
    {
     "name": "stdout",
     "output_type": "stream",
     "text": [
      "Average of the tuple elements: 6.0\n"
     ]
    }
   ],
   "source": [
    "numtuple = (2, 4, 6, 8, 10)\n",
    "totalsum = sum(numtuple)\n",
    "average = totalsum / len(numtuple)\n",
    "print(\"Average of the tuple elements:\", average)"
   ]
  },
  {
   "cell_type": "code",
   "execution_count": 90,
   "metadata": {},
   "outputs": [
    {
     "name": "stdout",
     "output_type": "stream",
     "text": [
      "Original Sentence: praveen from hyderabad.\n",
      "Words in Sentence: ('praveen', 'from', 'hyderabad.')\n"
     ]
    }
   ],
   "source": [
    "sentence = \"praveen from hyderabad.\"\n",
    "words = sentence.split()\n",
    "tuple_of_words = tuple(words)\n",
    "print(\"Original Sentence:\", sentence)\n",
    "print(\"Words in Sentence:\", tuple_of_words)"
   ]
  },
  {
   "cell_type": "code",
   "execution_count": 62,
   "metadata": {},
   "outputs": [
    {
     "name": "stdout",
     "output_type": "stream",
     "text": [
      "Swapped tuple: (2, 1)\n",
      "Swapped of swapped tuple: (1, 2)\n"
     ]
    }
   ],
   "source": [
    "my_tuple = (1, 2, 3, 4)\n",
    "element2, element1 = my_tuple[0], my_tuple[1]\n",
    "swapped_tuple = (element1, element2)\n",
    "print(\"Swapped tuple:\", swapped_tuple)\n",
    "element1, element2 =element2, element1\n",
    "swapped_tuple = (element1, element2)\n",
    "print(\"Swapped of swapped tuple:\", swapped_tuple)"
   ]
  },
  {
   "cell_type": "code",
   "execution_count": 63,
   "metadata": {},
   "outputs": [
    {
     "name": "stdout",
     "output_type": "stream",
     "text": [
      "Tuple with unique elements: (1, 2, 3, 4, 5)\n"
     ]
    }
   ],
   "source": [
    "my_tuple = (1, 2, 3, 2, 1, 4, 2, 5, 1)\n",
    "unique_tuple = tuple(set(my_tuple))\n",
    "print(\"Tuple with unique elements:\", unique_tuple)"
   ]
  },
  {
   "cell_type": "code",
   "execution_count": 77,
   "metadata": {},
   "outputs": [
    {
     "name": "stdout",
     "output_type": "stream",
     "text": [
      "Max\n",
      "28\n",
      "New York\n",
      "0\n",
      "[1, 2, 3]\n",
      "4\n",
      "5\n"
     ]
    }
   ],
   "source": [
    "\n",
    "tuple_1 = (\"Max\", 28, \"New York\")\n",
    "name, age, city = tuple_1\n",
    "print(name)\n",
    "print(age)\n",
    "print(city)\n",
    "\n",
    "my_tuple = (0, 1, 2, 3, 4, 5)\n",
    "item_first, *items_between,last_snd,last = my_tuple\n",
    "print(item_first)\n",
    "print(items_between)\n",
    "print(last_snd)\n",
    "print(last)\n",
    "\n"
   ]
  },
  {
   "cell_type": "code",
   "execution_count": 82,
   "metadata": {},
   "outputs": [
    {
     "name": "stdout",
     "output_type": "stream",
     "text": [
      "intially\n",
      "1stTuple ('1', '2', '3', '4', '5')\n",
      "2nd Tuple ('6', '7', '8', '9', '0')\n",
      "shifted\n",
      "1st Tuple ('6', '7', '8', '9', '0')\n",
      "2nd Tuple ('1', '2', '3', '4', '5')\n"
     ]
    }
   ],
   "source": [
    "fst1=tuple()\n",
    "n=int(input(\"Total number of values in first tuple\"))\n",
    "for i in range(n):\n",
    "    a=input(\"enter elements\")\n",
    "    fst1=fst1+(a,)\n",
    "fst2=tuple()\n",
    "m=int(input(\"Total number of values in second tuple\"))\n",
    "for i in range(m):\n",
    "    a=input(\"enter elements\")\n",
    "    fst2=fst2+(a,)\n",
    "print (\"intially\")\n",
    "print (\"1stTuple\",fst1)\n",
    "print (\"2nd Tuple\",fst2)\n",
    "fst1,fst2=fst2,fst1\n",
    "print (\"shifted\")\n",
    "print (\"1st Tuple\",fst1)\n",
    "print (\"2nd Tuple\",fst2)\n"
   ]
  },
  {
   "cell_type": "code",
   "execution_count": 83,
   "metadata": {},
   "outputs": [
    {
     "name": "stdout",
     "output_type": "stream",
     "text": [
      "Enter the Marks for student  1\n",
      "Enter the Marks for student  2\n",
      "Enter the Marks for student  3\n",
      "Enter the Marks for student  4\n",
      "Enter the Marks for student  5\n",
      "((99, 98, 97), (98, 98, 97), (99, 98, 97), (99, 98, 97), (99, 98, 97))\n"
     ]
    }
   ],
   "source": [
    "tup= ()\n",
    "for a in range(1,6):\n",
    "    print(\"Enter the Marks for student \",a)\n",
    "    sub1= int(input(\"Enter Marks for Sub 1 : \"))\n",
    "    sub2= int(input(\"Enter Marks for Sub 2 : \"))\n",
    "    sub3= int(input(\"Enter Marks for Sub 3 : \"))\n",
    "    tup += ( (sub1,sub2,sub3 ),)\n",
    "print(tup)"
   ]
  },
  {
   "cell_type": "code",
   "execution_count": 84,
   "metadata": {},
   "outputs": [
    {
     "name": "stdout",
     "output_type": "stream",
     "text": [
      "Enter details for student 1:\n",
      "Tuple of dictionaries: ({'Name': 'praveen', 'Roll No': '123', 'Marks': (99, 99, 99)},)\n"
     ]
    }
   ],
   "source": [
    "students = []\n",
    "for i in range(1, 2):\n",
    "    print(f\"Enter details for student {i}:\")\n",
    "    name = input(\"Enter name: \")\n",
    "    roll_no = input(\"Enter roll number: \")\n",
    "    marks1 = int(input(\"Enter Marks for Sub 1: \"))\n",
    "    marks2 = int(input(\"Enter Marks for Sub 2: \"))\n",
    "    marks3 = int(input(\"Enter Marks for Sub 3: \"))\n",
    "    student_info = {\"Name\": name, \"Roll No\": roll_no, \"Marks\": (marks1, marks2, marks3)}\n",
    "    students.append(student_info)\n",
    "tup_of_dicts = tuple(students)\n",
    "print(\"Tuple of dictionaries:\", tup_of_dicts)"
   ]
  },
  {
   "cell_type": "code",
   "execution_count": 86,
   "metadata": {},
   "outputs": [
    {
     "name": "stdout",
     "output_type": "stream",
     "text": [
      "Enter details for hospital 1:\n",
      "Tuple of hospital details: (('dsds', 'sdasda', ('a', 'b', 'c')),)\n"
     ]
    }
   ],
   "source": [
    "hospitals = []\n",
    "for i in range(1, 2):\n",
    "    print(f\"Enter details for hospital {i}:\")\n",
    "    name = input(\"Enter name: \")\n",
    "    address = input(\"Enter address: \")\n",
    "    specialties = input(\"Enter specialties (separated by commas): \")\n",
    "    specialties_list = [specialty.strip() for specialty in specialties.split(\",\")]\n",
    "    hospital_info = (name, address, tuple(specialties_list))\n",
    "    hospitals.append(hospital_info)\n",
    "tup_of_hospitals = tuple(hospitals)\n",
    "print(\"Tuple of hospital details:\", tup_of_hospitals)"
   ]
  },
  {
   "cell_type": "code",
   "execution_count": 2,
   "metadata": {},
   "outputs": [
    {
     "name": "stdout",
     "output_type": "stream",
     "text": [
      "[('praxis', 0), ('is', 1), ('data', 2), ('science', 3), ('institute', 4)]\n"
     ]
    }
   ],
   "source": [
    "sentence = \"praxis is data science institute\"\n",
    "split_sentence = sentence.split(\" \")\n",
    "tuples_list = [(word, index) for index, word in enumerate(split_sentence)]\n",
    "print(tuples_list)"
   ]
  }
 ],
 "metadata": {
  "kernelspec": {
   "display_name": "DMP",
   "language": "python",
   "name": "python3"
  },
  "language_info": {
   "codemirror_mode": {
    "name": "ipython",
    "version": 3
   },
   "file_extension": ".py",
   "mimetype": "text/x-python",
   "name": "python",
   "nbconvert_exporter": "python",
   "pygments_lexer": "ipython3",
   "version": "3.8.18"
  }
 },
 "nbformat": 4,
 "nbformat_minor": 2
}
